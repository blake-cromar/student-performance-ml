{
  "cells": [
    {
      "cell_type": "markdown",
      "metadata": {},
      "source": [
        "# AutoML"
      ]
    },
    {
      "cell_type": "markdown",
      "metadata": {},
      "source": [
        "## Setting Up ML Client"
      ]
    },
    {
      "cell_type": "code",
      "execution_count": 1,
      "metadata": {},
      "outputs": [
        {
          "name": "stderr",
          "output_type": "stream",
          "text": [
            "Found the config file in: /config.json\n"
          ]
        },
        {
          "name": "stdout",
          "output_type": "stream",
          "text": [
            "\n",
            "✅ Azure ML Workspace Loaded Successfully\n",
            "\n",
            "🔑 Subscription ID : 03571d3d-f675-492f-8346-8b04c78ed80f\n",
            "📦 Resource Group  : student-performance-rg\n",
            "🧠 Workspace Name  : student-performance-ws\n",
            "\n"
          ]
        }
      ],
      "source": [
        "from azure.identity import DefaultAzureCredential\n",
        "from azure.ai.ml import MLClient\n",
        "\n",
        "# 🔐 Authenticate and connect to Azure ML workspace\n",
        "credential = DefaultAzureCredential()\n",
        "ml_client = MLClient.from_config(credential=credential)\n",
        "\n",
        "# ✅ Confirm connection\n",
        "print(\"\\n✅ Azure ML Workspace Loaded Successfully\\n\")\n",
        "print(f\"🔑 Subscription ID : {ml_client.subscription_id}\")\n",
        "print(f\"📦 Resource Group  : {ml_client.resource_group_name}\")\n",
        "print(f\"🧠 Workspace Name  : {ml_client.workspace_name}\\n\")"
      ]
    },
    {
      "cell_type": "markdown",
      "metadata": {},
      "source": [
        "## Grabbing the Name of the Storage Account"
      ]
    },
    {
      "cell_type": "code",
      "execution_count": 2,
      "metadata": {},
      "outputs": [
        {
          "name": "stdout",
          "output_type": "stream",
          "text": [
            "\n",
            "📦 Storage Accounts in Resource Group:\n",
            "• studperfstor\n",
            "\n",
            "✅ Using storage account named: studperfstor\n"
          ]
        }
      ],
      "source": [
        "from azure.mgmt.storage import StorageManagementClient\n",
        "\n",
        "subscription_id = ml_client.subscription_id  \n",
        "resource_group = ml_client.resource_group_name\n",
        "\n",
        "storage_client = StorageManagementClient(credential, subscription_id)\n",
        "\n",
        "# List storage accounts in the resource group\n",
        "accounts = list(storage_client.storage_accounts.list_by_resource_group(resource_group))\n",
        "\n",
        "# Check if any accounts exist\n",
        "if not accounts:\n",
        "    raise Exception(\"❌ No storage accounts found in this resource group.\")\n",
        "\n",
        "# Grab the first one\n",
        "storage_account_name = accounts[0].name\n",
        "\n",
        "# ✅ Optional: print them\n",
        "print(\"\\n📦 Storage Accounts in Resource Group:\")\n",
        "for account in accounts:\n",
        "    print(\"•\", account.name)\n",
        "\n",
        "print(f\"\\n✅ Using storage account named: {storage_account_name}\")"
      ]
    },
    {
      "cell_type": "markdown",
      "metadata": {},
      "source": [
        "## Grabbing the Name of the Container with JSON Data"
      ]
    },
    {
      "cell_type": "code",
      "execution_count": 3,
      "metadata": {},
      "outputs": [
        {
          "name": "stdout",
          "output_type": "stream",
          "text": [
            "\n",
            "📁 Blob Containers in the Storage Account (filtered):\n",
            "• student-math-project-files\n",
            "\n",
            "✅ Using container: student-math-project-files\n"
          ]
        }
      ],
      "source": [
        "from azure.storage.blob import BlobServiceClient\n",
        "\n",
        "# Get storage account keys\n",
        "keys = storage_client.storage_accounts.list_keys(resource_group, storage_account_name)\n",
        "storage_key = keys.keys[0].value\n",
        "\n",
        "# Build BlobServiceClient using account name and key\n",
        "account_url = f\"https://{storage_account_name}.blob.core.windows.net\"\n",
        "blob_service_client = BlobServiceClient(account_url=account_url, credential=storage_key)\n",
        "\n",
        "# List all containers and filter\n",
        "print(\"\\n📁 Blob Containers in the Storage Account (filtered):\")\n",
        "filtered_containers = [\n",
        "    container.name for container in blob_service_client.list_containers()\n",
        "    if \"insights\" not in container.name.lower() and \"azureml\" not in container.name.lower()\n",
        "]\n",
        "\n",
        "if not filtered_containers:\n",
        "    raise Exception(\"❌ No user-defined containers found (filtered out 'insights' and 'azureml').\")\n",
        "\n",
        "# Grab the first matching container\n",
        "container_name = filtered_containers[0]\n",
        "\n",
        "# ✅ Output\n",
        "for name in filtered_containers:\n",
        "    print(\"•\", name)\n",
        "\n",
        "print(f\"\\n✅ Using container: {container_name}\")"
      ]
    },
    {
      "cell_type": "markdown",
      "metadata": {},
      "source": [
        "## Locating the Name of the Config File"
      ]
    },
    {
      "cell_type": "code",
      "execution_count": 4,
      "metadata": {},
      "outputs": [
        {
          "name": "stdout",
          "output_type": "stream",
          "text": [
            "\n",
            "📄 Files in Container 'student-math-project-files':\n",
            "• config.json\n",
            "• student-mat.csv\n",
            "\n",
            "✅ Using config file: config.json\n"
          ]
        }
      ],
      "source": [
        "# Create a ContainerClient for the chosen container\n",
        "container_client = blob_service_client.get_container_client(container_name)\n",
        "\n",
        "# Find the first .json blob in the container\n",
        "config_name = None\n",
        "print(f\"\\n📄 Files in Container '{container_name}':\")\n",
        "\n",
        "for blob in container_client.list_blobs():\n",
        "    print(\"•\", blob.name)\n",
        "    if config_name is None and blob.name.lower().endswith(\".json\"):\n",
        "        config_name = blob.name\n",
        "\n",
        "if not config_name:\n",
        "    raise Exception(\"❌ No .json file found in this container.\")\n",
        "\n",
        "print(f\"\\n✅ Using config file: {config_name}\")"
      ]
    },
    {
      "cell_type": "markdown",
      "metadata": {},
      "source": [
        "## Importing Config Information and Saving It In Memory"
      ]
    },
    {
      "cell_type": "code",
      "execution_count": 5,
      "metadata": {},
      "outputs": [
        {
          "name": "stdout",
          "output_type": "stream",
          "text": [
            "\n",
            "📅 Workspace Metadata:\n",
            "  • Created At   : 2025-04-16T15:36:33+0200\n",
            "  • Date         : 16 April 2025\n",
            "  • Time         : 15:36:33 CEST\n",
            "\n",
            "🔐 Azure Configuration:\n",
            "  • Subscription ID      : 03571d3d-f675-492f-8346-8b04c78ed80f\n",
            "  • Resource Group       : student-performance-rg\n",
            "  • Location             : norwayeast\n",
            "  • Auth Mode            : managed_identity\n",
            "  • Managed Identity ID  : a4d92aeb-6282-4e38-8fbb-69806440a455\n",
            "\n",
            "📦 Storage:\n",
            "  • Account Name         : studperfstor\n",
            "  • Container URI        : https://studperfstor.blob.core.windows.net/student-math-project-files\n",
            "\n",
            "🧠 Workspace:\n",
            "  • Workspace Name       : student-performance-ws\n",
            "  • Storage Account ID   : /subscriptions/03571d3d-f675-492f-8346-8b04c78ed80f/resourceGroups/student-performance-rg/providers/Microsoft.Storage/storageAccounts/studperfstor\n",
            "  • Key Vault ID         : /subscriptions/03571d3d-f675-492f-8346-8b04c78ed80f/resourceGroups/student-performance-rg/providers/Microsoft.KeyVault/vaults/studentpkeyvault\n",
            "  • App Insights ID      : /subscriptions/03571d3d-f675-492f-8346-8b04c78ed80f/resourceGroups/student-performance-rg/providers/microsoft.insights/components/studentpappinsights\n",
            "\n",
            "🗃️ Datastore:\n",
            "  • Datastore Name       : studentmathdatastore\n",
            "  • Container Name       : student-math-project-files\n",
            "  • Blob Name            : student-mat.csv\n",
            "\n",
            "📊 Dataset:\n",
            "  • Dataset Name         : student-math\n",
            "  • Version              : 1\n",
            "  • Description          : Student performance data from a Portuguese school.\n",
            "  • URI                  : azureml://datastores/studentmathdatastore/paths/student-math-project-files/student-mat.csv\n",
            "  • Delimiter            : ;\n",
            "  • Encoding             : utf-8\n",
            "  • Has Header           : True\n",
            "\n",
            "🖥️ Compute:\n",
            "  • Compute Name         : notebook-compute\n",
            "  • Compute Size         : Standard_DS1_v2\n",
            "\n"
          ]
        }
      ],
      "source": [
        "import json\n",
        "from azure.storage.blob import BlobClient\n",
        "\n",
        "# === Build blob URL and load JSON ===\n",
        "blob_url = f\"https://{storage_account_name}.blob.core.windows.net/{container_name}/{config_name}\"\n",
        "blob_client = BlobClient.from_blob_url(blob_url, credential=credential)\n",
        "\n",
        "# Download and parse JSON\n",
        "json_bytes = blob_client.download_blob().readall()\n",
        "json_data = json.loads(json_bytes)\n",
        "\n",
        "# === Metadata ===\n",
        "created_at = json_data[\"metadata\"][\"created_at\"]\n",
        "created_year = json_data[\"metadata\"][\"created_year\"]\n",
        "created_month = json_data[\"metadata\"][\"created_month\"]\n",
        "created_day = json_data[\"metadata\"][\"created_day\"]\n",
        "created_time = json_data[\"metadata\"][\"created_time\"]\n",
        "\n",
        "# === Azure Info ===\n",
        "subscription_id = json_data[\"azure\"][\"subscription_id\"]\n",
        "resource_group = json_data[\"azure\"][\"resource_group\"]\n",
        "location = json_data[\"azure\"][\"location\"]\n",
        "storage_account_name = json_data[\"azure\"][\"storage_account_name\"]\n",
        "storage_container_uri = json_data[\"azure\"][\"storage_container_uri\"]\n",
        "managed_identity_principal_id = json_data[\"azure\"][\"managed_identity_principal_id\"]\n",
        "auth_mode = json_data[\"azure\"][\"auth_mode\"]\n",
        "\n",
        "# === Workspace Info ===\n",
        "workspace_name = json_data[\"workspace\"][\"workspace_name\"]\n",
        "storage_account_id = json_data[\"workspace\"][\"storage_account_id\"]\n",
        "key_vault_id = json_data[\"workspace\"][\"key_vault_id\"]\n",
        "app_insights_id = json_data[\"workspace\"][\"application_insights_id\"]\n",
        "\n",
        "# === Datastore Info ===\n",
        "datastore_name = json_data[\"datastore\"][\"datastore_name\"]\n",
        "container_name = json_data[\"datastore\"][\"container_name\"]\n",
        "blob_name = json_data[\"datastore\"][\"blob_name\"]\n",
        "\n",
        "# === Dataset Info ===\n",
        "dataset_name = json_data[\"dataset\"][\"dataset_name\"]\n",
        "dataset_uri = json_data[\"dataset\"][\"dataset_uri\"]\n",
        "dataset_version = json_data[\"dataset\"][\"dataset_version\"]\n",
        "dataset_description = json_data[\"dataset\"][\"dataset_description\"]\n",
        "delimiter = json_data[\"dataset\"][\"delimiter\"]\n",
        "encoding = json_data[\"dataset\"][\"encoding\"]\n",
        "has_header = json_data[\"dataset\"][\"has_header\"]\n",
        "\n",
        "# === Compute Info ===\n",
        "compute_name = json_data[\"compute\"][\"compute_name\"]\n",
        "compute_size = json_data[\"compute\"][\"compute_size\"]\n",
        "\n",
        "# === Pretty Print with Emojis ===\n",
        "print(\"\\n📅 Workspace Metadata:\")\n",
        "print(f\"  • Created At   : {created_at}\")\n",
        "print(f\"  • Date         : {created_day} {created_month} {created_year}\")\n",
        "print(f\"  • Time         : {created_time}\")\n",
        "\n",
        "print(\"\\n🔐 Azure Configuration:\")\n",
        "print(f\"  • Subscription ID      : {subscription_id}\")\n",
        "print(f\"  • Resource Group       : {resource_group}\")\n",
        "print(f\"  • Location             : {location}\")\n",
        "print(f\"  • Auth Mode            : {auth_mode}\")\n",
        "print(f\"  • Managed Identity ID  : {managed_identity_principal_id}\")\n",
        "\n",
        "print(\"\\n📦 Storage:\")\n",
        "print(f\"  • Account Name         : {storage_account_name}\")\n",
        "print(f\"  • Container URI        : {storage_container_uri}\")\n",
        "\n",
        "print(\"\\n🧠 Workspace:\")\n",
        "print(f\"  • Workspace Name       : {workspace_name}\")\n",
        "print(f\"  • Storage Account ID   : {storage_account_id}\")\n",
        "print(f\"  • Key Vault ID         : {key_vault_id}\")\n",
        "print(f\"  • App Insights ID      : {app_insights_id}\")\n",
        "\n",
        "print(\"\\n🗃️ Datastore:\")\n",
        "print(f\"  • Datastore Name       : {datastore_name}\")\n",
        "print(f\"  • Container Name       : {container_name}\")\n",
        "print(f\"  • Blob Name            : {blob_name}\")\n",
        "\n",
        "print(\"\\n📊 Dataset:\")\n",
        "print(f\"  • Dataset Name         : {dataset_name}\")\n",
        "print(f\"  • Version              : {dataset_version}\")\n",
        "print(f\"  • Description          : {dataset_description}\")\n",
        "print(f\"  • URI                  : {dataset_uri}\")\n",
        "print(f\"  • Delimiter            : {delimiter}\")\n",
        "print(f\"  • Encoding             : {encoding}\")\n",
        "print(f\"  • Has Header           : {has_header}\")\n",
        "\n",
        "print(\"\\n🖥️ Compute:\")\n",
        "print(f\"  • Compute Name         : {compute_name}\")\n",
        "print(f\"  • Compute Size         : {compute_size}\\n\")"
      ]
    },
    {
      "cell_type": "markdown",
      "metadata": {},
      "source": [
        "## Importing the Dataset"
      ]
    },
    {
      "cell_type": "code",
      "execution_count": 29,
      "metadata": {},
      "outputs": [
        {
          "name": "stdout",
          "output_type": "stream",
          "text": [
            "\n",
            "📦 Fetching dataset 'student-math' (v1)...\n",
            "📄 Path: azureml://subscriptions/03571d3d-f675-492f-8346-8b04c78ed80f/resourcegroups/student-performance-rg/workspaces/student-performance-ws/datastores/studentmathdatastore/paths/student-mat.csv\n",
            "✅ Dataset loaded successfully!\n",
            "╒════╤══════════╤═══════╤═══════╤═══════════╤═══════════╤═══════════╤════════╤════════╤═════════╤══════════╤══════════╤════════════╤══════════════╤═════════════╤════════════╤═════════════╤══════════╤════════╤══════════════╤═══════════╤══════════╤════════════╤════════════╤══════════╤════════════╤═════════╤════════╤════════╤══════════╤════════════╤══════╕\n",
            "│    │ school   │ sex   │   age │ address   │ famsize   │ Pstatus   │   Medu │   Fedu │ Mjob    │ Fjob     │ reason   │ guardian   │   traveltime │   studytime │   failures │ schoolsup   │ famsup   │ paid   │ activities   │ nursery   │ higher   │ internet   │ romantic   │   famrel │   freetime │   goout │   Dalc │   Walc │   health │   absences │   G3 │\n",
            "╞════╪══════════╪═══════╪═══════╪═══════════╪═══════════╪═══════════╪════════╪════════╪═════════╪══════════╪══════════╪════════════╪══════════════╪═════════════╪════════════╪═════════════╪══════════╪════════╪══════════════╪═══════════╪══════════╪════════════╪════════════╪══════════╪════════════╪═════════╪════════╪════════╪══════════╪════════════╪══════╡\n",
            "│  0 │ GP       │ F     │    18 │ U         │ GT3       │ A         │      4 │      4 │ at_home │ teacher  │ course   │ mother     │            2 │           2 │          0 │ yes         │ no       │ no     │ no           │ yes       │ yes      │ no         │ no         │        4 │          3 │       4 │      1 │      1 │        3 │          6 │    6 │\n",
            "├────┼──────────┼───────┼───────┼───────────┼───────────┼───────────┼────────┼────────┼─────────┼──────────┼──────────┼────────────┼──────────────┼─────────────┼────────────┼─────────────┼──────────┼────────┼──────────────┼───────────┼──────────┼────────────┼────────────┼──────────┼────────────┼─────────┼────────┼────────┼──────────┼────────────┼──────┤\n",
            "│  1 │ GP       │ F     │    17 │ U         │ GT3       │ T         │      1 │      1 │ at_home │ other    │ course   │ father     │            1 │           2 │          0 │ no          │ yes      │ no     │ no           │ no        │ yes      │ yes        │ no         │        5 │          3 │       3 │      1 │      1 │        3 │          4 │    6 │\n",
            "├────┼──────────┼───────┼───────┼───────────┼───────────┼───────────┼────────┼────────┼─────────┼──────────┼──────────┼────────────┼──────────────┼─────────────┼────────────┼─────────────┼──────────┼────────┼──────────────┼───────────┼──────────┼────────────┼────────────┼──────────┼────────────┼─────────┼────────┼────────┼──────────┼────────────┼──────┤\n",
            "│  2 │ GP       │ F     │    15 │ U         │ LE3       │ T         │      1 │      1 │ at_home │ other    │ other    │ mother     │            1 │           2 │          3 │ yes         │ no       │ yes    │ no           │ yes       │ yes      │ yes        │ no         │        4 │          3 │       2 │      2 │      3 │        3 │         10 │   10 │\n",
            "├────┼──────────┼───────┼───────┼───────────┼───────────┼───────────┼────────┼────────┼─────────┼──────────┼──────────┼────────────┼──────────────┼─────────────┼────────────┼─────────────┼──────────┼────────┼──────────────┼───────────┼──────────┼────────────┼────────────┼──────────┼────────────┼─────────┼────────┼────────┼──────────┼────────────┼──────┤\n",
            "│  3 │ GP       │ F     │    15 │ U         │ GT3       │ T         │      4 │      2 │ health  │ services │ home     │ mother     │            1 │           3 │          0 │ no          │ yes      │ yes    │ yes          │ yes       │ yes      │ yes        │ yes        │        3 │          2 │       2 │      1 │      1 │        5 │          2 │   15 │\n",
            "├────┼──────────┼───────┼───────┼───────────┼───────────┼───────────┼────────┼────────┼─────────┼──────────┼──────────┼────────────┼──────────────┼─────────────┼────────────┼─────────────┼──────────┼────────┼──────────────┼───────────┼──────────┼────────────┼────────────┼──────────┼────────────┼─────────┼────────┼────────┼──────────┼────────────┼──────┤\n",
            "│  4 │ GP       │ F     │    16 │ U         │ GT3       │ T         │      3 │      3 │ other   │ other    │ home     │ father     │            1 │           2 │          0 │ no          │ yes      │ yes    │ no           │ yes       │ yes      │ no         │ no         │        4 │          3 │       2 │      1 │      2 │        5 │          4 │   10 │\n",
            "╘════╧══════════╧═══════╧═══════╧═══════════╧═══════════╧═══════════╧════════╧════════╧═════════╧══════════╧══════════╧════════════╧══════════════╧═════════════╧════════════╧═════════════╧══════════╧════════╧══════════════╧═══════════╧══════════╧════════════╧════════════╧══════════╧════════════╧═════════╧════════╧════════╧══════════╧════════════╧══════╛\n"
          ]
        }
      ],
      "source": [
        "import pandas as pd\n",
        "from tabulate import tabulate\n",
        "\n",
        "print(f\"\\n📦 Fetching dataset '{dataset_name}' (v{dataset_version})...\")\n",
        "\n",
        "try:\n",
        "    # SDK v2 style: directly fetch the dataset by name & version\n",
        "    dataset = ml_client.data.get(name=dataset_name, version=dataset_version)\n",
        "\n",
        "    if not dataset.path:\n",
        "        print(\"❌ No accessible path found in data asset.\")\n",
        "    else:\n",
        "        print(f\"📄 Path: {dataset.path}\")\n",
        "        df = pd.read_csv(dataset.path, delimiter=delimiter, encoding=encoding)\n",
        "\n",
        "        # Drop 2nd and 3rd last columns\n",
        "        cols_to_drop = df.columns[-3:-1]\n",
        "        df.drop(columns=cols_to_drop, inplace=True)\n",
        "\n",
        "        print(\"✅ Dataset loaded successfully!\")\n",
        "        print(tabulate(df.head(), headers='keys', tablefmt='fancy_grid'))   \n",
        "except Exception as e:\n",
        "    print(\"❌ Failed to load dataset with pandas.\")\n",
        "    print(\"Error:\", e)"
      ]
    },
    {
      "cell_type": "markdown",
      "metadata": {},
      "source": [
        "## Creating Summary Statistics on the Dataset"
      ]
    },
    {
      "cell_type": "code",
      "execution_count": 30,
      "metadata": {},
      "outputs": [
        {
          "name": "stdout",
          "output_type": "stream",
          "text": [
            "╒════════════╤═════════╤═══════════╤══════════╤═══════╤═══════╤═══════╤═══════╤═══════╕\n",
            "│            │   count │      mean │      std │   min │   25% │   50% │   75% │   max │\n",
            "╞════════════╪═════════╪═══════════╪══════════╪═══════╪═══════╪═══════╪═══════╪═══════╡\n",
            "│ age        │     395 │ 16.6962   │ 1.27604  │    15 │    16 │    17 │    18 │    22 │\n",
            "├────────────┼─────────┼───────────┼──────────┼───────┼───────┼───────┼───────┼───────┤\n",
            "│ Medu       │     395 │  2.74937  │ 1.09474  │     0 │     2 │     3 │     4 │     4 │\n",
            "├────────────┼─────────┼───────────┼──────────┼───────┼───────┼───────┼───────┼───────┤\n",
            "│ Fedu       │     395 │  2.52152  │ 1.0882   │     0 │     2 │     2 │     3 │     4 │\n",
            "├────────────┼─────────┼───────────┼──────────┼───────┼───────┼───────┼───────┼───────┤\n",
            "│ traveltime │     395 │  1.4481   │ 0.697505 │     1 │     1 │     1 │     2 │     4 │\n",
            "├────────────┼─────────┼───────────┼──────────┼───────┼───────┼───────┼───────┼───────┤\n",
            "│ studytime  │     395 │  2.03544  │ 0.83924  │     1 │     1 │     2 │     2 │     4 │\n",
            "├────────────┼─────────┼───────────┼──────────┼───────┼───────┼───────┼───────┼───────┤\n",
            "│ failures   │     395 │  0.334177 │ 0.743651 │     0 │     0 │     0 │     0 │     3 │\n",
            "├────────────┼─────────┼───────────┼──────────┼───────┼───────┼───────┼───────┼───────┤\n",
            "│ famrel     │     395 │  3.9443   │ 0.896659 │     1 │     4 │     4 │     5 │     5 │\n",
            "├────────────┼─────────┼───────────┼──────────┼───────┼───────┼───────┼───────┼───────┤\n",
            "│ freetime   │     395 │  3.23544  │ 0.998862 │     1 │     3 │     3 │     4 │     5 │\n",
            "├────────────┼─────────┼───────────┼──────────┼───────┼───────┼───────┼───────┼───────┤\n",
            "│ goout      │     395 │  3.10886  │ 1.11328  │     1 │     2 │     3 │     4 │     5 │\n",
            "├────────────┼─────────┼───────────┼──────────┼───────┼───────┼───────┼───────┼───────┤\n",
            "│ Dalc       │     395 │  1.48101  │ 0.890741 │     1 │     1 │     1 │     2 │     5 │\n",
            "├────────────┼─────────┼───────────┼──────────┼───────┼───────┼───────┼───────┼───────┤\n",
            "│ Walc       │     395 │  2.29114  │ 1.2879   │     1 │     1 │     2 │     3 │     5 │\n",
            "├────────────┼─────────┼───────────┼──────────┼───────┼───────┼───────┼───────┼───────┤\n",
            "│ health     │     395 │  3.55443  │ 1.3903   │     1 │     3 │     4 │     5 │     5 │\n",
            "├────────────┼─────────┼───────────┼──────────┼───────┼───────┼───────┼───────┼───────┤\n",
            "│ absences   │     395 │  5.70886  │ 8.0031   │     0 │     0 │     4 │     8 │    75 │\n",
            "├────────────┼─────────┼───────────┼──────────┼───────┼───────┼───────┼───────┼───────┤\n",
            "│ G3         │     395 │ 10.4152   │ 4.58144  │     0 │     8 │    11 │    14 │    20 │\n",
            "╘════════════╧═════════╧═══════════╧══════════╧═══════╧═══════╧═══════╧═══════╧═══════╛\n"
          ]
        }
      ],
      "source": [
        "from tabulate import tabulate\n",
        "\n",
        "# Transpose so stats are rows, not columns (optional, for better layout)\n",
        "summary = df.describe().transpose()\n",
        "\n",
        "# Print with headers and index\n",
        "print(tabulate(summary, headers=\"keys\", tablefmt=\"fancy_grid\", showindex=True))"
      ]
    },
    {
      "cell_type": "markdown",
      "metadata": {},
      "source": [
        "## Distribution of G3 Scores"
      ]
    },
    {
      "cell_type": "code",
      "execution_count": 40,
      "metadata": {},
      "outputs": [
        {
          "data": {
            "image/png": "[encoded data removed]",
            "text/plain": [
              "<Figure size 1000x600 with 1 Axes>"
            ]
          },
          "metadata": {},
          "output_type": "display_data"
        },
        {
          "name": "stdout",
          "output_type": "stream",
          "text": [
            "\n",
            "📊 Summary Statistics for G3 (Final Grade):\n",
            "\n",
            "- Mean:                  10.42\n",
            "- Median:                11.0\n",
            "- Mode(s):               10\n",
            "- Standard Deviation:    4.58\n",
            "- Min:                   0\n",
            "- Max:                   20\n",
            "\n",
            "📐 Distribution Shape:\n",
            "- Skewness:              -0.730  (Left-skewed)\n",
            "- Kurtosis:              +0.383  (Leptokurtic)\n",
            "\n",
            "📈 Percentiles:\n",
            "- 10th               5.0\n",
            "- 25th (Q1)          8.0\n",
            "- 50th (Median)      11.0\n",
            "- 75th (Q3)          14.0\n",
            "- 90th               15.600000000000023\n",
            "\n",
            "📊 Performance Breakdown:\n",
            "- Above average:         209 students\n",
            "- Below average:         186 students\n",
            "- Failing (≤ 9):      130\n",
            "- Perfect score (20):    1\n",
            "\n",
            "🚨 Outliers detected:     0 student(s) using IQR method\n"
          ]
        }
      ],
      "source": [
        "import matplotlib.pyplot as plt\n",
        "import numpy as np\n",
        "from scipy import stats\n",
        "\n",
        "# ╔════════════════════════════════════════════════════════════╗\n",
        "# ║                     🎨 G3 HISTOGRAM PLOT                   ║\n",
        "# ╚════════════════════════════════════════════════════════════╝\n",
        "\n",
        "plt.figure(figsize=(10, 6))  # Wider plot\n",
        "\n",
        "# Plot histogram\n",
        "plt.hist(df[\"G3\"], bins=15, edgecolor='white', color='skyblue')\n",
        "\n",
        "# Titles and labels\n",
        "plt.title(\"Distribution of Final Grade (G3)\", fontsize=16, fontweight='bold', pad=15)\n",
        "plt.xlabel(\"G3 Score\", fontsize=12)\n",
        "plt.ylabel(\"Number of Students\", fontsize=12)\n",
        "\n",
        "# Grid & ticks\n",
        "plt.grid(axis='y', linestyle='--', alpha=0.7)\n",
        "plt.xticks(fontsize=10)\n",
        "plt.yticks(fontsize=10)\n",
        "\n",
        "# Tight layout for spacing\n",
        "plt.tight_layout()\n",
        "plt.show()\n",
        "\n",
        "# ╔════════════════════════════════════════════════════════════╗\n",
        "# ║         📊 STATISTICAL SUMMARY OF G3 DISTRIBUTION          ║\n",
        "# ╚════════════════════════════════════════════════════════════╝\n",
        "\n",
        "# Extract G3 column\n",
        "g3 = df[\"G3\"]\n",
        "\n",
        "# Basic stats\n",
        "mean = g3.mean()\n",
        "median = g3.median()\n",
        "mode = g3.mode().values\n",
        "std = g3.std()\n",
        "min_val = g3.min()\n",
        "max_val = g3.max()\n",
        "\n",
        "# Distribution shape\n",
        "skewness = stats.skew(g3)\n",
        "kurtosis = stats.kurtosis(g3)\n",
        "\n",
        "# Percentiles\n",
        "percentiles = {\n",
        "    \"10th\": np.percentile(g3, 10),\n",
        "    \"25th (Q1)\": np.percentile(g3, 25),\n",
        "    \"50th (Median)\": np.percentile(g3, 50),\n",
        "    \"75th (Q3)\": np.percentile(g3, 75),\n",
        "    \"90th\": np.percentile(g3, 90),\n",
        "}\n",
        "\n",
        "# Counts relative to mean\n",
        "above_avg = (g3 > mean).sum()\n",
        "below_avg = (g3 < mean).sum()\n",
        "\n",
        "# Thresholds\n",
        "fail_threshold = 9\n",
        "perfect_score = 20\n",
        "num_failing = (g3 <= fail_threshold).sum()\n",
        "num_perfect = (g3 == perfect_score).sum()\n",
        "\n",
        "# Outlier detection using IQR\n",
        "Q1 = percentiles[\"25th (Q1)\"]\n",
        "Q3 = percentiles[\"75th (Q3)\"]\n",
        "IQR = Q3 - Q1\n",
        "outliers = g3[(g3 < (Q1 - 1.5 * IQR)) | (g3 > (Q3 + 1.5 * IQR))]\n",
        "\n",
        "# Display everything\n",
        "print(\"\\n📊 Summary Statistics for G3 (Final Grade):\\n\")\n",
        "print(f\"- Mean:                  {mean:.2f}\")\n",
        "print(f\"- Median:                {median}\")\n",
        "print(f\"- Mode(s):               {', '.join(map(str, mode))}\")\n",
        "print(f\"- Standard Deviation:    {std:.2f}\")\n",
        "print(f\"- Min:                   {min_val}\")\n",
        "print(f\"- Max:                   {max_val}\")\n",
        "\n",
        "print(\"\\n📐 Distribution Shape:\")\n",
        "print(f\"- Skewness:              {skewness:+.3f}  ({'Right-skewed' if skewness > 0 else 'Left-skewed' if skewness < 0 else 'Symmetrical'})\")\n",
        "print(f\"- Kurtosis:              {kurtosis:+.3f}  ({'Leptokurtic' if kurtosis > 0 else 'Platykurtic' if kurtosis < 0 else 'Mesokurtic'})\")\n",
        "\n",
        "print(\"\\n📈 Percentiles:\")\n",
        "for label, value in percentiles.items():\n",
        "    print(f\"- {label:<18} {value}\")\n",
        "\n",
        "print(\"\\n📊 Performance Breakdown:\")\n",
        "print(f\"- Above average:         {above_avg} students\")\n",
        "print(f\"- Below average:         {below_avg} students\")\n",
        "print(f\"- Failing (≤ {fail_threshold}):      {num_failing}\")\n",
        "print(f\"- Perfect score ({perfect_score}):    {num_perfect}\")\n",
        "\n",
        "print(f\"\\n🚨 Outliers detected:     {len(outliers)} student(s) using IQR method\")"
      ]
    },
    {
      "cell_type": "code",
      "execution_count": 42,
      "metadata": {},
      "outputs": [
        {
          "data": {
            "image/png": "[encoded data removed]",
            "text/plain": [
              "<Figure size 1000x600 with 1 Axes>"
            ]
          },
          "metadata": {},
          "output_type": "display_data"
        },
        {
          "name": "stdout",
          "output_type": "stream",
          "text": [
            "\n",
            "📊 Summary Statistics for G3 (Final Grade):\n",
            "\n",
            "- Mean:                  10.42\n",
            "- Median:                11.0\n",
            "- Mode(s):               10\n",
            "- Standard Deviation:    4.58\n",
            "- Min:                   0\n",
            "- Max:                   20\n",
            "\n",
            "📐 Distribution Shape:\n",
            "- Skewness:              -0.730  (Left-skewed)\n",
            "- Kurtosis:              +0.383  (Leptokurtic)\n",
            "\n",
            "📈 Percentiles:\n",
            "- 10th               5.0\n",
            "- 25th (Q1)          8.0\n",
            "- 50th (Median)      11.0\n",
            "- 75th (Q3)          14.0\n",
            "- 90th               15.600000000000023\n",
            "\n",
            "📊 Performance Breakdown:\n",
            "- Above average:         209 students\n",
            "- Below average:         186 students\n",
            "- Failing (≤ 9):      130\n",
            "- Perfect score (20):    1\n",
            "\n",
            "🚨 Outliers detected:     0 student(s) using IQR method\n"
          ]
        }
      ],
      "source": [
        "import matplotlib.pyplot as plt\n",
        "import numpy as np\n",
        "from scipy import stats\n",
        "\n",
        "# ╔════════════════════════════════════════════════════════════╗\n",
        "# ║                     🎨 G3 HISTOGRAM PLOT                   ║\n",
        "# ╚════════════════════════════════════════════════════════════╝\n",
        "\n",
        "# Extract G3 column\n",
        "g3 = df[\"G3\"]\n",
        "\n",
        "plt.figure(figsize=(10, 6))  # Wider plot\n",
        "\n",
        "# Plot histogram\n",
        "counts, bins, patches = plt.hist(\n",
        "    g3, bins=15, density=True, edgecolor='white', color='skyblue', alpha=0.6, label=\"Histogram\"\n",
        ")\n",
        "\n",
        "# Add KDE curve\n",
        "kde = stats.gaussian_kde(g3)\n",
        "x = np.linspace(g3.min(), g3.max(), 500)\n",
        "plt.plot(x, kde(x), color='darkred', linewidth=2.5, label=\"Smoothed KDE\")\n",
        "\n",
        "# Titles and labels\n",
        "plt.title(\"Distribution of Final Grade (G3)\", fontsize=16, fontweight='bold', pad=15)\n",
        "plt.xlabel(\"G3 Score\", fontsize=12)\n",
        "plt.ylabel(\"Density\", fontsize=12)\n",
        "\n",
        "# Grid & ticks\n",
        "plt.grid(axis='y', linestyle='--', alpha=0.7)\n",
        "plt.xticks(fontsize=10)\n",
        "plt.yticks(fontsize=10)\n",
        "\n",
        "# Legend\n",
        "plt.legend()\n",
        "\n",
        "# Tight layout for spacing\n",
        "plt.tight_layout()\n",
        "plt.show()\n",
        "\n",
        "# ╔════════════════════════════════════════════════════════════╗\n",
        "# ║         📊 STATISTICAL SUMMARY OF G3 DISTRIBUTION          ║\n",
        "# ╚════════════════════════════════════════════════════════════╝\n",
        "\n",
        "# Basic stats\n",
        "mean = g3.mean()\n",
        "median = g3.median()\n",
        "mode = g3.mode().values\n",
        "std = g3.std()\n",
        "min_val = g3.min()\n",
        "max_val = g3.max()\n",
        "\n",
        "# Distribution shape\n",
        "skewness = stats.skew(g3)\n",
        "kurtosis = stats.kurtosis(g3)\n",
        "\n",
        "# Percentiles\n",
        "percentiles = {\n",
        "    \"10th\": np.percentile(g3, 10),\n",
        "    \"25th (Q1)\": np.percentile(g3, 25),\n",
        "    \"50th (Median)\": np.percentile(g3, 50),\n",
        "    \"75th (Q3)\": np.percentile(g3, 75),\n",
        "    \"90th\": np.percentile(g3, 90),\n",
        "}\n",
        "\n",
        "# Counts relative to mean\n",
        "above_avg = (g3 > mean).sum()\n",
        "below_avg = (g3 < mean).sum()\n",
        "\n",
        "# Thresholds\n",
        "fail_threshold = 9\n",
        "perfect_score = 20\n",
        "num_failing = (g3 <= fail_threshold).sum()\n",
        "num_perfect = (g3 == perfect_score).sum()\n",
        "\n",
        "# Outlier detection using IQR\n",
        "Q1 = percentiles[\"25th (Q1)\"]\n",
        "Q3 = percentiles[\"75th (Q3)\"]\n",
        "IQR = Q3 - Q1\n",
        "outliers = g3[(g3 < (Q1 - 1.5 * IQR)) | (g3 > (Q3 + 1.5 * IQR))]\n",
        "\n",
        "# Display everything\n",
        "print(\"\\n📊 Summary Statistics for G3 (Final Grade):\\n\")\n",
        "print(f\"- Mean:                  {mean:.2f}\")\n",
        "print(f\"- Median:                {median}\")\n",
        "print(f\"- Mode(s):               {', '.join(map(str, mode))}\")\n",
        "print(f\"- Standard Deviation:    {std:.2f}\")\n",
        "print(f\"- Min:                   {min_val}\")\n",
        "print(f\"- Max:                   {max_val}\")\n",
        "\n",
        "print(\"\\n📐 Distribution Shape:\")\n",
        "print(f\"- Skewness:              {skewness:+.3f}  ({'Right-skewed' if skewness > 0 else 'Left-skewed' if skewness < 0 else 'Symmetrical'})\")\n",
        "print(f\"- Kurtosis:              {kurtosis:+.3f}  ({'Leptokurtic' if kurtosis > 0 else 'Platykurtic' if kurtosis < 0 else 'Mesokurtic'})\")\n",
        "\n",
        "print(\"\\n📈 Percentiles:\")\n",
        "for label, value in percentiles.items():\n",
        "    print(f\"- {label:<18} {value}\")\n",
        "\n",
        "print(\"\\n📊 Performance Breakdown:\")\n",
        "print(f\"- Above average:         {above_avg} students\")\n",
        "print(f\"- Below average:         {below_avg} students\")\n",
        "print(f\"- Failing (≤ {fail_threshold}):      {num_failing}\")\n",
        "print(f\"- Perfect score ({perfect_score}):    {num_perfect}\")\n",
        "\n",
        "print(f\"\\n🚨 Outliers detected:     {len(outliers)} student(s) using IQR method\")"
      ]
    }
  ],
  "metadata": {
    "kernel_info": {
      "name": "python38-azureml"
    },
    "kernelspec": {
      "display_name": "Python 3.10 - SDK v2",
      "language": "python",
      "name": "python310-sdkv2"
    },
    "language_info": {
      "codemirror_mode": {
        "name": "ipython",
        "version": 3
      },
      "file_extension": ".py",
      "mimetype": "text/x-python",
      "name": "python",
      "nbconvert_exporter": "python",
      "pygments_lexer": "ipython3",
      "version": "3.10.14"
    },
    "microsoft": {
      "host": {
        "AzureML": {
          "notebookHasBeenCompleted": true
        }
      },
      "ms_spell_check": {
        "ms_spell_check_language": "en"
      }
    },
    "nteract": {
      "version": "nteract-front-end@1.0.0"
    }
  },
  "nbformat": 4,
  "nbformat_minor": 2
}
