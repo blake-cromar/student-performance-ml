{
  "cells": [
    {
      "cell_type": "markdown",
      "metadata": {},
      "source": [
        "# AutoML"
      ]
    },
    {
      "cell_type": "markdown",
      "metadata": {},
      "source": [
        "## Imports"
      ]
    },
    {
      "cell_type": "code",
      "execution_count": 6,
      "metadata": {},
      "outputs": [],
      "source": [
        "from azure.identity import DefaultAzureCredential\n",
        "from azure.ai.ml import MLClient\n",
        "import json\n",
        "import pandas as pd\n",
        "from pathlib import Path\n",
        "from azure.ai.ml import MLClient"
      ]
    },
    {
      "cell_type": "markdown",
      "metadata": {},
      "source": [
        "## Setting Up ML Client"
      ]
    },
    {
      "cell_type": "code",
      "execution_count": 7,
      "metadata": {},
      "outputs": [
        {
          "name": "stderr",
          "output_type": "stream",
          "text": [
            "Found the config file in: /config.json\n"
          ]
        },
        {
          "name": "stdout",
          "output_type": "stream",
          "text": [
            "\n",
            "✅ Azure ML Workspace Loaded Successfully\n",
            "\n",
            "🔑 Subscription ID : 03571d3d-f675-492f-8346-8b04c78ed80f\n",
            "📦 Resource Group  : student-performance-rg\n",
            "🧠 Workspace Name  : student-performance-ws\n",
            "\n"
          ]
        }
      ],
      "source": [
        "# 🔐 Authenticate and connect to Azure ML workspace\n",
        "credential = DefaultAzureCredential()\n",
        "ml_client = MLClient.from_config(credential=credential)\n",
        "\n",
        "# ✅ Confirm connection\n",
        "print(\"\\n✅ Azure ML Workspace Loaded Successfully\\n\")\n",
        "print(f\"🔑 Subscription ID : {ml_client.subscription_id}\")\n",
        "print(f\"📦 Resource Group  : {ml_client.resource_group_name}\")\n",
        "print(f\"🧠 Workspace Name  : {ml_client.workspace_name}\\n\")"
      ]
    },
    {
      "cell_type": "markdown",
      "metadata": {},
      "source": [
        "## Grabbing the Name of the Storage Account"
      ]
    },
    {
      "cell_type": "code",
      "execution_count": 11,
      "metadata": {},
      "outputs": [
        {
          "name": "stdout",
          "output_type": "stream",
          "text": [
            "\n",
            "📦 Storage Accounts in Resource Group:\n",
            "• studperfstor\n",
            "\n",
            "✅ Using storage account named: studperfstor\n"
          ]
        }
      ],
      "source": [
        "from azure.mgmt.storage import StorageManagementClient\n",
        "\n",
        "subscription_id = ml_client.subscription_id  \n",
        "resource_group = ml_client.resource_group_name\n",
        "\n",
        "storage_client = StorageManagementClient(credential, subscription_id)\n",
        "\n",
        "# List storage accounts in the resource group\n",
        "accounts = list(storage_client.storage_accounts.list_by_resource_group(resource_group))\n",
        "\n",
        "# Check if any accounts exist\n",
        "if not accounts:\n",
        "    raise Exception(\"❌ No storage accounts found in this resource group.\")\n",
        "\n",
        "# Grab the first one\n",
        "storage_account_name = accounts[0].name\n",
        "\n",
        "# ✅ Optional: print them\n",
        "print(\"\\n📦 Storage Accounts in Resource Group:\")\n",
        "for account in accounts:\n",
        "    print(\"•\", account.name)\n",
        "\n",
        "print(f\"\\n✅ Using storage account named: {storage_account_name}\")"
      ]
    },
    {
      "cell_type": "code",
      "execution_count": 13,
      "metadata": {},
      "outputs": [
        {
          "name": "stdout",
          "output_type": "stream",
          "text": [
            "{\n",
            "  \"metadata\": {\n",
            "    \"created_at\": \"2025-04-16T14:10:33+0200\",\n",
            "    \"created_year\": \"2025\",\n",
            "    \"created_month\": \"April\",\n",
            "    \"created_day\": \"16\",\n",
            "    \"created_time\": \"14:10:33 CEST\"\n",
            "  },\n",
            "  \"azure\": {\n",
            "    \"subscription_id\": \"03571d3d-f675-492f-8346-8b04c78ed80f\",\n",
            "    \"resource_group\": \"student-performance-rg\",\n",
            "    \"location\": \"norwayeast\",\n",
            "    \"storage_account_name\": \"studperfstor\",\n",
            "    \"storage_container_uri\": \"https://studperfstor.blob.core.windows.net/student-math-project-files\",\n",
            "    \"managed_identity_principal_id\": \"46f12569-486b-4ab0-9fa8-de56d3d65640\",\n",
            "    \"auth_mode\": \"managed_identity\"\n",
            "  },\n",
            "  \"workspace\": {\n",
            "    \"workspace_name\": \"student-performance-ws\",\n",
            "    \"storage_account_id\": \"/subscriptions/03571d3d-f675-492f-8346-8b04c78ed80f/resourceGroups/student-performance-rg/providers/Microsoft.Storage/storageAccounts/studperfstor\",\n",
            "    \"key_vault_id\": \"/subscriptions/03571d3d-f675-492f-8346-8b04c78ed80f/resourceGroups/student-performance-rg/providers/Microsoft.KeyVault/vaults/studentpkeyvault\",\n",
            "    \"application_insights_id\": \"/subscriptions/03571d3d-f675-492f-8346-8b04c78ed80f/resourceGroups/student-performance-rg/providers/microsoft.insights/components/studentpappinsights\"\n",
            "  },\n",
            "  \"datastore\": {\n",
            "    \"datastore_name\": \"studentmathdatastore\",\n",
            "    \"container_name\": \"student-math-project-files\",\n",
            "    \"blob_name\": \"student-mat.csv\"\n",
            "  },\n",
            "  \"dataset\": {\n",
            "    \"dataset_name\": \"student-math\",\n",
            "    \"dataset_uri\": \"azureml://datastores/studentmathdatastore/paths/student-math-project-files/student-mat.csv\",\n",
            "    \"dataset_version\": \"1\",\n",
            "    \"dataset_description\": \"Student performance data from a Portuguese school.\",\n",
            "    \"delimiter\": \";\",\n",
            "    \"encoding\": \"utf-8\",\n",
            "    \"has_header\": true\n",
            "  },\n",
            "  \"compute\": {\n",
            "    \"compute_name\": \"notebook-compute\",\n",
            "    \"compute_size\": \"Standard_DS1_v2\"\n",
            "  }\n",
            "}\n"
          ]
        }
      ],
      "source": [
        "import json\n",
        "from azure.identity import DefaultAzureCredential\n",
        "from azure.storage.blob import BlobClient\n",
        "\n",
        "# === Your values ===\n",
        "container_name = \"student-math-project-files\"     # CONTAINER_NAME\n",
        "relative_path = \"config.json\"                     # CONFIG_BLOB_NAME\n",
        "\n",
        "# === Build blob URL and load JSON ===\n",
        "blob_url = f\"https://{storage_account_name}.blob.core.windows.net/{container_name}/{relative_path}\"\n",
        "blob_client = BlobClient.from_blob_url(blob_url, credential=credential)\n",
        "\n",
        "# Download and parse JSON\n",
        "json_bytes = blob_client.download_blob().readall()\n",
        "json_data = json.loads(json_bytes)\n",
        "\n",
        "# ✅ Pretty print JSON\n",
        "print(json.dumps(json_data, indent=2))"
      ]
    }
  ],
  "metadata": {
    "kernel_info": {
      "name": "python38-azureml"
    },
    "kernelspec": {
      "display_name": "Python 3.10 - SDK v2",
      "language": "python",
      "name": "python310-sdkv2"
    },
    "language_info": {
      "codemirror_mode": {
        "name": "ipython",
        "version": 3
      },
      "file_extension": ".py",
      "mimetype": "text/x-python",
      "name": "python",
      "nbconvert_exporter": "python",
      "pygments_lexer": "ipython3",
      "version": "3.10.14"
    },
    "microsoft": {
      "host": {
        "AzureML": {
          "notebookHasBeenCompleted": true
        }
      },
      "ms_spell_check": {
        "ms_spell_check_language": "en"
      }
    },
    "nteract": {
      "version": "nteract-front-end@1.0.0"
    }
  },
  "nbformat": 4,
  "nbformat_minor": 2
}
