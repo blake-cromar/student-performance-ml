{
  "cells": [
    {
      "cell_type": "markdown",
      "source": [
        "# Automated ML\n",
        "\n",
        "TODO: Import Dependencies. In the cell below, import all the dependencies that you will need to complete the project."
      ],
      "metadata": {}
    },
    {
      "cell_type": "code",
      "source": [
        "from azureml.core import Workspace, Experiment, Environment"
      ],
      "outputs": [],
      "execution_count": 41,
      "metadata": {
        "gather": {
          "logged": 1742569559380
        },
        "jupyter": {
          "outputs_hidden": false,
          "source_hidden": false
        },
        "nteract": {
          "transient": {
            "deleting": false
          }
        }
      }
    },
    {
      "cell_type": "markdown",
      "source": [
        "## Dataset\n",
        "\n",
        "### Overview\n",
        "TODO: In this markdown cell, give an overview of the dataset you are using. Also mention the task you will be performing.\n",
        "\n",
        "\n",
        "TODO: Get data. In the cell below, write code to access the data you will be using in this project. Remember that the dataset needs to be external."
      ],
      "metadata": {}
    },
    {
      "cell_type": "code",
      "source": [
        "ws = Workspace.from_config()\n",
        "\n",
        "# choose a name for experiment\n",
        "experiment_name = 'student-math-experiment-automl'\n",
        "\n",
        "experiment=Experiment(ws, experiment_name)\n",
        "\n",
        "# Setting up the enviornment\n",
        "env = Environment.from_existing_conda_environment(name=\"my-captured-notebook-env\", conda_environment_name=\"azureml_py38\")\n",
        "env.register(workspace=ws)"
      ],
      "outputs": [
        {
          "output_type": "stream",
          "name": "stdout",
          "text": "Exporting conda specifications for existing conda environment: azureml_py38\n"
        },
        {
          "output_type": "execute_result",
          "execution_count": 43,
          "data": {
            "text/plain": "{\n    \"assetId\": \"azureml://locations/norwayeast/workspaces/7dcbcfea-228e-4d54-94e2-af79d5ae3fd0/environments/my-captured-notebook-env/versions/1\",\n    \"databricks\": {\n        \"eggLibraries\": [],\n        \"jarLibraries\": [],\n        \"mavenLibraries\": [],\n        \"pypiLibraries\": [],\n        \"rcranLibraries\": []\n    },\n    \"docker\": {\n        \"arguments\": [],\n        \"baseDockerfile\": null,\n        \"baseImage\": \"mcr.microsoft.com/azureml/openmpi4.1.0-ubuntu20.04:20240709.v1\",\n        \"baseImageRegistry\": {\n            \"address\": null,\n            \"password\": null,\n            \"registryIdentity\": null,\n            \"username\": null\n        },\n        \"buildContext\": null,\n        \"enabled\": false,\n        \"platform\": {\n            \"architecture\": \"amd64\",\n            \"os\": \"Linux\"\n        },\n        \"sharedVolumes\": true,\n        \"shmSize\": null\n    },\n    \"environmentVariables\": {\n        \"EXAMPLE_ENV_VAR\": \"EXAMPLE_VALUE\"\n    },\n    \"inferencingStackVersion\": null,\n    \"name\": \"my-captured-notebook-env\",\n    \"python\": {\n        \"baseCondaEnvironment\": null,\n        \"condaDependencies\": {\n            \"channels\": [\n                \"anaconda\",\n                \"conda-forge\",\n                \"defaults\"\n            ],\n            \"dependencies\": [\n                \"_libgcc_mutex=0.1\",\n                \"_openmp_mutex=4.5\",\n                \"argon2-cffi=23.1.0\",\n                \"argon2-cffi-bindings=21.2.0\",\n                \"arrow=1.3.0\",\n                \"asttokens=2.4.1\",\n                \"async-lru=2.0.4\",\n                \"beautifulsoup4=4.12.3\",\n                \"blas=2.124\",\n                \"blas-devel=3.9.0\",\n                \"bleach=6.1.0\",\n                \"brotli=1.0.9\",\n                \"brotli-bin=1.0.9\",\n                \"brotli-python=1.0.9\",\n                \"bzip2=1.0.8\",\n                \"ca-certificates=2024.8.30\",\n                \"cached-property=1.5.2\",\n                \"cached_property=1.5.2\",\n                \"certifi=2024.8.30\",\n                \"charset-normalizer=3.3.2\",\n                \"comm=0.2.2\",\n                \"cudatoolkit=10.1.243\",\n                \"cython=3.0.10\",\n                \"debugpy=1.8.5\",\n                \"decorator=5.1.1\",\n                \"defusedxml=0.7.1\",\n                \"entrypoints=0.4\",\n                \"exceptiongroup=1.2.2\",\n                \"executing=2.1.0\",\n                \"fonttools=4.51.0\",\n                \"fqdn=1.5.1\",\n                \"freetype=2.12.1\",\n                \"future=0.18.3\",\n                \"giflib=5.2.1\",\n                \"h11=0.14.0\",\n                \"h2=4.1.0\",\n                \"hpack=4.0.0\",\n                \"httpcore=1.0.5\",\n                \"hyperframe=6.0.1\",\n                \"icu=75.1\",\n                \"idna=3.7\",\n                \"importlib_metadata=8.5.0\",\n                \"intel-openmp=2022.0.1\",\n                \"isoduration=20.11.0\",\n                \"jinja2=3.1.4\",\n                \"jpeg=9e\",\n                \"json5=0.9.25\",\n                \"jsonpointer=3.0.0\",\n                \"jsonschema=4.23.0\",\n                \"jsonschema-specifications=2023.12.1\",\n                \"jsonschema-with-format-nongpl=4.23.0\",\n                \"jupyter-lsp=2.2.5\",\n                \"jupyter_core=5.7.2\",\n                \"jupyter_events=0.10.0\",\n                \"jupyter_server=2.14.2\",\n                \"jupyter_server_terminals=0.5.3\",\n                \"jupyterlab-plotly-extension=1.0.0\",\n                \"jupyterlab_pygments=0.3.0\",\n                \"jupyterlab_server=2.27.3\",\n                \"keyutils=1.6.1\",\n                \"lcms2=2.15\",\n                \"ld_impl_linux-64=2.38\",\n                \"lerc=4.0.0\",\n                \"libblas=3.9.0\",\n                \"libbrotlicommon=1.0.9\",\n                \"libbrotlidec=1.0.9\",\n                \"libbrotlienc=1.0.9\",\n                \"libcblas=3.9.0\",\n                \"libdeflate=1.17\",\n                \"libedit=3.1.20191231\",\n                \"libffi=3.4.4\",\n                \"libgcc=14.1.0\",\n                \"libgcc-ng=14.1.0\",\n                \"libgfortran=14.1.0\",\n                \"libgfortran-ng=14.1.0\",\n                \"libgfortran5=14.1.0\",\n                \"libgomp=14.1.0\",\n                \"liblapack=3.9.0\",\n                \"liblapacke=3.9.0\",\n                \"libnsl=2.0.1\",\n                \"libopenblas=0.3.27\",\n                \"libpng=1.6.44\",\n                \"libpq=16.4\",\n                \"libprotobuf=3.21.12\",\n                \"libsodium=1.0.20\",\n                \"libsqlite=3.41.2\",\n                \"libstdcxx=14.1.0\",\n                \"libstdcxx-ng=14.1.0\",\n                \"libtiff=4.5.0\",\n                \"libuuid=2.38.1\",\n                \"libuv=1.48.0\",\n                \"libwebp=1.2.4\",\n                \"libwebp-base=1.2.4\",\n                \"libxcb=1.13\",\n                \"libzlib=1.3.1\",\n                \"llvm-openmp=18.1.8\",\n                \"lz4-c=1.9.4\",\n                \"matplotlib-inline=0.1.7\",\n                \"mistune=3.0.2\",\n                \"mkl=2022.2.1\",\n                \"mkl-service=2.4.0\",\n                \"mkl_fft=1.3.8\",\n                \"mkl_random=1.2.4\",\n                \"nbclient=0.10.0\",\n                \"nbconvert-core=7.16.4\",\n                \"nbformat=5.10.4\",\n                \"ncurses=6.5\",\n                \"nest-asyncio=1.6.0\",\n                \"ninja=1.10.2\",\n                \"ninja-base=1.10.2\",\n                \"nodejs=22.9.0\",\n                \"notebook-shim=0.2.4\",\n                \"numpy=1.23.5\",\n                \"numpy-base=1.23.5\",\n                \"openblas=0.3.27\",\n                \"openjpeg=2.5.0\",\n                \"openssl=3.3.2\",\n                \"overrides=7.7.0\",\n                \"packaging=24.1\",\n                \"pexpect=4.9.0\",\n                \"pickleshare=0.7.5\",\n                \"pillow=9.2.0\",\n                \"pip=22.3.1\",\n                \"pkgutil-resolve-name=1.3.10\",\n                \"prometheus_client=0.21.0\",\n                \"prompt-toolkit=3.0.47\",\n                \"prompt_toolkit=3.0.47\",\n                \"psycopg2=2.9.9\",\n                \"pthread-stubs=0.4\",\n                \"ptyprocess=0.7.0\",\n                \"pure_eval=0.2.3\",\n                \"pygments=2.18.0\",\n                \"pyparsing=3.1.2\",\n                \"pysocks=1.7.1\",\n                \"python=3.10.11\",\n                \"python-dateutil=2.9.0post0\",\n                \"python-fastjsonschema=2.20.0\",\n                \"python-json-logger=2.0.7\",\n                \"python_abi=3.10\",\n                \"pyyaml=6.0.1\",\n                \"readline=8.2\",\n                \"referencing=0.35.1\",\n                \"requests=2.32.3\",\n                \"rfc3339-validator=0.1.4\",\n                \"rfc3986-validator=0.1.1\",\n                \"send2trash=1.8.3\",\n                \"setuptools=68.0.0\",\n                \"setuptools-git=1.2\",\n                \"six=1.16.0\",\n                \"sleef=3.7\",\n                \"sniffio=1.3.1\",\n                \"soupsieve=2.5\",\n                \"sqlite=3.41.2\",\n                \"stack_data=0.6.2\",\n                \"tbb=2021.8.0\",\n                \"terminado=0.18.1\",\n                \"tinycss2=1.3.0\",\n                \"tk=8.6.13\",\n                \"tomli=2.0.1\",\n                \"tornado=6.4.1\",\n                \"traitlets=5.14.3\",\n                \"typing_utils=0.1.0\",\n                \"unicodedata2=15.1.0\",\n                \"uri-template=1.3.0\",\n                \"wcwidth=0.2.13\",\n                \"webencodings=0.5.1\",\n                \"websocket-client=1.8.0\",\n                \"wheel=0.41.2\",\n                \"xorg-libxau=1.0.11\",\n                \"xorg-libxdmcp=1.1.3\",\n                \"xz=5.4.6\",\n                \"yaml=0.2.5\",\n                \"zeromq=4.3.5\",\n                \"zlib=1.3.1\",\n                \"zstd=1.5.6\",\n                {\n                    \"pip\": [\n                        \"absl-py==2.1.0\",\n                        \"accelerate==0.33.0\",\n                        \"adal==1.2.7\",\n                        \"adlfs==2024.7.0\",\n                        \"aiofiles==22.1.0\",\n                        \"aiohappyeyeballs==2.3.5\",\n                        \"aiohttp==3.10.1\",\n                        \"aiohttp-cors==0.7.0\",\n                        \"aiosignal==1.3.1\",\n                        \"aiosqlite==0.20.0\",\n                        \"annotated-types==0.7.0\",\n                        \"ansicolors==1.1.8\",\n                        \"antlr4-python3-runtime==4.13.2\",\n                        \"anyio==4.4.0\",\n                        \"applicationinsights==0.11.10\",\n                        \"arch==5.6.0\",\n                        \"argcomplete==3.3.0\",\n                        \"astroid==3.3.3\",\n                        \"astunparse==1.6.3\",\n                        \"async-timeout==4.0.3\",\n                        \"attrs==23.2.0\",\n                        \"autokeras==2.0.0\",\n                        \"autopep8==1.5.5\",\n                        \"azure-appconfiguration==1.1.1\",\n                        \"azure-batch==14.2.0\",\n                        \"azure-cli==2.64.0\",\n                        \"azure-cli-core==2.64.0\",\n                        \"azure-cli-telemetry==1.1.0\",\n                        \"azure-common==1.1.28\",\n                        \"azure-core==1.30.2\",\n                        \"azure-cosmos==3.2.0\",\n                        \"azure-data-tables==12.4.0\",\n                        \"azure-datalake-store==0.0.53\",\n                        \"azure-graphrbac==0.60.0\",\n                        \"azure-identity==1.17.1\",\n                        \"azure-keyvault-administration==4.4.0b2\",\n                        \"azure-keyvault-certificates==4.7.0\",\n                        \"azure-keyvault-keys==4.8.0\",\n                        \"azure-keyvault-secrets==4.7.0\",\n                        \"azure-mgmt-advisor==9.0.0\",\n                        \"azure-mgmt-apimanagement==4.0.0\",\n                        \"azure-mgmt-appconfiguration==3.0.0\",\n                        \"azure-mgmt-appcontainers==2.0.0\",\n                        \"azure-mgmt-applicationinsights==1.0.0\",\n                        \"azure-mgmt-authorization==4.0.0\",\n                        \"azure-mgmt-batch==17.3.0\",\n                        \"azure-mgmt-batchai==7.0.0b1\",\n                        \"azure-mgmt-billing==6.0.0\",\n                        \"azure-mgmt-botservice==2.0.0\",\n                        \"azure-mgmt-cdn==12.0.0\",\n                        \"azure-mgmt-cognitiveservices==13.5.0\",\n                        \"azure-mgmt-compute==33.0.0\",\n                        \"azure-mgmt-containerinstance==10.1.0\",\n                        \"azure-mgmt-containerregistry==10.3.0\",\n                        \"azure-mgmt-containerservice==31.0.0\",\n                        \"azure-mgmt-core==1.4.0\",\n                        \"azure-mgmt-cosmosdb==9.5.1\",\n                        \"azure-mgmt-databoxedge==1.0.0\",\n                        \"azure-mgmt-datalake-nspkg==3.0.1\",\n                        \"azure-mgmt-datalake-store==0.5.0\",\n                        \"azure-mgmt-datamigration==10.0.0\",\n                        \"azure-mgmt-devtestlabs==4.0.0\",\n                        \"azure-mgmt-dns==8.0.0\",\n                        \"azure-mgmt-eventgrid==10.2.0b2\",\n                        \"azure-mgmt-eventhub==10.1.0\",\n                        \"azure-mgmt-extendedlocation==1.0.0b2\",\n                        \"azure-mgmt-hdinsight==9.0.0b3\",\n                        \"azure-mgmt-imagebuilder==1.3.0\",\n                        \"azure-mgmt-iotcentral==10.0.0b2\",\n                        \"azure-mgmt-iothub==3.0.0\",\n                        \"azure-mgmt-iothubprovisioningservices==1.1.0\",\n                        \"azure-mgmt-keyvault==10.3.0\",\n                        \"azure-mgmt-kusto==0.3.0\",\n                        \"azure-mgmt-loganalytics==13.0.0b4\",\n                        \"azure-mgmt-managedservices==1.0.0\",\n                        \"azure-mgmt-managementgroups==1.0.0\",\n                        \"azure-mgmt-maps==2.0.0\",\n                        \"azure-mgmt-marketplaceordering==1.1.0\",\n                        \"azure-mgmt-media==9.0.0\",\n                        \"azure-mgmt-monitor==5.0.1\",\n                        \"azure-mgmt-msi==7.0.0\",\n                        \"azure-mgmt-netapp==10.1.0\",\n                        \"azure-mgmt-network==25.1.0\",\n                        \"azure-mgmt-nspkg==3.0.2\",\n                        \"azure-mgmt-policyinsights==1.1.0b4\",\n                        \"azure-mgmt-privatedns==1.0.0\",\n                        \"azure-mgmt-rdbms==10.2.0b17\",\n                        \"azure-mgmt-recoveryservices==3.0.0\",\n                        \"azure-mgmt-recoveryservicesbackup==9.1.0\",\n                        \"azure-mgmt-redhatopenshift==1.5.0\",\n                        \"azure-mgmt-redis==14.4.0\",\n                        \"azure-mgmt-resource==23.1.1\",\n                        \"azure-mgmt-search==9.1.0\",\n                        \"azure-mgmt-security==6.0.0\",\n                        \"azure-mgmt-servicebus==8.2.0\",\n                        \"azure-mgmt-servicefabric==2.1.0\",\n                        \"azure-mgmt-servicefabricmanagedclusters==2.0.0b6\",\n                        \"azure-mgmt-servicelinker==1.2.0b2\",\n                        \"azure-mgmt-signalr==2.0.0b1\",\n                        \"azure-mgmt-sql==4.0.0b17\",\n                        \"azure-mgmt-sqlvirtualmachine==1.0.0b5\",\n                        \"azure-mgmt-storage==21.2.0\",\n                        \"azure-mgmt-synapse==2.1.0b5\",\n                        \"azure-mgmt-trafficmanager==1.0.0\",\n                        \"azure-mgmt-web==7.2.0\",\n                        \"azure-monitor-query==1.2.0\",\n                        \"azure-multiapi-storage==1.3.0\",\n                        \"azure-nspkg==3.0.2\",\n                        \"azure-storage-blob==12.13.0\",\n                        \"azure-storage-common==1.4.2\",\n                        \"azure-storage-queue==12.11.0\",\n                        \"azure-synapse-accesscontrol==0.5.0\",\n                        \"azure-synapse-artifacts==0.19.0\",\n                        \"azure-synapse-managedprivateendpoints==0.4.0\",\n                        \"azure-synapse-spark==0.2.0\",\n                        \"azureml-accel-models==1.57.0\",\n                        \"azureml-automl-core==1.57.0\",\n                        \"azureml-automl-dnn-nlp==1.57.0\",\n                        \"azureml-automl-runtime==1.57.0\",\n                        \"azureml-cli-common==1.57.0\",\n                        \"azureml-contrib-automl-pipeline-steps==1.57.0\",\n                        \"azureml-contrib-dataset==1.57.0\",\n                        \"azureml-contrib-fairness==1.57.0\",\n                        \"azureml-contrib-notebook==1.57.0\",\n                        \"azureml-contrib-pipeline-steps==1.57.0\",\n                        \"azureml-contrib-reinforcementlearning==1.57.0\",\n                        \"azureml-contrib-server==1.57.0\",\n                        \"azureml-contrib-services==1.57.0\",\n                        \"azureml-core==1.57.0\",\n                        \"azureml-datadrift==1.57.0\",\n                        \"azureml-dataprep==5.1.6\",\n                        \"azureml-dataprep-native==41.0.0\",\n                        \"azureml-dataprep-rslex==2.22.2\",\n                        \"azureml-dataset-runtime==1.57.0\",\n                        \"azureml-defaults==1.57.0\",\n                        \"azureml-fsspec==1.3.1\",\n                        \"azureml-inference-server-http==1.4.0\",\n                        \"azureml-interpret==1.57.0\",\n                        \"azureml-mlflow==1.57.0\",\n                        \"azureml-opendatasets==1.57.0\",\n                        \"azureml-pipeline==1.57.0\",\n                        \"azureml-pipeline-core==1.57.0\",\n                        \"azureml-pipeline-steps==1.57.0\",\n                        \"azureml-responsibleai==1.57.0\",\n                        \"azureml-sdk==1.57.0\",\n                        \"azureml-telemetry==1.57.0\",\n                        \"azureml-tensorboard==1.57.0\",\n                        \"azureml-train==1.57.0\",\n                        \"azureml-train-automl==1.57.0\",\n                        \"azureml-train-automl-client==1.57.0\",\n                        \"azureml-train-automl-runtime==1.57.0\",\n                        \"azureml-train-core==1.57.0\",\n                        \"azureml-train-restclients-hyperdrive==1.57.0\",\n                        \"azureml-training-tabular==1.57.0\",\n                        \"azureml-widgets==1.57.0\",\n                        \"babel==2.15.0\",\n                        \"backports-tempfile==1.0\",\n                        \"backports-weakref==1.0.post1\",\n                        \"bcrypt==4.2.0\",\n                        \"bidict==0.23.1\",\n                        \"blinker==1.8.2\",\n                        \"blis==0.7.11\",\n                        \"bokeh==2.4.3\",\n                        \"boto3==1.20.19\",\n                        \"botocore==1.23.19\",\n                        \"bottleneck==1.4.0\",\n                        \"cachetools==5.4.0\",\n                        \"catalogue==2.0.10\",\n                        \"cffi==1.16.0\",\n                        \"chardet==5.2.0\",\n                        \"click==8.1.7\",\n                        \"cloudpathlib==0.16.0\",\n                        \"cloudpickle==2.2.1\",\n                        \"cmdstanpy==1.1.0\",\n                        \"colorama==0.4.6\",\n                        \"coloredlogs==15.0.1\",\n                        \"colorful==0.5.6\",\n                        \"confection==0.1.5\",\n                        \"contextlib2==21.6.0\",\n                        \"contourpy==1.2.1\",\n                        \"convertdate==2.4.0\",\n                        \"coremltools==2.1.0\",\n                        \"cramjam==2.8.3\",\n                        \"cryptography==38.0.4\",\n                        \"cycler==0.12.1\",\n                        \"cymem==2.0.8\",\n                        \"dask==2023.2.0\",\n                        \"dask-expr==1.1.14\",\n                        \"dask-sql==2024.5.0\",\n                        \"databricks-sdk==0.29.0\",\n                        \"dataclasses==0.6\",\n                        \"datasets==2.16.1\",\n                        \"deprecated==1.2.14\",\n                        \"dice-ml==0.11\",\n                        \"dill==0.3.7\",\n                        \"distlib==0.3.8\",\n                        \"distributed==2023.2.0\",\n                        \"distro==1.9.0\",\n                        \"dm-tree==0.1.8\",\n                        \"docker==7.1.0\",\n                        \"dotnetcore2==3.1.23\",\n                        \"econml==0.15.1\",\n                        \"en-core-web-sm==3.7.1\",\n                        \"encrypted-inference==0.9\",\n                        \"ephem==4.1.5\",\n                        \"erroranalysis==0.5.4\",\n                        \"fabric==3.2.2\",\n                        \"fairlearn==0.7.0\",\n                        \"farama-notifications==0.0.4\",\n                        \"fastai==1.0.61\",\n                        \"fastapi==0.115.0\",\n                        \"fastparquet==2024.5.0\",\n                        \"fastprogress==1.0.3\",\n                        \"filelock==3.15.4\",\n                        \"fire==0.6.0\",\n                        \"flake8==3.8.4\",\n                        \"flask==3.0.3\",\n                        \"flask-cors==5.0.0\",\n                        \"flask-socketio==5.3.7\",\n                        \"flatbuffers==24.3.25\",\n                        \"frozenlist==1.4.1\",\n                        \"fsspec==2023.10.0\",\n                        \"fusepy==3.0.1\",\n                        \"gast==0.6.0\",\n                        \"gensim==4.3.2\",\n                        \"gevent==24.2.1\",\n                        \"gitdb==4.0.11\",\n                        \"gitpython==3.1.43\",\n                        \"google-api-core==2.19.1\",\n                        \"google-auth==2.32.0\",\n                        \"google-auth-oauthlib==1.2.1\",\n                        \"google-pasta==0.2.0\",\n                        \"googleapis-common-protos==1.63.2\",\n                        \"greenlet==3.1.1\",\n                        \"grpcio==1.65.4\",\n                        \"gunicorn==23.0.0\",\n                        \"gym==0.23.1\",\n                        \"gym-notices==0.0.8\",\n                        \"gymnasium==0.28.1\",\n                        \"h5py==3.11.0\",\n                        \"holidays==0.29\",\n                        \"httpx==0.27.0\",\n                        \"huggingface-hub==0.24.5\",\n                        \"humanfriendly==10.0\",\n                        \"imageio==2.35.1\",\n                        \"importlib-metadata==7.2.1\",\n                        \"importlib-resources==6.4.0\",\n                        \"inference-schema==1.8\",\n                        \"interpret-community==0.31.0\",\n                        \"interpret-core==0.5.0\",\n                        \"invoke==2.2.0\",\n                        \"ipykernel==6.22.0\",\n                        \"ipython==8.26.0\",\n                        \"ipython-genutils==0.2.0\",\n                        \"ipywidgets==7.7.1\",\n                        \"isodate==0.6.1\",\n                        \"isort==5.13.2\",\n                        \"itsdangerous==2.1.2\",\n                        \"javaproperties==0.5.2\",\n                        \"jax-jumpy==1.0.0\",\n                        \"jedi==0.17.2\",\n                        \"jeepney==0.8.0\",\n                        \"jmespath==0.10.0\",\n                        \"joblib==1.2.0\",\n                        \"jsondiff==2.0.0\",\n                        \"jsonpickle==3.2.2\",\n                        \"jupyter==1.1.1\",\n                        \"jupyter-client==7.4.9\",\n                        \"jupyter-console==6.6.3\",\n                        \"jupyter-resource-usage==0.7.2\",\n                        \"jupyter-server==2.13.0\",\n                        \"jupyter-server-fileid==0.9.3\",\n                        \"jupyter-server-mathjax==0.2.6\",\n                        \"jupyter-server-ydoc==0.8.0\",\n                        \"jupyter-ydoc==0.2.5\",\n                        \"jupyterlab==3.6.8\",\n                        \"jupyterlab-nvdashboard==0.11.0\",\n                        \"jupyterlab-system-monitor==0.8.0\",\n                        \"jupyterlab-topbar==0.6.1\",\n                        \"jupyterlab-widgets==1.1.9\",\n                        \"jupytext==1.16.4\",\n                        \"kagglehub==0.3.0\",\n                        \"keras==3.5.0\",\n                        \"keras-nlp==0.15.1\",\n                        \"keras-tuner==1.4.7\",\n                        \"keras2onnx==1.6.0\",\n                        \"kiwisolver==1.4.5\",\n                        \"knack==0.11.0\",\n                        \"krb5==0.6.0\",\n                        \"kt-legacy==1.0.5\",\n                        \"langcodes==3.4.0\",\n                        \"language-data==1.2.0\",\n                        \"lazy-loader==0.4\",\n                        \"liac-arff==2.5.0\",\n                        \"libclang==18.1.1\",\n                        \"lightgbm==3.2.1\",\n                        \"linkify-it-py==2.0.3\",\n                        \"llvmlite==0.39.1\",\n                        \"locket==1.0.0\",\n                        \"lunarcalendar==0.0.9\",\n                        \"lz4==4.3.3\",\n                        \"marisa-trie==1.2.0\",\n                        \"markdown==3.7\",\n                        \"markdown-it-py==3.0.0\",\n                        \"markupsafe==2.1.5\",\n                        \"matplotlib==3.6.3\",\n                        \"mccabe==0.6.1\",\n                        \"mdit-py-plugins==0.4.2\",\n                        \"mdurl==0.1.2\",\n                        \"memray==1.14.0\",\n                        \"ml-dtypes==0.5.0\",\n                        \"ml-wrappers==0.5.5\",\n                        \"mlflow-skinny==2.15.0\",\n                        \"mpmath==1.3.0\",\n                        \"msal==1.30.0\",\n                        \"msal-extensions==1.2.0\",\n                        \"msgpack==1.0.8\",\n                        \"msrest==0.7.1\",\n                        \"msrestazure==0.6.4.post1\",\n                        \"multidict==6.0.5\",\n                        \"multiprocess==0.70.15\",\n                        \"murmurhash==1.0.10\",\n                        \"namex==0.0.8\",\n                        \"nbclassic==1.1.0\",\n                        \"nbdime==4.0.2\",\n                        \"ndg-httpsclient==0.5.1\",\n                        \"networkx==3.3\",\n                        \"notebook==6.5.7\",\n                        \"numba==0.56.4\",\n                        \"numexpr==2.10.1\",\n                        \"nvidia-cublas-cu12==12.1.3.1\",\n                        \"nvidia-cuda-cupti-cu12==12.1.105\",\n                        \"nvidia-cuda-nvrtc-cu12==12.1.105\",\n                        \"nvidia-cuda-runtime-cu12==12.1.105\",\n                        \"nvidia-cudnn-cu12==9.1.0.70\",\n                        \"nvidia-cufft-cu12==11.0.2.54\",\n                        \"nvidia-curand-cu12==10.3.2.106\",\n                        \"nvidia-cusolver-cu12==11.4.5.107\",\n                        \"nvidia-cusparse-cu12==12.1.0.106\",\n                        \"nvidia-ml-py3==7.352.0\",\n                        \"nvidia-nccl-cu12==2.20.5\",\n                        \"nvidia-nvjitlink-cu12==12.6.68\",\n                        \"nvidia-nvtx-cu12==12.1.105\",\n                        \"oauthlib==3.2.2\",\n                        \"onnx==1.16.1\",\n                        \"onnxconverter-common==1.13.0\",\n                        \"onnxmltools==1.11.2\",\n                        \"onnxruntime==1.17.3\",\n                        \"opencensus==0.11.4\",\n                        \"opencensus-context==0.1.3\",\n                        \"opencensus-ext-azure==1.1.13\",\n                        \"opencv-python==4.10.0.84\",\n                        \"opentelemetry-api==1.26.0\",\n                        \"opentelemetry-sdk==1.26.0\",\n                        \"opentelemetry-semantic-conventions==0.47b0\",\n                        \"opt-einsum==3.3.0\",\n                        \"optree==0.12.1\",\n                        \"pandas==1.3.5\",\n                        \"pandas-ml==0.6.1\",\n                        \"pandocfilters==1.5.1\",\n                        \"papermill==2.6.0\",\n                        \"paramiko==3.4.0\",\n                        \"parso==0.7.1\",\n                        \"partd==1.4.2\",\n                        \"pathspec==0.12.1\",\n                        \"patsy==0.5.6\",\n                        \"pkginfo==1.11.1\",\n                        \"platformdirs==4.2.2\",\n                        \"plotly==5.24.1\",\n                        \"pluggy==1.5.0\",\n                        \"pmdarima==1.8.5\",\n                        \"portalocker==2.10.1\",\n                        \"preshed==3.0.9\",\n                        \"prometheus-client==0.20.0\",\n                        \"property-cached==1.6.4\",\n                        \"prophet==1.1.4\",\n                        \"proto-plus==1.24.0\",\n                        \"protobuf==3.20.3\",\n                        \"psutil==5.9.3\",\n                        \"py-spy==0.3.14\",\n                        \"py4j==0.10.9.5\",\n                        \"pyarrow==14.0.2\",\n                        \"pyarrow-hotfix==0.6\",\n                        \"pyasn1==0.6.0\",\n                        \"pyasn1-modules==0.4.0\",\n                        \"pycocotools==2.0\",\n                        \"pycodestyle==2.6.0\",\n                        \"pycomposefile==0.0.31\",\n                        \"pycparser==2.22\",\n                        \"pydantic==2.9.2\",\n                        \"pydantic-core==2.23.4\",\n                        \"pydantic-settings==2.4.0\",\n                        \"pydocstyle==6.3.0\",\n                        \"pyflakes==2.2.0\",\n                        \"pygithub==1.59.1\",\n                        \"pyjwt==2.4.0\",\n                        \"pylint==3.3.0\",\n                        \"pymeeus==0.5.12\",\n                        \"pynacl==1.5.0\",\n                        \"pynvml==11.5.3\",\n                        \"pyodbc==5.1.0\",\n                        \"pyopenssl==23.0.0\",\n                        \"pyreadline3==3.4.1\",\n                        \"pyspark==3.3.1\",\n                        \"python-dotenv==1.0.1\",\n                        \"python-engineio==4.9.1\",\n                        \"python-jsonrpc-server==0.4.0\",\n                        \"python-language-server==0.35.0\",\n                        \"python-snappy==0.7.3\",\n                        \"python-socketio==5.11.4\",\n                        \"pytoolconfig==1.3.1\",\n                        \"pytorch-transformers==1.0.0\",\n                        \"pytz==2022.5\",\n                        \"pyzmq==26.1.0\",\n                        \"qtconsole==5.6.0\",\n                        \"qtpy==2.4.1\",\n                        \"quantlib==1.35\",\n                        \"rai-core-flask==0.7.6\",\n                        \"raiutils==0.4.2\",\n                        \"raiwidgets==0.36.0\",\n                        \"ray==2.31.0\",\n                        \"regex==2024.7.24\",\n                        \"requests-oauthlib==2.0.0\",\n                        \"responsibleai==0.36.0\",\n                        \"rich==13.8.1\",\n                        \"rope==1.13.0\",\n                        \"rpds-py==0.19.1\",\n                        \"rsa==4.9\",\n                        \"s3transfer==0.5.2\",\n                        \"safetensors==0.4.4\",\n                        \"scikit-image==0.24.0\",\n                        \"scikit-learn==1.5.1\",\n                        \"scipy==1.10.1\",\n                        \"scp==0.13.6\",\n                        \"scrapbook==0.5.0\",\n                        \"seaborn==0.13.2\",\n                        \"secretstorage==3.3.3\",\n                        \"semver==2.13.0\",\n                        \"sentencepiece==0.2.0\",\n                        \"seqeval==1.2.2\",\n                        \"shap==0.43.0\",\n                        \"simple-websocket==1.0.0\",\n                        \"skl2onnx==1.15.0\",\n                        \"sklearn-pandas==1.7.0\",\n                        \"slicer==0.0.7\",\n                        \"smart-open==6.4.0\",\n                        \"smmap==5.0.1\",\n                        \"snowballstemmer==2.2.0\",\n                        \"sortedcontainers==2.4.0\",\n                        \"spacy==3.7.4\",\n                        \"spacy-legacy==3.0.12\",\n                        \"spacy-loggers==1.0.5\",\n                        \"sparse==0.15.4\",\n                        \"sqlparse==0.5.1\",\n                        \"srsly==2.4.8\",\n                        \"sshtunnel==0.1.5\",\n                        \"stack-data==0.6.3\",\n                        \"starlette==0.38.6\",\n                        \"statsmodels==0.13.5\",\n                        \"sympy==1.13.1\",\n                        \"tabulate==0.9.0\",\n                        \"tblib==3.0.0\",\n                        \"tenacity==9.0.0\",\n                        \"tensorboard==2.17.1\",\n                        \"tensorboard-data-server==0.7.2\",\n                        \"tensorboard-plugin-wit==1.8.1\",\n                        \"tensorboardx==2.6.2.2\",\n                        \"tensorflow==2.17.0\",\n                        \"tensorflow-estimator==2.15.0\",\n                        \"tensorflow-io-gcs-filesystem==0.37.1\",\n                        \"tensorflow-text==2.17.0\",\n                        \"termcolor==2.4.0\",\n                        \"textual==0.79.1\",\n                        \"thinc==8.2.5\",\n                        \"threadpoolctl==3.5.0\",\n                        \"tifffile==2024.9.20\",\n                        \"tokenizers==0.15.2\",\n                        \"toml==0.10.2\",\n                        \"tomlkit==0.13.2\",\n                        \"toolz==0.12.1\",\n                        \"torch==2.4.1\",\n                        \"torch-tb-profiler==0.4.3\",\n                        \"torchaudio==2.4.1\",\n                        \"torchvision==0.19.1\",\n                        \"tqdm==4.66.4\",\n                        \"transformers==4.36.2\",\n                        \"triton==3.0.0\",\n                        \"typer==0.9.4\",\n                        \"types-python-dateutil==2.9.0.20240316\",\n                        \"typing-extensions==4.12.2\",\n                        \"tzdata==2024.1\",\n                        \"tzlocal==5.2\",\n                        \"uc-micro-py==1.0.3\",\n                        \"ujson==5.10.0\",\n                        \"urllib3==1.26.19\",\n                        \"uuid==1.30\",\n                        \"uvicorn==0.30.6\",\n                        \"virtualenv==20.26.5\",\n                        \"waitress==2.1.2\",\n                        \"wasabi==1.1.3\",\n                        \"weasel==0.3.4\",\n                        \"webcolors==24.6.0\",\n                        \"websockets==13.1\",\n                        \"werkzeug==3.0.3\",\n                        \"widgetsnbextension==3.6.8\",\n                        \"wrapt==1.14.1\",\n                        \"wsproto==1.2.0\",\n                        \"xgboost==1.5.2\",\n                        \"xmltodict==0.13.0\",\n                        \"xxhash==3.4.1\",\n                        \"y-py==0.6.2\",\n                        \"yapf==0.40.2\",\n                        \"yarl==1.9.4\",\n                        \"ypy-websocket==0.8.4\",\n                        \"zict==3.0.0\",\n                        \"zipp==3.19.2\",\n                        \"zope-event==5.0\",\n                        \"zope-interface==7.0.3\"\n                    ]\n                }\n            ],\n            \"name\": \"azureml_py38\",\n            \"prefix\": \"/anaconda/envs/azureml_py38\"\n        },\n        \"condaDependenciesFile\": null,\n        \"interpreterPath\": \"python\",\n        \"userManagedDependencies\": false\n    },\n    \"r\": null,\n    \"spark\": {\n        \"packages\": [],\n        \"precachePackages\": true,\n        \"repositories\": []\n    },\n    \"version\": \"1\"\n}"
          },
          "metadata": {}
        }
      ],
      "execution_count": 43,
      "metadata": {
        "gather": {
          "logged": 1742569649763
        },
        "jupyter": {
          "outputs_hidden": false,
          "source_hidden": false
        },
        "nteract": {
          "transient": {
            "deleting": false
          }
        }
      }
    },
    {
      "cell_type": "markdown",
      "source": [
        "## AutoML Configuration\n",
        "\n",
        "TODO: Explain why you chose the automl settings and cofiguration you used below."
      ],
      "metadata": {}
    },
    {
      "cell_type": "code",
      "source": [
        "from azureml.core import Dataset\n",
        "\n",
        "# Load dataset from Azure ML workspace\n",
        "df = Dataset.get_by_name(workspace=ws, name=\"student-math\")\n"
      ],
      "outputs": [],
      "execution_count": 3,
      "metadata": {
        "gather": {
          "logged": 1742563376711
        }
      }
    },
    {
      "cell_type": "code",
      "source": [
        "from azureml.train.automl import AutoMLConfig\n",
        "\n",
        "# TODO: Put your automl settings here\n",
        "automl_settings = {\n",
        "    \"experiment_timeout_minutes\": 15,  \n",
        "    \"primary_metric\": \"normalized_mean_absolute_error\",  \n",
        "    \"n_cross_validations\": 5, \n",
        "}\n",
        "\n",
        "# TODO: Put your automl config here\n",
        "automl_config = AutoMLConfig(\n",
        "    task=\"regression\",  \n",
        "    training_data=df,  \n",
        "    label_column_name=\"G3\", \n",
        "    compute_target=\"notebook-compute\", \n",
        "    enable_early_stopping=True,\n",
        "    featurization=\"auto\",  \n",
        "    **automl_settings\n",
        ") "
      ],
      "outputs": [],
      "execution_count": 4,
      "metadata": {
        "gather": {
          "logged": 1742563376775
        },
        "jupyter": {
          "outputs_hidden": false,
          "source_hidden": false
        },
        "nteract": {
          "transient": {
            "deleting": false
          }
        }
      }
    },
    {
      "cell_type": "code",
      "source": [
        "# TODO: Submit your experiment\n",
        "remote_run = experiment.submit(automl_config)\n",
        "remote_run.wait_for_completion(show_output=True)"
      ],
      "outputs": [
        {
          "output_type": "stream",
          "name": "stdout",
          "text": "Submitting remote run.\n"
        },
        {
          "output_type": "display_data",
          "data": {
            "text/html": "<table style=\"width:100%\"><tr><th>Experiment</th><th>Id</th><th>Type</th><th>Status</th><th>Details Page</th><th>Docs Page</th></tr><tr><td>student-math-experiment</td><td>AutoML_e7050916-dc17-4463-9557-6052ab249c0f</td><td>automl</td><td>NotStarted</td><td><a href=\"https://ml.azure.com/runs/AutoML_e7050916-dc17-4463-9557-6052ab249c0f?wsid=/subscriptions/48778e11-0fc7-4fc8-a16c-304a430e61a4/resourcegroups/student-performance-rg/workspaces/student-performance-ws&amp;tid=f804f881-90d8-4e7d-8309-7fb565eaaf2c\" target=\"_blank\" rel=\"noopener\">Link to Azure Machine Learning studio</a></td><td><a href=\"https://docs.microsoft.com/en-us/python/api/overview/azure/ml/intro?view=azure-ml-py\" target=\"_blank\" rel=\"noopener\">Link to Documentation</a></td></tr></table>"
          },
          "metadata": {}
        },
        {
          "output_type": "display_data",
          "data": {
            "text/html": "<table style=\"width:100%\"><tr><th>Experiment</th><th>Id</th><th>Type</th><th>Status</th><th>Details Page</th><th>Docs Page</th></tr><tr><td>student-math-experiment</td><td>AutoML_e7050916-dc17-4463-9557-6052ab249c0f</td><td>automl</td><td>NotStarted</td><td><a href=\"https://ml.azure.com/runs/AutoML_e7050916-dc17-4463-9557-6052ab249c0f?wsid=/subscriptions/48778e11-0fc7-4fc8-a16c-304a430e61a4/resourcegroups/student-performance-rg/workspaces/student-performance-ws&amp;tid=f804f881-90d8-4e7d-8309-7fb565eaaf2c\" target=\"_blank\" rel=\"noopener\">Link to Azure Machine Learning studio</a></td><td><a href=\"https://docs.microsoft.com/en-us/python/api/overview/azure/ml/intro?view=azure-ml-py\" target=\"_blank\" rel=\"noopener\">Link to Documentation</a></td></tr></table>"
          },
          "metadata": {}
        },
        {
          "output_type": "stream",
          "name": "stdout",
          "text": "\nCurrent status: FeaturesGeneration. Generating features for the dataset.\nCurrent status: DatasetCrossValidationSplit. Generating individually featurized CV splits.\nCurrent status: ModelSelection. Beginning model selection.\n\n********************************************************************************************\nDATA GUARDRAILS: \n\nTYPE:         Missing feature values imputation\nSTATUS:       PASSED\nDESCRIPTION:  No feature missing values were detected in the training data.\n              Learn more about missing value imputation: https://aka.ms/AutomatedMLFeaturization\n\n********************************************************************************************\n\nTYPE:         High cardinality feature detection\nSTATUS:       PASSED\nDESCRIPTION:  Your inputs were analyzed, and no high cardinality features were detected.\n              Learn more about high cardinality feature handling: https://aka.ms/AutomatedMLFeaturization\n\n********************************************************************************************\n\n********************************************************************************************\nITER: The iteration being evaluated.\nPIPELINE: A summary description of the pipeline being evaluated.\nDURATION: Time taken for the current iteration.\nMETRIC: The result of computing score on the fitted pipeline.\nBEST: The best observed score thus far.\n********************************************************************************************\n\n ITER   PIPELINE                                       DURATION            METRIC      BEST\n    0   MaxAbsScaler LightGBM                          0:00:09             0.1215    0.1215\n    1   MaxAbsScaler XGBoostRegressor                  0:00:10             0.0645    0.0645\n    2   MaxAbsScaler ElasticNet                        0:00:08             0.0864    0.0645\n    3   StandardScalerWrapper ElasticNet               0:00:08             0.0884    0.0645\n    4   MaxAbsScaler DecisionTree                      0:00:08             0.0884    0.0645\n    5   MaxAbsScaler ExtremeRandomTrees                0:00:08             0.0749    0.0645\n    6   MaxAbsScaler ElasticNet                        0:00:08             0.0864    0.0645\n    7   StandardScalerWrapper DecisionTree             0:00:08             0.1019    0.0645\n    8   MaxAbsScaler ElasticNet                        0:00:08             0.0866    0.0645\n    9   StandardScalerWrapper DecisionTree             0:00:08             0.0879    0.0645\n   10   StandardScalerWrapper ElasticNet               0:00:08             0.0883    0.0645\n   11   StandardScalerWrapper ElasticNet               0:00:08             0.0868    0.0645\n   12   StandardScalerWrapper ElasticNet               0:00:08             0.0852    0.0645\n   13   StandardScalerWrapper DecisionTree             0:00:07             0.0855    0.0645\n   14   StandardScalerWrapper ElasticNet               0:00:08             0.1429    0.0645\n   15   StandardScalerWrapper ElasticNet               0:00:07             0.1291    0.0645\n   16   StandardScalerWrapper ElasticNet               0:00:08             0.0991    0.0645\n   17   StandardScalerWrapper ElasticNet               0:00:08             0.0755    0.0645\n   18   StandardScalerWrapper ElasticNet               0:00:08             0.0732    0.0645\n   19   MaxAbsScaler DecisionTree                      0:00:08             0.0864    0.0645\n"
        }
      ],
      "execution_count": 5,
      "metadata": {
        "gather": {
          "logged": 1742561982798
        },
        "jupyter": {
          "outputs_hidden": false,
          "source_hidden": false
        },
        "nteract": {
          "transient": {
            "deleting": false
          }
        }
      }
    },
    {
      "cell_type": "markdown",
      "source": [
        "## Run Details\n",
        "\n",
        "OPTIONAL: Write about the different models trained and their performance. Why do you think some models did better than others?\n",
        "\n",
        "TODO: In the cell below, use the `RunDetails` widget to show the different experiments."
      ],
      "metadata": {}
    },
    {
      "cell_type": "code",
      "source": [
        "from azureml.widgets import RunDetails\n",
        "\n",
        "# Show run details in the notebook\n",
        "RunDetails(remote_run).show()"
      ],
      "outputs": [
        {
          "output_type": "display_data",
          "data": {
            "text/plain": "_AutoMLWidget(widget_settings={'childWidgetDisplay': 'popup', 'send_telemetry': False, 'log_level': 'INFO', 's…",
            "application/vnd.jupyter.widget-view+json": {
              "version_major": 2,
              "version_minor": 0,
              "model_id": "e01baf4f2aa344cf861cf38371818dcb"
            }
          },
          "metadata": {}
        },
        {
          "output_type": "display_data",
          "data": {
            "application/aml.mini.widget.v1": "{\"status\": \"Completed\", \"workbench_run_details_uri\": \"https://ml.azure.com/runs/AutoML_e7050916-dc17-4463-9557-6052ab249c0f?wsid=/subscriptions/48778e11-0fc7-4fc8-a16c-304a430e61a4/resourcegroups/student-performance-rg/workspaces/student-performance-ws&tid=f804f881-90d8-4e7d-8309-7fb565eaaf2c\", \"run_id\": \"AutoML_e7050916-dc17-4463-9557-6052ab249c0f\", \"run_properties\": {\"run_id\": \"AutoML_e7050916-dc17-4463-9557-6052ab249c0f\", \"created_utc\": \"2025-03-21T13:24:45.349566Z\", \"properties\": {\"num_iterations\": \"1000\", \"training_type\": \"TrainFull\", \"acquisition_function\": \"EI\", \"primary_metric\": \"normalized_mean_absolute_error\", \"train_split\": \"0\", \"acquisition_parameter\": \"0\", \"num_cross_validation\": \"5\", \"target\": \"notebook-compute\", \"AMLSettingsJsonString\": \"{\\\"path\\\":null,\\\"name\\\":\\\"student-math-experiment\\\",\\\"subscription_id\\\":\\\"48778e11-0fc7-4fc8-a16c-304a430e61a4\\\",\\\"resource_group\\\":\\\"student-performance-rg\\\",\\\"workspace_name\\\":\\\"student-performance-ws\\\",\\\"region\\\":\\\"norwayeast\\\",\\\"compute_target\\\":\\\"notebook-compute\\\",\\\"spark_service\\\":null,\\\"azure_service\\\":\\\"remote\\\",\\\"many_models\\\":false,\\\"pipeline_fetch_max_batch_size\\\":1,\\\"enable_batch_run\\\":true,\\\"enable_parallel_run\\\":false,\\\"num_procs\\\":null,\\\"enable_run_restructure\\\":false,\\\"start_auxiliary_runs_before_parent_complete\\\":false,\\\"enable_code_generation\\\":true,\\\"force_curated_environment\\\":false,\\\"iterations\\\":1000,\\\"primary_metric\\\":\\\"normalized_mean_absolute_error\\\",\\\"task_type\\\":\\\"regression\\\",\\\"positive_label\\\":null,\\\"data_script\\\":null,\\\"test_size\\\":0.0,\\\"test_include_predictions_only\\\":false,\\\"validation_size\\\":0.0,\\\"n_cross_validations\\\":5,\\\"y_min\\\":null,\\\"y_max\\\":null,\\\"num_classes\\\":null,\\\"featurization\\\":\\\"auto\\\",\\\"_ignore_package_version_incompatibilities\\\":false,\\\"is_timeseries\\\":false,\\\"max_cores_per_iteration\\\":1,\\\"max_concurrent_iterations\\\":1,\\\"iteration_timeout_minutes\\\":null,\\\"mem_in_mb\\\":null,\\\"enforce_time_on_windows\\\":false,\\\"experiment_timeout_minutes\\\":15,\\\"experiment_exit_score\\\":null,\\\"partition_column_names\\\":null,\\\"whitelist_models\\\":null,\\\"blacklist_algos\\\":[\\\"TensorFlowDNN\\\",\\\"TensorFlowLinearRegressor\\\"],\\\"supported_models\\\":[\\\"TabnetRegressor\\\",\\\"DecisionTree\\\",\\\"OnlineGradientDescentRegressor\\\",\\\"GradientBoosting\\\",\\\"SGD\\\",\\\"ExtremeRandomTrees\\\",\\\"TensorFlowDNN\\\",\\\"RandomForest\\\",\\\"ElasticNet\\\",\\\"XGBoostRegressor\\\",\\\"FastLinearRegressor\\\",\\\"KNN\\\",\\\"LightGBM\\\",\\\"LassoLars\\\",\\\"TensorFlowLinearRegressor\\\"],\\\"private_models\\\":[],\\\"auto_blacklist\\\":true,\\\"blacklist_samples_reached\\\":false,\\\"exclude_nan_labels\\\":true,\\\"verbosity\\\":20,\\\"_debug_log\\\":\\\"azureml_automl.log\\\",\\\"show_warnings\\\":false,\\\"model_explainability\\\":true,\\\"service_url\\\":null,\\\"sdk_url\\\":null,\\\"sdk_packages\\\":null,\\\"enable_onnx_compatible_models\\\":false,\\\"enable_split_onnx_featurizer_estimator_models\\\":false,\\\"vm_type\\\":\\\"Standard_DS11_v2\\\",\\\"telemetry_verbosity\\\":20,\\\"send_telemetry\\\":true,\\\"enable_dnn\\\":false,\\\"scenario\\\":\\\"AutoML\\\",\\\"environment_label\\\":null,\\\"save_mlflow\\\":false,\\\"enable_categorical_indicators\\\":false,\\\"force_text_dnn\\\":false,\\\"enable_feature_sweeping\\\":true,\\\"enable_early_stopping\\\":true,\\\"early_stopping_n_iters\\\":10,\\\"arguments\\\":null,\\\"dataset_id\\\":\\\"203fa572-a120-4e43-b259-c2002fbc7a80\\\",\\\"hyperdrive_config\\\":null,\\\"validation_dataset_id\\\":null,\\\"run_source\\\":null,\\\"metrics\\\":null,\\\"enable_metric_confidence\\\":false,\\\"enable_ensembling\\\":true,\\\"enable_stack_ensembling\\\":true,\\\"ensemble_iterations\\\":15,\\\"enable_tf\\\":false,\\\"enable_subsampling\\\":null,\\\"subsample_seed\\\":null,\\\"enable_nimbusml\\\":false,\\\"enable_streaming\\\":false,\\\"force_streaming\\\":false,\\\"track_child_runs\\\":true,\\\"n_best_runs\\\":1,\\\"allowed_private_models\\\":[],\\\"label_column_name\\\":\\\"G3\\\",\\\"weight_column_name\\\":null,\\\"cv_split_column_names\\\":null,\\\"enable_local_managed\\\":false,\\\"_local_managed_run_id\\\":null,\\\"cost_mode\\\":1,\\\"lag_length\\\":0,\\\"metric_operation\\\":\\\"minimize\\\",\\\"preprocess\\\":true}\", \"DataPrepJsonString\": \"{\\\\\\\"training_data\\\\\\\": {\\\\\\\"datasetId\\\\\\\": \\\\\\\"203fa572-a120-4e43-b259-c2002fbc7a80\\\\\\\"}, \\\\\\\"datasets\\\\\\\": 0}\", \"EnableSubsampling\": null, \"runTemplate\": \"AutoML\", \"azureml.runsource\": \"automl\", \"display_task_type\": \"regression\", \"dependencies_versions\": \"{\\\"azureml-contrib-notebook\\\": \\\"1.57.0\\\", \\\"azureml-contrib-server\\\": \\\"1.57.0\\\", \\\"azureml-training-tabular\\\": \\\"1.57.0\\\", \\\"azureml-opendatasets\\\": \\\"1.57.0\\\", \\\"azureml-cli-common\\\": \\\"1.57.0\\\", \\\"azureml-automl-dnn-nlp\\\": \\\"1.57.0\\\", \\\"azureml-automl-runtime\\\": \\\"1.57.0\\\", \\\"azureml-dataprep-native\\\": \\\"41.0.0\\\", \\\"azureml-contrib-automl-pipeline-steps\\\": \\\"1.57.0\\\", \\\"azureml-dataprep-rslex\\\": \\\"2.22.2\\\", \\\"azureml-pipeline-steps\\\": \\\"1.57.0\\\", \\\"azureml-interpret\\\": \\\"1.57.0\\\", \\\"azureml-train\\\": \\\"1.57.0\\\", \\\"azureml-widgets\\\": \\\"1.57.0\\\", \\\"azureml-datadrift\\\": \\\"1.57.0\\\", \\\"azureml-inference-server-http\\\": \\\"1.4.0\\\", \\\"azureml-tensorboard\\\": \\\"1.57.0\\\", \\\"azureml-telemetry\\\": \\\"1.57.0\\\", \\\"azureml-train-automl-client\\\": \\\"1.57.0\\\", \\\"azureml-contrib-reinforcementlearning\\\": \\\"1.57.0\\\", \\\"azureml-sdk\\\": \\\"1.57.0\\\", \\\"azureml-contrib-pipeline-steps\\\": \\\"1.57.0\\\", \\\"azureml-core\\\": \\\"1.57.0\\\", \\\"azureml-train-core\\\": \\\"1.57.0\\\", \\\"azureml-train-restclients-hyperdrive\\\": \\\"1.57.0\\\", \\\"azureml-contrib-dataset\\\": \\\"1.57.0\\\", \\\"azureml-pipeline-core\\\": \\\"1.57.0\\\", \\\"azureml-dataprep\\\": \\\"5.1.6\\\", \\\"azureml-dataset-runtime\\\": \\\"1.57.0\\\", \\\"azureml-pipeline\\\": \\\"1.57.0\\\", \\\"azureml-fsspec\\\": \\\"1.3.1\\\", \\\"azureml-contrib-services\\\": \\\"1.57.0\\\", \\\"azureml-train-automl-runtime\\\": \\\"1.57.0\\\", \\\"azureml-mlflow\\\": \\\"1.57.0\\\", \\\"azureml-responsibleai\\\": \\\"1.57.0\\\", \\\"azureml-accel-models\\\": \\\"1.57.0\\\", \\\"azureml-automl-core\\\": \\\"1.57.0\\\", \\\"azureml-defaults\\\": \\\"1.57.0\\\", \\\"azureml-contrib-fairness\\\": \\\"1.57.0\\\", \\\"azureml-train-automl\\\": \\\"1.57.0\\\"}\", \"_aml_system_scenario_identification\": \"Remote.Parent\", \"ClientType\": \"SDK\", \"PlatformVersion\": \"DPV1\", \"environment_cpu_name\": \"AzureML-ai-ml-automl\", \"environment_cpu_label\": \"5\", \"environment_gpu_name\": \"AzureML-ai-ml-automl-gpu\", \"environment_gpu_label\": \"5\", \"root_attribution\": \"automl\", \"attribution\": \"AutoML\", \"Orchestrator\": \"AutoML\", \"CancelUri\": \"https://norwayeast.api.azureml.ms/jasmine/v1.0/subscriptions/48778e11-0fc7-4fc8-a16c-304a430e61a4/resourceGroups/student-performance-rg/providers/Microsoft.MachineLearningServices/workspaces/student-performance-ws/experimentids/3a22c934-cafa-408e-bb47-dec47a2f350e/cancel/AutoML_e7050916-dc17-4463-9557-6052ab249c0f\", \"ClientSdkVersion\": null, \"snapshotId\": \"00000000-0000-0000-0000-000000000000\", \"SetupRunId\": \"AutoML_e7050916-dc17-4463-9557-6052ab249c0f_setup\", \"SetupRunContainerId\": \"dcid.AutoML_e7050916-dc17-4463-9557-6052ab249c0f_setup\", \"FeaturizationRunJsonPath\": \"featurizer_container.json\", \"FeaturizationRunId\": \"AutoML_e7050916-dc17-4463-9557-6052ab249c0f_featurize\", \"ProblemInfoJsonString\": \"{\\\"dataset_num_categorical\\\": 0, \\\"is_sparse\\\": true, \\\"subsampling\\\": false, \\\"has_extra_col\\\": true, \\\"dataset_classes\\\": 18, \\\"dataset_features\\\": 127, \\\"dataset_samples\\\": 395, \\\"single_frequency_class_detected\\\": false}\", \"ModelExplainRunId\": \"AutoML_e7050916-dc17-4463-9557-6052ab249c0f_ModelExplain\"}, \"tags\": {\"model_explain_run\": \"best_run\", \"_aml_system_automl_run_workspace_id\": \"7dcbcfea-228e-4d54-94e2-af79d5ae3fd0\", \"_aml_system_azureml.automlComponent\": \"AutoML\", \"pipeline_id_000\": \"faf12f74cf9bbd358ca5525682c5030d36f7be7c;4bc4ec47eb8df2d5d68b361cd60120e65196f757;2dc95d8bafd84221b8de309021c722b4fa570e77;86f7c6ce026522eff88f32e647e3e27450da2679;f21e8ba3898f5e0380866a659ed4c4adef119ec1;b5f35f573ce4f6e8526176d4e0932b5193598307;7839ca66a0ff9be386363c852f0384a7b2a1c93f;37f58541a91f6fdeb9053a6a2ce7ae2a6dba1d27;ae729f09378486945c70eb2a2306f8aa8f4e30a7;7b4a7261c08af7743d92782ce28a7f60ecdab0e2;d925751fd9eac1f71df8b9fccd672dc70cbea612;74ee6b79247e09b1518ef6d9dcb155e714f496e4;2a94e1d01e7e8898616580c1f18558af204228f4;684236a89d44bd7525e435ff014bc99f36fb60c3;735cba3318c2ccc77fba61252dbfd5b383e4584f;287bceb7e467ac63bd87dfe615b2d15f757ab47b;8dd0d2b5b07d59df7d3518d8fdd9759f1d7144ab;7ac99a8d7e1f10883e7b154ca80bc4c96085ea6e;3d41561aa650aa5533e046dbc8a84c64295d0663;e427b3684e9a8c615341d55270e540704152f40b;1a23d8a719deb25e0fc2bbc72db7ee3fd91d39d2;0e985ee71c4900292b3fbd9e434ae686ea5fcaf3;17aa40653c6c30d54611d0e23e67d122d9150d5f;985fb264c0c90a988d750a6b72b9b303bab259e8;61f134580e8d0c137eae51ed9ae1021491795bff;70b737f48c50b61cbaedb64da0ae69737ba6368a;fefbcfa4c7e328aeb147563241dfa76a56bff62e;145ad03dd8a3a1fc3a92dbc1c1291cc0f4fba600;6c0be7616ac459d8e33fd6eaf243bb2f28e4533e;8616a5b1d1cd00dec536bcc5ede9f68c48302116;__AutoML_Ensemble__;__AutoML_Stack_Ensemble__\", \"score_000\": \"0.12150859439887547;0.06453278153946126;0.08639171141868751;0.08838017259939177;0.08843279083785413;0.07492405063291138;0.08644852158733467;0.10188268028101277;0.0865953741634886;0.0878972272453285;0.08834026582930696;0.08681687432302411;0.0851884307425602;0.08552742616033755;0.14291650882025336;0.1291035443766882;0.0990728935832261;0.07549894189129666;0.07322462746627885;0.08639240506329113;0.07990506329113925;0.07957805907172996;0.06893994349005424;0.0711265821762382;0.06880420390061195;0.0936466300129136;0.15458868328789793;0.09753113658339577;0.0903373712311472;0.07541396433245118;0.061511080661214614;0.06253487319093483\", \"predicted_cost_000\": \"0;0;0.5;0.5;0.5;0.5;0.5;0.5;0.5;0.5;0.5;0.5;0.5;0.5;0.5;0.5;0.5;0.5;0.5;0.5;0.002883555157236144;0.14759084351742502;0.02554037436191965;0.022717124377200165;0.09766290444969453;1.1383473182975075;0.036864740409856094;0.03884964238920251;0.6127647963333013;0.34576269803717424;0;0\", \"fit_time_000\": \"0.0592592;0.4846128;0.053201;0.1311548;0.010227199999999999;0.0897272;0.0577426;0.0057716;0.043325199999999994;0.009875400000000001;0.1319674;0.0561842;0.015579199999999998;0.011528799999999999;0.003866;0.004454999999999999;0.0084202;0.011009;0.0117532;0.010330599999999999;0.0100748;0.010311200000000001;0.655424;0.12329759999999998;0.9605204;0.43937779999999993;0.1797184;0.0324828;0.0194262;0.33672279999999993;9;9\", \"training_percent_000\": \"100;100;100;100;100;100;100;100;100;100;100;100;100;100;100;100;100;100;100;100;100;100;100;100;100;100;100;100;100;100;100;100\", \"iteration_000\": \"0;1;2;3;4;5;6;7;8;9;10;11;12;13;14;15;16;17;18;19;20;21;22;23;24;25;26;27;28;29;30;31\", \"run_preprocessor_000\": \"MaxAbsScaler;MaxAbsScaler;MaxAbsScaler;StandardScalerWrapper;MaxAbsScaler;MaxAbsScaler;MaxAbsScaler;StandardScalerWrapper;MaxAbsScaler;StandardScalerWrapper;StandardScalerWrapper;StandardScalerWrapper;StandardScalerWrapper;StandardScalerWrapper;StandardScalerWrapper;StandardScalerWrapper;StandardScalerWrapper;StandardScalerWrapper;StandardScalerWrapper;MaxAbsScaler;MaxAbsScaler;MaxAbsScaler;StandardScalerWrapper;StandardScalerWrapper;MaxAbsScaler;SparseNormalizer;StandardScalerWrapper;MaxAbsScaler;MaxAbsScaler;MaxAbsScaler;;\", \"run_algorithm_000\": \"LightGBM;XGBoostRegressor;ElasticNet;ElasticNet;DecisionTree;ExtremeRandomTrees;ElasticNet;DecisionTree;ElasticNet;DecisionTree;ElasticNet;ElasticNet;ElasticNet;DecisionTree;ElasticNet;ElasticNet;ElasticNet;ElasticNet;ElasticNet;DecisionTree;DecisionTree;DecisionTree;RandomForest;RandomForest;ExtremeRandomTrees;XGBoostRegressor;GradientBoosting;RandomForest;LightGBM;RandomForest;VotingEnsemble;StackEnsemble\", \"dynamic_allowlisting_iterations\": \"<25>;\", \"_aml_system_azureml.automl_early_exit_message\": \"No scores improved over last 10 iterations, so experiment stopped early. This early stopping behavior can be disabled by setting enable_early_stopping = False in AutoMLConfig for notebook/python SDK runs.\", \"automl_best_child_run_id\": \"AutoML_e7050916-dc17-4463-9557-6052ab249c0f_30\", \"model_explain_best_run_child_id\": \"AutoML_e7050916-dc17-4463-9557-6052ab249c0f_30\"}, \"end_time_utc\": \"2025-03-21T13:42:13.245539Z\", \"status\": \"Completed\", \"log_files\": {}, \"log_groups\": [], \"run_duration\": \"0:17:27\", \"run_number\": \"1742563485\", \"run_queued_details\": {\"status\": \"Completed\", \"details\": null}}, \"child_runs\": [{\"run_id\": \"AutoML_e7050916-dc17-4463-9557-6052ab249c0f_setup\", \"run_number\": 1742563498, \"metric\": null, \"status\": \"Completed\", \"run_type\": \"azureml.scriptrun\", \"training_percent\": null, \"start_time\": \"2025-03-21T13:25:06.933678Z\", \"end_time\": \"2025-03-21T13:26:13.0923Z\", \"created_time\": \"2025-03-21T13:24:58.352598Z\", \"created_time_dt\": \"2025-03-21T13:24:58.352598Z\", \"duration\": \"0:01:14\", \"iteration\": null, \"goal\": null, \"run_name\": \"Completed\", \"run_properties\": null}, {\"run_id\": \"AutoML_e7050916-dc17-4463-9557-6052ab249c0f_featurize\", \"run_number\": 1742563573, \"metric\": null, \"status\": \"Completed\", \"run_type\": \"automl.featurization\", \"training_percent\": null, \"start_time\": \"2025-03-21T13:26:13.605661Z\", \"end_time\": \"2025-03-21T13:26:54.787056Z\", \"created_time\": \"2025-03-21T13:26:13.33722Z\", \"created_time_dt\": \"2025-03-21T13:26:13.33722Z\", \"duration\": \"0:00:41\", \"iteration\": null, \"goal\": null, \"run_name\": \"Completed\", \"run_properties\": null}, {\"run_id\": \"AutoML_e7050916-dc17-4463-9557-6052ab249c0f_0\", \"run_number\": 1742563616, \"metric\": null, \"status\": \"Completed\", \"run_type\": null, \"training_percent\": \"100\", \"start_time\": \"2025-03-21T13:27:20.870808Z\", \"end_time\": \"2025-03-21T13:27:29.589757Z\", \"created_time\": \"2025-03-21T13:26:56.213805Z\", \"created_time_dt\": \"2025-03-21T13:26:56.213805Z\", \"duration\": \"0:00:33\", \"iteration\": \"0\", \"goal\": \"normalized_mean_absolute_error_min\", \"run_name\": \"MaxAbsScaler, LightGBM\", \"run_properties\": null, \"primary_metric\": 0.12150859, \"best_metric\": 0.12150859}, {\"run_id\": \"AutoML_e7050916-dc17-4463-9557-6052ab249c0f_3\", \"run_number\": 1742563617, \"metric\": null, \"status\": \"Completed\", \"run_type\": null, \"training_percent\": \"100\", \"start_time\": \"2025-03-21T13:27:50.004361Z\", \"end_time\": \"2025-03-21T13:27:58.307352Z\", \"created_time\": \"2025-03-21T13:26:57.269124Z\", \"created_time_dt\": \"2025-03-21T13:26:57.269124Z\", \"duration\": \"0:01:01\", \"iteration\": \"3\", \"goal\": \"normalized_mean_absolute_error_min\", \"run_name\": \"StandardScalerWrapper, ElasticNet\", \"run_properties\": \"copy=True, with_mean=False, with_std=True\", \"primary_metric\": 0.08838017, \"best_metric\": 0.08838017}, {\"run_id\": \"AutoML_e7050916-dc17-4463-9557-6052ab249c0f_6\", \"run_number\": 1742563618, \"metric\": null, \"status\": \"Completed\", \"run_type\": null, \"training_percent\": \"100\", \"start_time\": \"2025-03-21T13:28:15.886643Z\", \"end_time\": \"2025-03-21T13:28:23.671659Z\", \"created_time\": \"2025-03-21T13:26:58.278585Z\", \"created_time_dt\": \"2025-03-21T13:26:58.278585Z\", \"duration\": \"0:01:25\", \"iteration\": \"6\", \"goal\": \"normalized_mean_absolute_error_min\", \"run_name\": \"MaxAbsScaler, ElasticNet\", \"run_properties\": null, \"primary_metric\": 0.08644852, \"best_metric\": 0.08644852}, {\"run_id\": \"AutoML_e7050916-dc17-4463-9557-6052ab249c0f_9\", \"run_number\": 1742563619, \"metric\": null, \"status\": \"Completed\", \"run_type\": null, \"training_percent\": \"100\", \"start_time\": \"2025-03-21T13:28:41.004689Z\", \"end_time\": \"2025-03-21T13:28:48.631739Z\", \"created_time\": \"2025-03-21T13:26:59.296017Z\", \"created_time_dt\": \"2025-03-21T13:26:59.296017Z\", \"duration\": \"0:01:49\", \"iteration\": \"9\", \"goal\": \"normalized_mean_absolute_error_min\", \"run_name\": \"StandardScalerWrapper, DecisionTree\", \"run_properties\": \"copy=True, with_mean=False, with_std=False\", \"primary_metric\": 0.08789723, \"best_metric\": 0.08644852}, {\"run_id\": \"AutoML_e7050916-dc17-4463-9557-6052ab249c0f_12\", \"run_number\": 1742563620, \"metric\": null, \"status\": \"Completed\", \"run_type\": null, \"training_percent\": \"100\", \"start_time\": \"2025-03-21T13:29:06.439002Z\", \"end_time\": \"2025-03-21T13:29:14.031874Z\", \"created_time\": \"2025-03-21T13:27:00.266719Z\", \"created_time_dt\": \"2025-03-21T13:27:00.266719Z\", \"duration\": \"0:02:13\", \"iteration\": \"12\", \"goal\": \"normalized_mean_absolute_error_min\", \"run_name\": \"StandardScalerWrapper, ElasticNet\", \"run_properties\": \"copy=True, with_mean=False, with_std=True\", \"primary_metric\": 0.08518843, \"best_metric\": 0.08518843}, {\"run_id\": \"AutoML_e7050916-dc17-4463-9557-6052ab249c0f_15\", \"run_number\": 1742563621, \"metric\": null, \"status\": \"Completed\", \"run_type\": null, \"training_percent\": \"100\", \"start_time\": \"2025-03-21T13:29:31.160753Z\", \"end_time\": \"2025-03-21T13:29:38.427755Z\", \"created_time\": \"2025-03-21T13:27:01.311818Z\", \"created_time_dt\": \"2025-03-21T13:27:01.311818Z\", \"duration\": \"0:02:37\", \"iteration\": \"15\", \"goal\": \"normalized_mean_absolute_error_min\", \"run_name\": \"StandardScalerWrapper, ElasticNet\", \"run_properties\": \"copy=True, with_mean=False, with_std=False\", \"primary_metric\": 0.12910354, \"best_metric\": 0.08518843}, {\"run_id\": \"AutoML_e7050916-dc17-4463-9557-6052ab249c0f_worker_0\", \"run_number\": 1742563622, \"metric\": null, \"status\": \"Completed\", \"run_type\": \"azureml.scriptrun\", \"training_percent\": null, \"start_time\": \"2025-03-21T13:27:09.718301Z\", \"end_time\": \"2025-03-21T13:30:19.915794Z\", \"created_time\": \"2025-03-21T13:27:02.831604Z\", \"created_time_dt\": \"2025-03-21T13:27:02.831604Z\", \"duration\": \"0:03:17\", \"iteration\": null, \"goal\": null, \"run_name\": \"Completed\", \"run_properties\": null}, {\"run_id\": \"AutoML_e7050916-dc17-4463-9557-6052ab249c0f_20\", \"run_number\": 1742564089, \"metric\": null, \"status\": \"Completed\", \"run_type\": \"azureml.scriptrun\", \"training_percent\": \"100\", \"start_time\": \"2025-03-21T13:34:57.743876Z\", \"end_time\": \"2025-03-21T13:35:24.288433Z\", \"created_time\": \"2025-03-21T13:34:49.537052Z\", \"created_time_dt\": \"2025-03-21T13:34:49.537052Z\", \"duration\": \"0:00:34\", \"iteration\": \"20\", \"goal\": \"normalized_mean_absolute_error_min\", \"run_name\": \"MaxAbsScaler, DecisionTree\", \"run_properties\": null, \"primary_metric\": 0.07990506, \"best_metric\": 0.07990506}, {\"run_id\": \"AutoML_e7050916-dc17-4463-9557-6052ab249c0f_21\", \"run_number\": 1742564125, \"metric\": null, \"status\": \"Completed\", \"run_type\": \"azureml.scriptrun\", \"training_percent\": \"100\", \"start_time\": \"2025-03-21T13:35:32.523094Z\", \"end_time\": \"2025-03-21T13:35:57.65086Z\", \"created_time\": \"2025-03-21T13:35:25.788469Z\", \"created_time_dt\": \"2025-03-21T13:35:25.788469Z\", \"duration\": \"0:00:31\", \"iteration\": \"21\", \"goal\": \"normalized_mean_absolute_error_min\", \"run_name\": \"MaxAbsScaler, DecisionTree\", \"run_properties\": null, \"primary_metric\": 0.07957806, \"best_metric\": 0.07957806}, {\"run_id\": \"AutoML_e7050916-dc17-4463-9557-6052ab249c0f_22\", \"run_number\": 1742564158, \"metric\": null, \"status\": \"Completed\", \"run_type\": \"azureml.scriptrun\", \"training_percent\": \"100\", \"start_time\": \"2025-03-21T13:36:05.68243Z\", \"end_time\": \"2025-03-21T13:36:35.607897Z\", \"created_time\": \"2025-03-21T13:35:58.781036Z\", \"created_time_dt\": \"2025-03-21T13:35:58.781036Z\", \"duration\": \"0:00:36\", \"iteration\": \"22\", \"goal\": \"normalized_mean_absolute_error_min\", \"run_name\": \"StandardScalerWrapper, RandomForest\", \"run_properties\": \"copy=True, with_mean=False, with_std=True\", \"primary_metric\": 0.06893994, \"best_metric\": 0.06893994}, {\"run_id\": \"AutoML_e7050916-dc17-4463-9557-6052ab249c0f_23\", \"run_number\": 1742564196, \"metric\": null, \"status\": \"Completed\", \"run_type\": \"azureml.scriptrun\", \"training_percent\": \"100\", \"start_time\": \"2025-03-21T13:36:43.059859Z\", \"end_time\": \"2025-03-21T13:37:09.522838Z\", \"created_time\": \"2025-03-21T13:36:36.656018Z\", \"created_time_dt\": \"2025-03-21T13:36:36.656018Z\", \"duration\": \"0:00:32\", \"iteration\": \"23\", \"goal\": \"normalized_mean_absolute_error_min\", \"run_name\": \"StandardScalerWrapper, RandomForest\", \"run_properties\": \"copy=True, with_mean=False, with_std=False\", \"primary_metric\": 0.07112658, \"best_metric\": 0.06893994}, {\"run_id\": \"AutoML_e7050916-dc17-4463-9557-6052ab249c0f_24\", \"run_number\": 1742564230, \"metric\": null, \"status\": \"Completed\", \"run_type\": \"azureml.scriptrun\", \"training_percent\": \"100\", \"start_time\": \"2025-03-21T13:37:17.190346Z\", \"end_time\": \"2025-03-21T13:37:49.155892Z\", \"created_time\": \"2025-03-21T13:37:10.882759Z\", \"created_time_dt\": \"2025-03-21T13:37:10.882759Z\", \"duration\": \"0:00:38\", \"iteration\": \"24\", \"goal\": \"normalized_mean_absolute_error_min\", \"run_name\": \"MaxAbsScaler, ExtremeRandomTrees\", \"run_properties\": null, \"primary_metric\": 0.0688042, \"best_metric\": 0.0688042}, {\"run_id\": \"AutoML_e7050916-dc17-4463-9557-6052ab249c0f_25\", \"run_number\": 1742564271, \"metric\": null, \"status\": \"Completed\", \"run_type\": \"azureml.scriptrun\", \"training_percent\": \"100\", \"start_time\": \"2025-03-21T13:37:57.457146Z\", \"end_time\": \"2025-03-21T13:38:25.232824Z\", \"created_time\": \"2025-03-21T13:37:51.040927Z\", \"created_time_dt\": \"2025-03-21T13:37:51.040927Z\", \"duration\": \"0:00:34\", \"iteration\": \"25\", \"goal\": \"normalized_mean_absolute_error_min\", \"run_name\": \"SparseNormalizer, XGBoostRegressor\", \"run_properties\": null, \"primary_metric\": 0.09364663, \"best_metric\": 0.0688042}, {\"run_id\": \"AutoML_e7050916-dc17-4463-9557-6052ab249c0f_26\", \"run_number\": 1742564306, \"metric\": null, \"status\": \"Completed\", \"run_type\": \"azureml.scriptrun\", \"training_percent\": \"100\", \"start_time\": \"2025-03-21T13:38:33.101113Z\", \"end_time\": \"2025-03-21T13:39:00.022776Z\", \"created_time\": \"2025-03-21T13:38:26.302805Z\", \"created_time_dt\": \"2025-03-21T13:38:26.302805Z\", \"duration\": \"0:00:33\", \"iteration\": \"26\", \"goal\": \"normalized_mean_absolute_error_min\", \"run_name\": \"StandardScalerWrapper, GradientBoosting\", \"run_properties\": \"copy=True, with_mean=False, with_std=False\", \"primary_metric\": 0.15458868, \"best_metric\": 0.0688042}, {\"run_id\": \"AutoML_e7050916-dc17-4463-9557-6052ab249c0f_27\", \"run_number\": 1742564341, \"metric\": null, \"status\": \"Completed\", \"run_type\": \"azureml.scriptrun\", \"training_percent\": \"100\", \"start_time\": \"2025-03-21T13:39:08.780879Z\", \"end_time\": \"2025-03-21T13:39:34.057813Z\", \"created_time\": \"2025-03-21T13:39:01.262183Z\", \"created_time_dt\": \"2025-03-21T13:39:01.262183Z\", \"duration\": \"0:00:32\", \"iteration\": \"27\", \"goal\": \"normalized_mean_absolute_error_min\", \"run_name\": \"MaxAbsScaler, RandomForest\", \"run_properties\": null, \"primary_metric\": 0.09753114, \"best_metric\": 0.0688042}, {\"run_id\": \"AutoML_e7050916-dc17-4463-9557-6052ab249c0f_28\", \"run_number\": 1742564375, \"metric\": null, \"status\": \"Completed\", \"run_type\": \"azureml.scriptrun\", \"training_percent\": \"100\", \"start_time\": \"2025-03-21T13:39:41.441323Z\", \"end_time\": \"2025-03-21T13:40:06.677454Z\", \"created_time\": \"2025-03-21T13:39:35.192404Z\", \"created_time_dt\": \"2025-03-21T13:39:35.192404Z\", \"duration\": \"0:00:31\", \"iteration\": \"28\", \"goal\": \"normalized_mean_absolute_error_min\", \"run_name\": \"MaxAbsScaler, LightGBM\", \"run_properties\": null, \"primary_metric\": 0.09033737, \"best_metric\": 0.0688042}, {\"run_id\": \"AutoML_e7050916-dc17-4463-9557-6052ab249c0f_29\", \"run_number\": 1742564408, \"metric\": null, \"status\": \"Completed\", \"run_type\": \"azureml.scriptrun\", \"training_percent\": \"100\", \"start_time\": \"2025-03-21T13:40:15.533658Z\", \"end_time\": \"2025-03-21T13:40:43.673268Z\", \"created_time\": \"2025-03-21T13:40:07.998386Z\", \"created_time_dt\": \"2025-03-21T13:40:07.998386Z\", \"duration\": \"0:00:35\", \"iteration\": \"29\", \"goal\": \"normalized_mean_absolute_error_min\", \"run_name\": \"MaxAbsScaler, RandomForest\", \"run_properties\": null, \"primary_metric\": 0.07541396, \"best_metric\": 0.0688042}, {\"run_id\": \"AutoML_e7050916-dc17-4463-9557-6052ab249c0f_30\", \"run_number\": 1742564444, \"metric\": null, \"status\": \"Completed\", \"run_type\": \"azureml.scriptrun\", \"training_percent\": \"100\", \"start_time\": \"2025-03-21T13:40:52.16415Z\", \"end_time\": \"2025-03-21T13:41:28.705305Z\", \"created_time\": \"2025-03-21T13:40:44.228643Z\", \"created_time_dt\": \"2025-03-21T13:40:44.228643Z\", \"duration\": \"0:00:44\", \"iteration\": \"30\", \"goal\": \"normalized_mean_absolute_error_min\", \"run_name\": \"VotingEnsemble\", \"run_properties\": \"estimators=[('1', Pipeline(memory=None, steps=[('maxabsscaler', MaxAbsScaler(copy=True\", \"primary_metric\": 0.06151108, \"best_metric\": 0.06151108}, {\"run_id\": \"AutoML_e7050916-dc17-4463-9557-6052ab249c0f_31\", \"run_number\": 1742564489, \"metric\": null, \"status\": \"Completed\", \"run_type\": \"azureml.scriptrun\", \"training_percent\": \"100\", \"start_time\": \"2025-03-21T13:41:35.6409Z\", \"end_time\": \"2025-03-21T13:42:12.469337Z\", \"created_time\": \"2025-03-21T13:41:29.129216Z\", \"created_time_dt\": \"2025-03-21T13:41:29.129216Z\", \"duration\": \"0:00:43\", \"iteration\": \"31\", \"goal\": \"normalized_mean_absolute_error_min\", \"run_name\": \"StackEnsemble\", \"run_properties\": \"base_learners=[('1', Pipeline(memory=None, steps=[('maxabsscaler', MaxAbsScaler(copy=True\", \"primary_metric\": 0.06253487, \"best_metric\": 0.06151108}], \"children_metrics\": {\"categories\": [0], \"series\": {\"mean_absolute_error\": [{\"categories\": [\"0\", \"3\", \"6\", \"9\", \"12\", \"15\", \"20\", \"21\", \"22\", \"23\", \"24\", \"25\", \"26\", \"27\", \"28\", \"29\", \"30\", \"31\"], \"mode\": \"markers\", \"name\": \"mean_absolute_error\", \"stepped\": false, \"type\": \"scatter\", \"data\": [2.4301718879775094, 1.7676034519878354, 1.7289704317466934, 1.7579445449065705, 1.7037686148512043, 2.582070887533764, 1.5981012658227847, 1.5915611814345991, 1.3787988698010847, 1.4225316435247641, 1.3760840780122392, 1.872932600258272, 3.091773665757959, 1.9506227316679154, 1.806747424622944, 1.5082792866490236, 1.2302216132242925, 1.2506974638186965]}, {\"categories\": [\"0\", \"3\", \"6\", \"9\", \"12\", \"15\", \"20\", \"21\", \"22\", \"23\", \"24\", \"25\", \"26\", \"27\", \"28\", \"29\", \"30\", \"31\"], \"mode\": \"lines\", \"name\": \"mean_absolute_error_min\", \"stepped\": true, \"type\": \"scatter\", \"data\": [2.4301718879775094, 1.7676034519878354, 1.7289704317466934, 1.7289704317466934, 1.7037686148512043, 1.7037686148512043, 1.5981012658227847, 1.5915611814345991, 1.3787988698010847, 1.3787988698010847, 1.3760840780122392, 1.3760840780122392, 1.3760840780122392, 1.3760840780122392, 1.3760840780122392, 1.3760840780122392, 1.2302216132242925, 1.2302216132242925]}], \"explained_variance\": [{\"categories\": [\"0\", \"3\", \"6\", \"9\", \"12\", \"15\", \"20\", \"21\", \"22\", \"23\", \"24\", \"25\", \"26\", \"27\", \"28\", \"29\", \"30\", \"31\"], \"mode\": \"markers\", \"name\": \"explained_variance\", \"stepped\": false, \"type\": \"scatter\", \"data\": [0.4916210116887543, 0.7110230793492908, 0.7203807553483236, 0.5924006322317232, 0.7283743843932358, 0.4205117997343512, 0.6424814454483403, 0.6434075706333876, 0.7820331419867947, 0.7617286043433132, 0.7799268519010909, 0.6692545137076898, 0.22867223973269382, 0.6265259936782783, 0.6996050394000894, 0.7495342087031538, 0.8197721332387727, 0.811197916822695]}, {\"categories\": [\"0\", \"3\", \"6\", \"9\", \"12\", \"15\", \"20\", \"21\", \"22\", \"23\", \"24\", \"25\", \"26\", \"27\", \"28\", \"29\", \"30\", \"31\"], \"mode\": \"lines\", \"name\": \"explained_variance_max\", \"stepped\": true, \"type\": \"scatter\", \"data\": [0.4916210116887543, 0.7110230793492908, 0.7203807553483236, 0.7203807553483236, 0.7283743843932358, 0.7283743843932358, 0.7283743843932358, 0.7283743843932358, 0.7820331419867947, 0.7820331419867947, 0.7820331419867947, 0.7820331419867947, 0.7820331419867947, 0.7820331419867947, 0.7820331419867947, 0.7820331419867947, 0.8197721332387727, 0.8197721332387727]}], \"normalized_median_absolute_error\": [{\"categories\": [\"0\", \"3\", \"6\", \"9\", \"12\", \"15\", \"20\", \"21\", \"22\", \"23\", \"24\", \"25\", \"26\", \"27\", \"28\", \"29\", \"30\", \"31\"], \"mode\": \"markers\", \"name\": \"normalized_median_absolute_error\", \"stepped\": false, \"type\": \"scatter\", \"data\": [0.08758505176698492, 0.06385441431763247, 0.06118298121409891, 0.05033333333333334, 0.06112303806157482, 0.09293468309709561, 0.05, 0.046666666666666655, 0.04517964285714293, 0.045673919421070665, 0.046111080724830764, 0.06620481967926026, 0.12060250022895055, 0.05715660367836202, 0.06299228958643971, 0.04575870934620947, 0.03895892466664673, 0.04122966477415513]}, {\"categories\": [\"0\", \"3\", \"6\", \"9\", \"12\", \"15\", \"20\", \"21\", \"22\", \"23\", \"24\", \"25\", \"26\", \"27\", \"28\", \"29\", \"30\", \"31\"], \"mode\": \"lines\", \"name\": \"normalized_median_absolute_error_min\", \"stepped\": true, \"type\": \"scatter\", \"data\": [0.08758505176698492, 0.06385441431763247, 0.06118298121409891, 0.05033333333333334, 0.05033333333333334, 0.05033333333333334, 0.05, 0.046666666666666655, 0.04517964285714293, 0.04517964285714293, 0.04517964285714293, 0.04517964285714293, 0.04517964285714293, 0.04517964285714293, 0.04517964285714293, 0.04517964285714293, 0.03895892466664673, 0.03895892466664673]}], \"mean_absolute_percentage_error\": [{\"categories\": [\"0\", \"3\", \"6\", \"9\", \"12\", \"15\", \"20\", \"21\", \"22\", \"23\", \"24\", \"25\", \"26\", \"27\", \"28\", \"29\", \"30\", \"31\"], \"mode\": \"markers\", \"name\": \"mean_absolute_percentage_error\", \"stepped\": false, \"type\": \"scatter\", \"data\": [20.179324883126633, 14.757613520564636, 14.262857136052332, 15.437650938895441, 13.650032904447494, 18.260213396625115, 15.212752086342046, 14.923251899023885, 10.484006653884029, 9.945050613642556, 10.492430707721757, 16.46432117697962, 23.508078247733323, 14.83385057761951, 14.33275085352887, 11.227434332577946, 9.875926092171118, 10.022337711850978]}, {\"categories\": [\"0\", \"3\", \"6\", \"9\", \"12\", \"15\", \"20\", \"21\", \"22\", \"23\", \"24\", \"25\", \"26\", \"27\", \"28\", \"29\", \"30\", \"31\"], \"mode\": \"lines\", \"name\": \"mean_absolute_percentage_error_min\", \"stepped\": true, \"type\": \"scatter\", \"data\": [20.179324883126633, 14.757613520564636, 14.262857136052332, 14.262857136052332, 13.650032904447494, 13.650032904447494, 13.650032904447494, 13.650032904447494, 10.484006653884029, 9.945050613642556, 9.945050613642556, 9.945050613642556, 9.945050613642556, 9.945050613642556, 9.945050613642556, 9.945050613642556, 9.875926092171118, 9.875926092171118]}], \"root_mean_squared_error\": [{\"categories\": [\"0\", \"3\", \"6\", \"9\", \"12\", \"15\", \"20\", \"21\", \"22\", \"23\", \"24\", \"25\", \"26\", \"27\", \"28\", \"29\", \"30\", \"31\"], \"mode\": \"markers\", \"name\": \"root_mean_squared_error\", \"stepped\": false, \"type\": \"scatter\", \"data\": [3.2596670405687775, 2.4294771738996443, 2.3876437772235994, 2.8977939683365364, 2.3599923124852777, 3.488135269306118, 2.739382679110325, 2.6975007827816446, 2.1079496341439876, 2.214016267071107, 2.12538784303471, 2.615148825980027, 4.020369423601046, 2.7883136373657633, 2.494510944145544, 2.277685692235681, 1.8912824018007766, 1.9313591200938618]}, {\"categories\": [\"0\", \"3\", \"6\", \"9\", \"12\", \"15\", \"20\", \"21\", \"22\", \"23\", \"24\", \"25\", \"26\", \"27\", \"28\", \"29\", \"30\", \"31\"], \"mode\": \"lines\", \"name\": \"root_mean_squared_error_min\", \"stepped\": true, \"type\": \"scatter\", \"data\": [3.2596670405687775, 2.4294771738996443, 2.3876437772235994, 2.3876437772235994, 2.3599923124852777, 2.3599923124852777, 2.3599923124852777, 2.3599923124852777, 2.1079496341439876, 2.1079496341439876, 2.1079496341439876, 2.1079496341439876, 2.1079496341439876, 2.1079496341439876, 2.1079496341439876, 2.1079496341439876, 1.8912824018007766, 1.8912824018007766]}], \"normalized_mean_absolute_error\": [{\"categories\": [\"0\", \"3\", \"6\", \"9\", \"12\", \"15\", \"20\", \"21\", \"22\", \"23\", \"24\", \"25\", \"26\", \"27\", \"28\", \"29\", \"30\", \"31\"], \"mode\": \"markers\", \"name\": \"normalized_mean_absolute_error\", \"stepped\": false, \"type\": \"scatter\", \"data\": [0.12150859439887547, 0.08838017259939177, 0.08644852158733467, 0.0878972272453285, 0.0851884307425602, 0.1291035443766882, 0.07990506329113925, 0.07957805907172996, 0.06893994349005424, 0.0711265821762382, 0.06880420390061195, 0.0936466300129136, 0.15458868328789793, 0.09753113658339577, 0.0903373712311472, 0.07541396433245118, 0.061511080661214614, 0.06253487319093483]}, {\"categories\": [\"0\", \"3\", \"6\", \"9\", \"12\", \"15\", \"20\", \"21\", \"22\", \"23\", \"24\", \"25\", \"26\", \"27\", \"28\", \"29\", \"30\", \"31\"], \"mode\": \"lines\", \"name\": \"normalized_mean_absolute_error_min\", \"stepped\": true, \"type\": \"scatter\", \"data\": [0.12150859439887547, 0.08838017259939177, 0.08644852158733467, 0.08644852158733467, 0.0851884307425602, 0.0851884307425602, 0.07990506329113925, 0.07957805907172996, 0.06893994349005424, 0.06893994349005424, 0.06880420390061195, 0.06880420390061195, 0.06880420390061195, 0.06880420390061195, 0.06880420390061195, 0.06880420390061195, 0.061511080661214614, 0.061511080661214614]}], \"normalized_root_mean_squared_log_error\": [{\"categories\": [\"0\", \"3\", \"6\", \"9\", \"12\", \"15\", \"20\", \"21\", \"22\", \"23\", \"24\", \"25\", \"26\", \"27\", \"28\", \"29\", \"30\", \"31\"], \"mode\": \"markers\", \"name\": \"normalized_root_mean_squared_log_error\", \"stepped\": false, \"type\": \"scatter\", \"data\": [0.20038878742943972, NaN, NaN, 0.18672394667110748, 0.15880436960500915, 0.2323589900512648, 0.19038809694990935, 0.18095801253440913, 0.16783156196806642, 0.17934601206067513, 0.17140875794100213, NaN, 0.2409454980342775, 0.200412234758081, 0.1871377731998436, 0.18194358785566167, 0.15419519496424933, 0.16299087692940753]}, {\"categories\": [\"0\", \"3\", \"6\", \"9\", \"12\", \"15\", \"20\", \"21\", \"22\", \"23\", \"24\", \"25\", \"26\", \"27\", \"28\", \"29\", \"30\", \"31\"], \"mode\": \"lines\", \"name\": \"normalized_root_mean_squared_log_error_min\", \"stepped\": true, \"type\": \"scatter\", \"data\": [0.20038878742943972, 0.20038878742943972, 0.20038878742943972, 0.18672394667110748, 0.15880436960500915, 0.15880436960500915, 0.15880436960500915, 0.15880436960500915, 0.15880436960500915, 0.15880436960500915, 0.15880436960500915, 0.15880436960500915, 0.15880436960500915, 0.15880436960500915, 0.15880436960500915, 0.15880436960500915, 0.15419519496424933, 0.15419519496424933]}], \"r2_score\": [{\"categories\": [\"0\", \"3\", \"6\", \"9\", \"12\", \"15\", \"20\", \"21\", \"22\", \"23\", \"24\", \"25\", \"26\", \"27\", \"28\", \"29\", \"30\", \"31\"], \"mode\": \"markers\", \"name\": \"r2_score\", \"stepped\": false, \"type\": \"scatter\", \"data\": [0.4852289448344827, 0.7095686813771541, 0.7186320996083377, 0.5898499963362321, 0.7263635991136896, 0.4131608546122436, 0.6350330871069442, 0.6378704549892816, 0.7813828255985423, 0.7601735531821519, 0.7780736330531578, 0.6690722584724427, 0.22151293901919286, 0.6236476510948343, 0.6949840353479321, 0.7483167272155329, 0.8188206318517042, 0.8102293172576662]}, {\"categories\": [\"0\", \"3\", \"6\", \"9\", \"12\", \"15\", \"20\", \"21\", \"22\", \"23\", \"24\", \"25\", \"26\", \"27\", \"28\", \"29\", \"30\", \"31\"], \"mode\": \"lines\", \"name\": \"r2_score_max\", \"stepped\": true, \"type\": \"scatter\", \"data\": [0.4852289448344827, 0.7095686813771541, 0.7186320996083377, 0.7186320996083377, 0.7263635991136896, 0.7263635991136896, 0.7263635991136896, 0.7263635991136896, 0.7813828255985423, 0.7813828255985423, 0.7813828255985423, 0.7813828255985423, 0.7813828255985423, 0.7813828255985423, 0.7813828255985423, 0.7813828255985423, 0.8188206318517042, 0.8188206318517042]}], \"median_absolute_error\": [{\"categories\": [\"0\", \"3\", \"6\", \"9\", \"12\", \"15\", \"20\", \"21\", \"22\", \"23\", \"24\", \"25\", \"26\", \"27\", \"28\", \"29\", \"30\", \"31\"], \"mode\": \"markers\", \"name\": \"median_absolute_error\", \"stepped\": false, \"type\": \"scatter\", \"data\": [1.7517010353396985, 1.2770882863526494, 1.2236596242819782, 1.0066666666666666, 1.2224607612314964, 1.8586936619419123, 1.0, 0.9333333333333332, 0.9035928571428584, 0.9134783884214132, 0.9222216144966152, 1.324096393585205, 2.412050004579011, 1.1431320735672403, 1.2598457917287942, 0.9151741869241894, 0.7791784933329347, 0.8245932954831027]}, {\"categories\": [\"0\", \"3\", \"6\", \"9\", \"12\", \"15\", \"20\", \"21\", \"22\", \"23\", \"24\", \"25\", \"26\", \"27\", \"28\", \"29\", \"30\", \"31\"], \"mode\": \"lines\", \"name\": \"median_absolute_error_min\", \"stepped\": true, \"type\": \"scatter\", \"data\": [1.7517010353396985, 1.2770882863526494, 1.2236596242819782, 1.0066666666666666, 1.0066666666666666, 1.0066666666666666, 1.0, 0.9333333333333332, 0.9035928571428584, 0.9035928571428584, 0.9035928571428584, 0.9035928571428584, 0.9035928571428584, 0.9035928571428584, 0.9035928571428584, 0.9035928571428584, 0.7791784933329347, 0.7791784933329347]}], \"spearman_correlation\": [{\"categories\": [\"0\", \"3\", \"6\", \"9\", \"12\", \"15\", \"20\", \"21\", \"22\", \"23\", \"24\", \"25\", \"26\", \"27\", \"28\", \"29\", \"30\", \"31\"], \"mode\": \"markers\", \"name\": \"spearman_correlation\", \"stepped\": false, \"type\": \"scatter\", \"data\": [0.6949281127257488, 0.8944550677615333, 0.8982707651001253, 0.8398594244689883, 0.8984440068928927, 0.7590681872850059, 0.8624772468338671, 0.8575230965926272, 0.9278741575867956, 0.9299264474473526, 0.9330240392078132, 0.8412674305664254, 0.44155458755516674, 0.8470704690228603, 0.8703145063127102, 0.9168419987849887, 0.940327142994412, 0.9402774627468231]}, {\"categories\": [\"0\", \"3\", \"6\", \"9\", \"12\", \"15\", \"20\", \"21\", \"22\", \"23\", \"24\", \"25\", \"26\", \"27\", \"28\", \"29\", \"30\", \"31\"], \"mode\": \"lines\", \"name\": \"spearman_correlation_max\", \"stepped\": true, \"type\": \"scatter\", \"data\": [0.6949281127257488, 0.8944550677615333, 0.8982707651001253, 0.8982707651001253, 0.8984440068928927, 0.8984440068928927, 0.8984440068928927, 0.8984440068928927, 0.9278741575867956, 0.9299264474473526, 0.9330240392078132, 0.9330240392078132, 0.9330240392078132, 0.9330240392078132, 0.9330240392078132, 0.9330240392078132, 0.940327142994412, 0.940327142994412]}], \"normalized_root_mean_squared_error\": [{\"categories\": [\"0\", \"3\", \"6\", \"9\", \"12\", \"15\", \"20\", \"21\", \"22\", \"23\", \"24\", \"25\", \"26\", \"27\", \"28\", \"29\", \"30\", \"31\"], \"mode\": \"markers\", \"name\": \"normalized_root_mean_squared_error\", \"stepped\": false, \"type\": \"scatter\", \"data\": [0.1629833520284389, 0.12147385869498221, 0.11938218886117997, 0.14488969841682683, 0.11799961562426389, 0.17440676346530593, 0.13696913395551624, 0.13487503913908225, 0.1053974817071994, 0.11070081335355537, 0.10626939215173552, 0.13075744129900135, 0.20101847118005237, 0.13941568186828818, 0.1247255472072772, 0.11388428461178406, 0.09456412009003883, 0.0965679560046931]}, {\"categories\": [\"0\", \"3\", \"6\", \"9\", \"12\", \"15\", \"20\", \"21\", \"22\", \"23\", \"24\", \"25\", \"26\", \"27\", \"28\", \"29\", \"30\", \"31\"], \"mode\": \"lines\", \"name\": \"normalized_root_mean_squared_error_min\", \"stepped\": true, \"type\": \"scatter\", \"data\": [0.1629833520284389, 0.12147385869498221, 0.11938218886117997, 0.11938218886117997, 0.11799961562426389, 0.11799961562426389, 0.11799961562426389, 0.11799961562426389, 0.1053974817071994, 0.1053974817071994, 0.1053974817071994, 0.1053974817071994, 0.1053974817071994, 0.1053974817071994, 0.1053974817071994, 0.1053974817071994, 0.09456412009003883, 0.09456412009003883]}], \"root_mean_squared_log_error\": [{\"categories\": [\"0\", \"3\", \"6\", \"9\", \"12\", \"15\", \"20\", \"21\", \"22\", \"23\", \"24\", \"25\", \"26\", \"27\", \"28\", \"29\", \"30\", \"31\"], \"mode\": \"markers\", \"name\": \"root_mean_squared_log_error\", \"stepped\": false, \"type\": \"scatter\", \"data\": [0.6100881595971186, NaN, NaN, 0.5684852453004585, 0.48348346647097395, 0.7074221588178293, 0.5796408330394615, 0.5509307294468451, 0.5109669561699473, 0.5460229578349411, 0.521857809573684, NaN, 0.7335639750338029, 0.6101595455152717, 0.569745149452521, 0.5539313356264649, 0.4694507308577949, 0.49622938195579824]}, {\"categories\": [\"0\", \"3\", \"6\", \"9\", \"12\", \"15\", \"20\", \"21\", \"22\", \"23\", \"24\", \"25\", \"26\", \"27\", \"28\", \"29\", \"30\", \"31\"], \"mode\": \"lines\", \"name\": \"root_mean_squared_log_error_min\", \"stepped\": true, \"type\": \"scatter\", \"data\": [0.6100881595971186, 0.6100881595971186, 0.6100881595971186, 0.5684852453004585, 0.48348346647097395, 0.48348346647097395, 0.48348346647097395, 0.48348346647097395, 0.48348346647097395, 0.48348346647097395, 0.48348346647097395, 0.48348346647097395, 0.48348346647097395, 0.48348346647097395, 0.48348346647097395, 0.48348346647097395, 0.4694507308577949, 0.4694507308577949]}]}, \"metricName\": null, \"primaryMetricName\": \"normalized_mean_absolute_error\", \"showLegend\": false}, \"run_metrics\": [{\"name\": \"experiment_status\", \"run_id\": \"AutoML_e7050916-dc17-4463-9557-6052ab249c0f\", \"categories\": [0, 1, 2, 3, 4, 5, 6, 7, 8, 9, 10, 11, 12, 13], \"series\": [{\"data\": [\"DatasetEvaluation\", \"FeaturesGeneration\", \"DatasetFeaturization\", \"DatasetFeaturizationCompleted\", \"DatasetCrossValidationSplit\", \"ModelSelection\", \"BestRunExplainModel\", \"ModelExplanationDataSetSetup\", \"PickSurrogateModel\", \"EngineeredFeatureExplanations\", \"EngineeredFeatureExplanations\", \"RawFeaturesExplanations\", \"RawFeaturesExplanations\", \"BestRunExplainModel\"]}]}, {\"name\": \"experiment_status_description\", \"run_id\": \"AutoML_e7050916-dc17-4463-9557-6052ab249c0f\", \"categories\": [0, 1, 2, 3, 4, 5, 6, 7, 8, 9, 10, 11, 12, 13], \"series\": [{\"data\": [\"Gathering dataset statistics.\", \"Generating features for the dataset.\", \"Beginning to fit featurizers and featurize the dataset.\", \"Completed fit featurizers and featurizing the dataset.\", \"Generating individually featurized CV splits.\", \"Beginning model selection.\", \"Best run model explanations started\", \"Model explanations data setup completed\", \"Choosing LightGBM as the surrogate model for explanations\", \"Computation of engineered features started\", \"Computation of engineered features completed\", \"Computation of raw features started\", \"Computation of raw features completed\", \"Best run model explanations completed\"]}]}, {\"name\": \"root_mean_squared_error\", \"run_id\": \"AutoML_e7050916-dc17-4463-9557-6052ab249c0f\", \"categories\": [0], \"series\": [{\"data\": [1.8912824018007766]}]}, {\"name\": \"median_absolute_error\", \"run_id\": \"AutoML_e7050916-dc17-4463-9557-6052ab249c0f\", \"categories\": [0], \"series\": [{\"data\": [0.7791784933329347]}]}, {\"name\": \"normalized_root_mean_squared_log_error\", \"run_id\": \"AutoML_e7050916-dc17-4463-9557-6052ab249c0f\", \"categories\": [0], \"series\": [{\"data\": [0.15419519496424933]}]}, {\"name\": \"root_mean_squared_log_error\", \"run_id\": \"AutoML_e7050916-dc17-4463-9557-6052ab249c0f\", \"categories\": [0], \"series\": [{\"data\": [0.4694507308577949]}]}, {\"name\": \"normalized_root_mean_squared_error\", \"run_id\": \"AutoML_e7050916-dc17-4463-9557-6052ab249c0f\", \"categories\": [0], \"series\": [{\"data\": [0.09456412009003883]}]}, {\"name\": \"explained_variance\", \"run_id\": \"AutoML_e7050916-dc17-4463-9557-6052ab249c0f\", \"categories\": [0], \"series\": [{\"data\": [0.8197721332387727]}]}, {\"name\": \"spearman_correlation\", \"run_id\": \"AutoML_e7050916-dc17-4463-9557-6052ab249c0f\", \"categories\": [0], \"series\": [{\"data\": [0.940327142994412]}]}, {\"name\": \"normalized_median_absolute_error\", \"run_id\": \"AutoML_e7050916-dc17-4463-9557-6052ab249c0f\", \"categories\": [0], \"series\": [{\"data\": [0.03895892466664673]}]}, {\"name\": \"mean_absolute_percentage_error\", \"run_id\": \"AutoML_e7050916-dc17-4463-9557-6052ab249c0f\", \"categories\": [0], \"series\": [{\"data\": [9.875926092171118]}]}, {\"name\": \"r2_score\", \"run_id\": \"AutoML_e7050916-dc17-4463-9557-6052ab249c0f\", \"categories\": [0], \"series\": [{\"data\": [0.8188206318517042]}]}, {\"name\": \"normalized_mean_absolute_error\", \"run_id\": \"AutoML_e7050916-dc17-4463-9557-6052ab249c0f\", \"categories\": [0], \"series\": [{\"data\": [0.061511080661214614]}]}, {\"name\": \"mean_absolute_error\", \"run_id\": \"AutoML_e7050916-dc17-4463-9557-6052ab249c0f\", \"categories\": [0], \"series\": [{\"data\": [1.2302216132242925]}]}], \"run_logs\": \"\\nRun is completed.\", \"graph\": {}, \"widget_settings\": {\"childWidgetDisplay\": \"popup\", \"send_telemetry\": false, \"log_level\": \"INFO\", \"sdk_version\": \"1.57.0\"}, \"loading\": false}"
          },
          "metadata": {}
        }
      ],
      "execution_count": 7,
      "metadata": {
        "gather": {
          "logged": 1742564639521
        },
        "jupyter": {
          "outputs_hidden": false,
          "source_hidden": false
        },
        "nteract": {
          "transient": {
            "deleting": false
          }
        }
      }
    },
    {
      "cell_type": "markdown",
      "source": [
        "## Best Model\n",
        "\n",
        "TODO: In the cell below, get the best model from the automl experiments and display all the properties of the model.\n",
        "\n"
      ],
      "metadata": {}
    },
    {
      "cell_type": "code",
      "source": [
        "best_run, best_model = remote_run.get_output()"
      ],
      "outputs": [],
      "execution_count": 34,
      "metadata": {
        "gather": {
          "logged": 1742569172158
        },
        "jupyter": {
          "outputs_hidden": false,
          "source_hidden": false
        },
        "nteract": {
          "transient": {
            "deleting": false
          }
        }
      }
    },
    {
      "cell_type": "code",
      "source": [
        "import joblib\n",
        "\n",
        "#TODO: Save the best model\n",
        "print(\"Best Run ID:\", best_run.id)\n",
        "print(\"Best Model Properties:\")\n",
        "for key, value in best_run.get_metrics().items():\n",
        "    print(f\"{key}: {value}\")\n",
        "\n",
        "\n",
        "model_filename = \"best_automl_model.pkl\"\n",
        "joblib.dump(best_model, model_filename)"
      ],
      "outputs": [
        {
          "output_type": "stream",
          "name": "stdout",
          "text": "Best Run ID: AutoML_e7050916-dc17-4463-9557-6052ab249c0f_30\nBest Model Properties:\nmean_absolute_error: 1.2302216132242925\nmean_absolute_percentage_error: 9.875926092171118\nmedian_absolute_error: 0.7791784933329347\nr2_score: 0.8188206318517042\nnormalized_median_absolute_error: 0.03895892466664673\nnormalized_root_mean_squared_log_error: 0.15419519496424933\nnormalized_root_mean_squared_error: 0.09456412009003883\nroot_mean_squared_error: 1.8912824018007766\nspearman_correlation: 0.940327142994412\nnormalized_mean_absolute_error: 0.061511080661214614\nroot_mean_squared_log_error: 0.4694507308577949\nexplained_variance: 0.8197721332387727\nresiduals: aml://artifactId/ExperimentRun/dcid.AutoML_e7050916-dc17-4463-9557-6052ab249c0f_30/residuals\npredicted_true: aml://artifactId/ExperimentRun/dcid.AutoML_e7050916-dc17-4463-9557-6052ab249c0f_30/predicted_true\n"
        },
        {
          "output_type": "execute_result",
          "execution_count": 38,
          "data": {
            "text/plain": "['best_automl_model.pkl']"
          },
          "metadata": {}
        }
      ],
      "execution_count": 38,
      "metadata": {
        "gather": {
          "logged": 1742569210738
        },
        "jupyter": {
          "outputs_hidden": false,
          "source_hidden": false
        },
        "nteract": {
          "transient": {
            "deleting": false
          }
        }
      }
    },
    {
      "cell_type": "markdown",
      "source": [
        "## Model Deployment\n",
        "\n",
        "Remember you have to deploy only one of the two models you trained but you still need to register both the models. Perform the steps in the rest of this notebook only if you wish to deploy this model.\n",
        "\n",
        "TODO: In the cell below, register the model, create an inference config and deploy the model as a web service."
      ],
      "metadata": {}
    },
    {
      "cell_type": "code",
      "source": [
        "from azureml.core.model import Model\n",
        "import os\n",
        "\n",
        "# Ensure the model file exists\n",
        "model_file = \"best_automl_model.pkl\"\n",
        "if not os.path.isfile(model_file):\n",
        "    raise FileNotFoundError(f\"The model file {model_file} does not exist.\")\n",
        "\n",
        "# Register the model\n",
        "model = Model.register(\n",
        "    workspace=ws,\n",
        "    model_name=\"student-performance-model\",\n",
        "    model_path=model_file,\n",
        "    description=\"AutoML trained model for predicting student performance\",\n",
        "    tags={\n",
        "        \"type\": \"AutoML\",\n",
        "        \"task\": \"regression\", \n",
        "        \"framework\": \"scikit-learn\"\n",
        "    }\n",
        ")\n",
        "\n",
        "print(f\"Model registered: Name={model.name}, ID={model.id}, Version={model.version}\")\n"
      ],
      "outputs": [
        {
          "output_type": "stream",
          "name": "stdout",
          "text": "Registering model student-performance-model\nModel registered: Name=student-performance-model, ID=student-performance-model:7, Version=7\n"
        }
      ],
      "execution_count": 39,
      "metadata": {
        "gather": {
          "logged": 1742569217531
        },
        "jupyter": {
          "outputs_hidden": false,
          "source_hidden": false
        },
        "nteract": {
          "transient": {
            "deleting": false
          }
        }
      }
    },
    {
      "cell_type": "code",
      "source": [
        "import sys\n",
        "import pkg_resources\n",
        "import importlib\n",
        "\n",
        "# Gather all imported package names\n",
        "imported_packages = {pkg.split('.')[0] for pkg in sys.modules.keys() if not pkg.startswith('_')}\n",
        "\n",
        "# Find installed packages and their versions\n",
        "installed_packages = {pkg.key: pkg.version for pkg in pkg_resources.working_set}\n",
        "\n",
        "# Print out the packages with versions\n",
        "for pkg in sorted(imported_packages):\n",
        "    version = installed_packages.get(pkg.lower())\n",
        "    if version:\n",
        "        print(f\"{pkg}=={version}\")\n",
        "    else:\n",
        "        print(f\"{pkg} (built-in or unknown version)\")\n"
      ],
      "outputs": [
        {
          "output_type": "stream",
          "name": "stdout",
          "text": "97d2165b493fecec79c65b5c6254dffd4e375528 (built-in or unknown version)\nCython==3.0.10\nIPython==8.26.0\nOpenSSL (built-in or unknown version)\nPIL (built-in or unknown version)\nabc (built-in or unknown version)\nabsl (built-in or unknown version)\nadal==1.2.7\naiohappyeyeballs==2.3.5\naiohttp==3.10.1\naiosignal==1.3.1\nannotated_types (built-in or unknown version)\nanyio==4.4.0\napplicationinsights==0.11.10\narch==5.6.0\nargcomplete==3.3.0\nargparse (built-in or unknown version)\narray (built-in or unknown version)\nast (built-in or unknown version)\nasttokens==2.4.1\nastunparse==1.6.3\nasync_timeout (built-in or unknown version)\nasyncio (built-in or unknown version)\natexit (built-in or unknown version)\nattr (built-in or unknown version)\nazure (built-in or unknown version)\nazureml (built-in or unknown version)\nbackports (built-in or unknown version)\nbase64 (built-in or unknown version)\nbcrypt==4.2.0\nbdb (built-in or unknown version)\nbinascii (built-in or unknown version)\nbisect (built-in or unknown version)\nblinker==1.8.2\nblis==0.7.11\nboto3==1.20.19\nbotocore==1.23.19\nbottleneck==1.4.0\nbrotli==1.0.9\nbuiltins (built-in or unknown version)\nbz2 (built-in or unknown version)\ncProfile (built-in or unknown version)\ncachetools==5.4.0\ncalendar (built-in or unknown version)\ncatalogue==2.0.10\ncertifi==2024.8.30\ncffi==1.16.0\ncgi (built-in or unknown version)\nchardet==5.2.0\ncharset_normalizer (built-in or unknown version)\nclick==8.1.7\ncloudpickle==2.2.1\ncmath (built-in or unknown version)\ncmd (built-in or unknown version)\ncode (built-in or unknown version)\ncodecs (built-in or unknown version)\ncodeop (built-in or unknown version)\ncollections (built-in or unknown version)\ncolorama==0.4.6\ncolorsys (built-in or unknown version)\ncomm==0.2.2\nconcurrent (built-in or unknown version)\nconfection==0.1.5\nconfigparser (built-in or unknown version)\ncontextlib (built-in or unknown version)\ncontextvars (built-in or unknown version)\ncopy (built-in or unknown version)\ncopyreg (built-in or unknown version)\ncramjam==2.8.3\ncryptography==38.0.4\ncsv (built-in or unknown version)\nctypes (built-in or unknown version)\ncurses (built-in or unknown version)\ncv2 (built-in or unknown version)\ncycler==0.12.1\ncymem==2.0.8\ncython==3.0.10\ncython_runtime (built-in or unknown version)\ndask==2023.2.0\ndataclasses==0.6\ndatetime (built-in or unknown version)\ndateutil (built-in or unknown version)\ndebugpy==1.8.5\ndecimal (built-in or unknown version)\ndecorator==5.1.1\ndefusedxml==0.7.1\ndeprecated==1.2.14\ndifflib (built-in or unknown version)\ndill==0.3.7\ndis (built-in or unknown version)\ndistributed==2023.2.0\ndistutils (built-in or unknown version)\ndocker==7.1.0\nemail (built-in or unknown version)\nen_core_web_sm (built-in or unknown version)\nencodings (built-in or unknown version)\nentrypoints==0.4\nenum (built-in or unknown version)\nerrno (built-in or unknown version)\nexceptiongroup==1.2.2\nexecuting==2.1.0\nfaulthandler (built-in or unknown version)\nfcntl (built-in or unknown version)\nfilecmp (built-in or unknown version)\nflatbuffers==24.3.25\nfnmatch (built-in or unknown version)\nfractions (built-in or unknown version)\nfrozenlist==1.4.1\nfsspec==2023.10.0\nftplib (built-in or unknown version)\nfunctools (built-in or unknown version)\ngast==0.6.0\ngc (built-in or unknown version)\ngenericpath (built-in or unknown version)\ngensim==4.3.2\ngetopt (built-in or unknown version)\ngetpass (built-in or unknown version)\ngettext (built-in or unknown version)\nglob (built-in or unknown version)\ngoogle (built-in or unknown version)\ngrp (built-in or unknown version)\ngzip (built-in or unknown version)\nh5py==3.11.0\nhashlib (built-in or unknown version)\nheapq (built-in or unknown version)\nhmac (built-in or unknown version)\nholidays==0.29\nhtml (built-in or unknown version)\nhttp (built-in or unknown version)\nhuggingface_hub (built-in or unknown version)\nidna==3.7\nimghdr (built-in or unknown version)\nimportlib (built-in or unknown version)\nimportlib_metadata (built-in or unknown version)\nimportlib_resources (built-in or unknown version)\ninspect (built-in or unknown version)\ninterpret (built-in or unknown version)\ninterpret_community (built-in or unknown version)\ninvoke==2.2.0\nio (built-in or unknown version)\nipaddress (built-in or unknown version)\nipykernel==6.22.0\nipython_genutils (built-in or unknown version)\nipywidgets==7.7.1\nisodate==0.6.1\nitertools (built-in or unknown version)\njedi==0.17.2\njinja2==3.1.4\njmespath==0.10.0\njoblib==1.2.0\njson (built-in or unknown version)\njupyter_client (built-in or unknown version)\njupyter_core (built-in or unknown version)\njwt (built-in or unknown version)\nkeras==3.5.0\nkeyword (built-in or unknown version)\nkiwisolver==1.4.5\nknack==0.11.0\nlangcodes==3.4.0\nlightgbm==3.2.1\nlinecache (built-in or unknown version)\nlinkify_it (built-in or unknown version)\nllvmlite==0.39.1\nlocale (built-in or unknown version)\nlocket==1.0.0\nlogging (built-in or unknown version)\nlz4==4.3.3\nlzma (built-in or unknown version)\nmarkdown_it (built-in or unknown version)\nmarkupsafe==2.1.3\nmarshal (built-in or unknown version)\nmath (built-in or unknown version)\nmatplotlib==3.6.3\nmdurl==0.1.2\nmimetypes (built-in or unknown version)\nml_dtypes (built-in or unknown version)\nml_wrappers (built-in or unknown version)\nmlflow (built-in or unknown version)\nmmap (built-in or unknown version)\nmodulefinder (built-in or unknown version)\nmpl_toolkits (built-in or unknown version)\nmpmath==1.3.0\nmsgpack==1.0.8\nmsrest==0.7.1\nmsrestazure==0.6.4.post1\nmultidict==6.0.5\nmultiprocessing (built-in or unknown version)\nmurmurhash==1.0.10\nnacl (built-in or unknown version)\nnamex==0.0.8\nnetrc (built-in or unknown version)\nntpath (built-in or unknown version)\nnumba==0.56.4\nnumbers (built-in or unknown version)\nnumexpr==2.10.1\nnumpy==1.23.5\noauthlib==3.2.2\nonnx==1.16.1\nonnxconverter_common (built-in or unknown version)\nonnxmltools==1.11.2\nonnxruntime==1.17.3\nopcode (built-in or unknown version)\nopentelemetry (built-in or unknown version)\noperator (built-in or unknown version)\nopt_einsum (built-in or unknown version)\noptree==0.12.1\nos (built-in or unknown version)\npackaging==24.1\npandas==1.3.5\nparamiko==3.4.0\nparso==0.7.1\npathlib (built-in or unknown version)\npathspec==0.12.1\npatsy==0.5.6\npdb (built-in or unknown version)\npickle (built-in or unknown version)\npickleshare==0.7.5\npickletools (built-in or unknown version)\npkg_resources (built-in or unknown version)\npkgutil (built-in or unknown version)\nplatform (built-in or unknown version)\nplatformdirs==4.2.2\nplistlib (built-in or unknown version)\nplotly==5.24.1\npmdarima==1.8.5\nposix (built-in or unknown version)\nposixpath (built-in or unknown version)\npprint (built-in or unknown version)\npreshed==3.0.9\nprofile (built-in or unknown version)\nprompt_toolkit (built-in or unknown version)\nproperty_cached (built-in or unknown version)\nprophet==1.1.4\npstats (built-in or unknown version)\npsutil==5.9.3\npty (built-in or unknown version)\npure_eval (built-in or unknown version)\npwd (built-in or unknown version)\npy4j==0.10.9.5\npyarrow==14.0.2\npybind11_abseil (built-in or unknown version)\npydantic==2.9.2\npydantic_core (built-in or unknown version)\npydev_ipython (built-in or unknown version)\npydevconsole (built-in or unknown version)\npydevd (built-in or unknown version)\npydevd_file_utils (built-in or unknown version)\npydevd_plugins (built-in or unknown version)\npydevd_tracing (built-in or unknown version)\npydoc (built-in or unknown version)\npydoc_data (built-in or unknown version)\npyexpat (built-in or unknown version)\npygments==2.18.0\npynvml==11.5.3\npyparsing==3.1.2\npyspark==3.3.1\npytorch_transformers (built-in or unknown version)\npytz==2022.5\nqueue (built-in or unknown version)\nquopri (built-in or unknown version)\nraiutils==0.4.2\nrandom (built-in or unknown version)\nre (built-in or unknown version)\nregex==2024.7.24\nreprlib (built-in or unknown version)\nrequests==2.32.3\nrequests_oauthlib (built-in or unknown version)\nresource (built-in or unknown version)\nrich==13.8.1\nrunpy (built-in or unknown version)\nscipy==1.10.1\nsecrets (built-in or unknown version)\nselect (built-in or unknown version)\nselectors (built-in or unknown version)\nsetuptools==68.0.0\nshap==0.43.0\nshlex (built-in or unknown version)\nshutil (built-in or unknown version)\nsignal (built-in or unknown version)\nsite (built-in or unknown version)\nsix==1.16.0\nskl2onnx==1.15.0\nsklearn (built-in or unknown version)\nsklearn_pandas (built-in or unknown version)\nslicer==0.0.7\nsmart_open (built-in or unknown version)\nsnappy (built-in or unknown version)\nsniffio==1.3.1\nsocket (built-in or unknown version)\nsocketserver (built-in or unknown version)\nsocks (built-in or unknown version)\nsortedcontainers==2.4.0\nspacy==3.7.4\nsparse==0.15.4\nsqlite3 (built-in or unknown version)\nsqlparse==0.5.1\nsre_compile (built-in or unknown version)\nsre_constants (built-in or unknown version)\nsre_parse (built-in or unknown version)\nsrsly==2.4.8\nssl (built-in or unknown version)\nstack_data (built-in or unknown version)\nstarlette==0.38.6\nstat (built-in or unknown version)\nstatsmodels==0.13.5\nstring (built-in or unknown version)\nstringprep (built-in or unknown version)\nstruct (built-in or unknown version)\nsubprocess (built-in or unknown version)\nsympy==1.13.1\nsys (built-in or unknown version)\nsysconfig (built-in or unknown version)\ntarfile (built-in or unknown version)\ntblib==3.0.0\ntempfile (built-in or unknown version)\ntensorflow==2.17.0\ntermcolor==2.4.0\ntermios (built-in or unknown version)\ntextwrap (built-in or unknown version)\nthinc==8.2.5\nthreading (built-in or unknown version)\nthreadpoolctl==3.5.0\ntime (built-in or unknown version)\ntimeit (built-in or unknown version)\ntlz (built-in or unknown version)\ntoken (built-in or unknown version)\ntokenize (built-in or unknown version)\ntoolz==0.12.1\ntorch==2.4.1\ntorchgen (built-in or unknown version)\ntorchvision==0.19.1\ntornado==6.4.1\ntqdm==4.66.4\ntraceback (built-in or unknown version)\ntraitlets==5.14.3\ntriton==3.0.0\ntty (built-in or unknown version)\ntyper==0.9.4\ntypes (built-in or unknown version)\ntyping (built-in or unknown version)\ntyping_extensions (built-in or unknown version)\nuc_micro (built-in or unknown version)\nunicodedata (built-in or unknown version)\nunittest (built-in or unknown version)\nurllib (built-in or unknown version)\nurllib3==1.26.19\nuu (built-in or unknown version)\nuuid==1.30\nwarnings (built-in or unknown version)\nwasabi==1.1.3\nwcwidth==0.2.13\nweakref (built-in or unknown version)\nweasel==0.3.4\nwebbrowser (built-in or unknown version)\nwrapt==1.14.1\nwsgiref (built-in or unknown version)\nxgboost==1.5.2\nxml (built-in or unknown version)\nxmlrpc (built-in or unknown version)\nxxhash==3.4.1\nyaml (built-in or unknown version)\nyarl==1.9.4\nzict==3.0.0\nzipfile (built-in or unknown version)\nzipimport (built-in or unknown version)\nzipp==3.12.0\nzlib (built-in or unknown version)\nzmq (built-in or unknown version)\nzoneinfo (built-in or unknown version)\nzope (built-in or unknown version)\n"
        }
      ],
      "execution_count": 40,
      "metadata": {
        "gather": {
          "logged": 1742569304197
        }
      }
    },
    {
      "cell_type": "code",
      "source": [
        "from azureml.core.environment import Environment\n",
        "\n",
        "env_name = \"my-captured-notebook-env\" \n",
        "\n",
        "try:\n",
        "    env = Environment.get(workspace=ws, name=env_name)\n",
        "    print(f\"Environment '{env_name}' successfully retrieved.\")\n",
        "except Exception as e:\n",
        "    print(f\"Error retrieving environment '{env_name}': {e}\")\n",
        "\n"
      ],
      "outputs": [
        {
          "output_type": "stream",
          "name": "stdout",
          "text": "Environment 'my-captured-notebook-env' successfully retrieved.\n"
        }
      ],
      "execution_count": 44,
      "metadata": {
        "gather": {
          "logged": 1742569707386
        }
      }
    },
    {
      "cell_type": "code",
      "source": [
        "from azureml.core.model import Model, InferenceConfig\n",
        "from azureml.core.webservice import AciWebservice\n",
        "\n",
        "service_name = 'student-performance-predictor'\n",
        "\n",
        "inference_config = InferenceConfig(entry_script='score.py', environment=env)\n",
        "aci_config = AciWebservice.deploy_configuration(cpu_cores=1, memory_gb=1)\n",
        "\n",
        "# Deploying Serice\n",
        "service = Model.deploy(\n",
        "    workspace=ws,\n",
        "    name=service_name,\n",
        "    models=[model],  \n",
        "    inference_config=inference_config,\n",
        "    deployment_config=aci_config,\n",
        "    overwrite=True\n",
        ")\n",
        "\n",
        "print(f\"Service state: {service.state}\")\n",
        "print(f\"Scoring URI: {service.scoring_uri}\")\n",
        "\n"
      ],
      "outputs": [
        {
          "output_type": "error",
          "ename": "WebserviceException",
          "evalue": "WebserviceException:\n\tMessage: Conflict of operation, another operation on same entity is already running in workspace student-performance-ws.\n\tInnerException None\n\tErrorResponse \n{\n    \"error\": {\n        \"message\": \"Conflict of operation, another operation on same entity is already running in workspace student-performance-ws.\"\n    }\n}",
          "traceback": [
            "\u001b[0;31m---------------------------------------------------------------------------\u001b[0m",
            "\u001b[0;31mWebserviceException\u001b[0m                       Traceback (most recent call last)",
            "Cell \u001b[0;32mIn[47], line 10\u001b[0m\n\u001b[1;32m      7\u001b[0m aci_config \u001b[38;5;241m=\u001b[39m AciWebservice\u001b[38;5;241m.\u001b[39mdeploy_configuration(cpu_cores\u001b[38;5;241m=\u001b[39m\u001b[38;5;241m1\u001b[39m, memory_gb\u001b[38;5;241m=\u001b[39m\u001b[38;5;241m1\u001b[39m)\n\u001b[1;32m      9\u001b[0m \u001b[38;5;66;03m# Deploying Serice\u001b[39;00m\n\u001b[0;32m---> 10\u001b[0m service \u001b[38;5;241m=\u001b[39m \u001b[43mModel\u001b[49m\u001b[38;5;241;43m.\u001b[39;49m\u001b[43mdeploy\u001b[49m\u001b[43m(\u001b[49m\n\u001b[1;32m     11\u001b[0m \u001b[43m    \u001b[49m\u001b[43mworkspace\u001b[49m\u001b[38;5;241;43m=\u001b[39;49m\u001b[43mws\u001b[49m\u001b[43m,\u001b[49m\n\u001b[1;32m     12\u001b[0m \u001b[43m    \u001b[49m\u001b[43mname\u001b[49m\u001b[38;5;241;43m=\u001b[39;49m\u001b[43mservice_name\u001b[49m\u001b[43m,\u001b[49m\n\u001b[1;32m     13\u001b[0m \u001b[43m    \u001b[49m\u001b[43mmodels\u001b[49m\u001b[38;5;241;43m=\u001b[39;49m\u001b[43m[\u001b[49m\u001b[43mmodel\u001b[49m\u001b[43m]\u001b[49m\u001b[43m,\u001b[49m\u001b[43m  \u001b[49m\n\u001b[1;32m     14\u001b[0m \u001b[43m    \u001b[49m\u001b[43minference_config\u001b[49m\u001b[38;5;241;43m=\u001b[39;49m\u001b[43minference_config\u001b[49m\u001b[43m,\u001b[49m\n\u001b[1;32m     15\u001b[0m \u001b[43m    \u001b[49m\u001b[43mdeployment_config\u001b[49m\u001b[38;5;241;43m=\u001b[39;49m\u001b[43maci_config\u001b[49m\u001b[43m,\u001b[49m\n\u001b[1;32m     16\u001b[0m \u001b[43m    \u001b[49m\u001b[43moverwrite\u001b[49m\u001b[38;5;241;43m=\u001b[39;49m\u001b[38;5;28;43;01mTrue\u001b[39;49;00m\n\u001b[1;32m     17\u001b[0m \u001b[43m)\u001b[49m\n\u001b[1;32m     19\u001b[0m \u001b[38;5;28mprint\u001b[39m(\u001b[38;5;124mf\u001b[39m\u001b[38;5;124m\"\u001b[39m\u001b[38;5;124mService state: \u001b[39m\u001b[38;5;132;01m{\u001b[39;00mservice\u001b[38;5;241m.\u001b[39mstate\u001b[38;5;132;01m}\u001b[39;00m\u001b[38;5;124m\"\u001b[39m)\n\u001b[1;32m     20\u001b[0m \u001b[38;5;28mprint\u001b[39m(\u001b[38;5;124mf\u001b[39m\u001b[38;5;124m\"\u001b[39m\u001b[38;5;124mScoring URI: \u001b[39m\u001b[38;5;132;01m{\u001b[39;00mservice\u001b[38;5;241m.\u001b[39mscoring_uri\u001b[38;5;132;01m}\u001b[39;00m\u001b[38;5;124m\"\u001b[39m)\n",
            "File \u001b[0;32m/anaconda/envs/azureml_py38/lib/python3.10/site-packages/azureml/core/model.py:1681\u001b[0m, in \u001b[0;36mModel.deploy\u001b[0;34m(workspace, name, models, inference_config, deployment_config, deployment_target, overwrite, show_output)\u001b[0m\n\u001b[1;32m   1678\u001b[0m     use_env_path \u001b[38;5;241m=\u001b[39m inference_config\u001b[38;5;241m.\u001b[39menvironment \u001b[38;5;129;01mis\u001b[39;00m \u001b[38;5;129;01mnot\u001b[39;00m \u001b[38;5;28;01mNone\u001b[39;00m\n\u001b[1;32m   1680\u001b[0m \u001b[38;5;28;01mif\u001b[39;00m use_env_path:\n\u001b[0;32m-> 1681\u001b[0m     \u001b[38;5;28;01mreturn\u001b[39;00m \u001b[43mModel\u001b[49m\u001b[38;5;241;43m.\u001b[39;49m\u001b[43m_deploy_with_environment\u001b[49m\u001b[43m(\u001b[49m\u001b[43mworkspace\u001b[49m\u001b[43m,\u001b[49m\u001b[43m \u001b[49m\u001b[43mname\u001b[49m\u001b[43m,\u001b[49m\u001b[43m \u001b[49m\u001b[43mmodels\u001b[49m\u001b[43m,\u001b[49m\u001b[43m \u001b[49m\u001b[43minference_config\u001b[49m\u001b[43m,\u001b[49m\u001b[43m \u001b[49m\u001b[43mdeployment_config\u001b[49m\u001b[43m,\u001b[49m\n\u001b[1;32m   1682\u001b[0m \u001b[43m                                          \u001b[49m\u001b[43mdeployment_target\u001b[49m\u001b[43m,\u001b[49m\u001b[43m \u001b[49m\u001b[43moverwrite\u001b[49m\u001b[43m,\u001b[49m\u001b[43m \u001b[49m\u001b[43mshow_output\u001b[49m\u001b[43m)\u001b[49m\n\u001b[1;32m   1684\u001b[0m \u001b[38;5;66;03m# ContainerImage-based webservice.\u001b[39;00m\n\u001b[1;32m   1685\u001b[0m \u001b[38;5;28;01mif\u001b[39;00m deployment_config\u001b[38;5;241m.\u001b[39m_webservice_type\u001b[38;5;241m.\u001b[39m_webservice_type \u001b[38;5;129;01min\u001b[39;00m \\\n\u001b[1;32m   1686\u001b[0m    (MIR_WEBSERVICE_TYPE, AKS_ENDPOINT_TYPE):\n",
            "File \u001b[0;32m/anaconda/envs/azureml_py38/lib/python3.10/site-packages/azureml/core/model.py:1888\u001b[0m, in \u001b[0;36mModel._deploy_with_environment\u001b[0;34m(workspace, name, models, inference_config, deployment_config, deployment_target, overwrite, show_output)\u001b[0m\n\u001b[1;32m   1864\u001b[0m \u001b[38;5;250m\u001b[39m\u001b[38;5;124;03m\"\"\"Deploy the model using an environment object.\u001b[39;00m\n\u001b[1;32m   1865\u001b[0m \n\u001b[1;32m   1866\u001b[0m \u001b[38;5;124;03m:param workspace:\u001b[39;00m\n\u001b[0;32m   (...)\u001b[0m\n\u001b[1;32m   1883\u001b[0m \u001b[38;5;124;03m:rtype: azureml.core.Webservice\u001b[39;00m\n\u001b[1;32m   1884\u001b[0m \u001b[38;5;124;03m\"\"\"\u001b[39;00m\n\u001b[1;32m   1885\u001b[0m environment_image_request \u001b[38;5;241m=\u001b[39m \\\n\u001b[1;32m   1886\u001b[0m     inference_config\u001b[38;5;241m.\u001b[39m_build_environment_image_request(workspace, [model\u001b[38;5;241m.\u001b[39mid \u001b[38;5;28;01mfor\u001b[39;00m model \u001b[38;5;129;01min\u001b[39;00m models], show_output)\n\u001b[0;32m-> 1888\u001b[0m \u001b[38;5;28;01mreturn\u001b[39;00m \u001b[43mModel\u001b[49m\u001b[38;5;241;43m.\u001b[39;49m\u001b[43m_deploy_with_environment_image_request\u001b[49m\u001b[43m(\u001b[49m\u001b[43mworkspace\u001b[49m\u001b[43m,\u001b[49m\u001b[43m \u001b[49m\u001b[43mname\u001b[49m\u001b[43m,\u001b[49m\u001b[43m \u001b[49m\u001b[43menvironment_image_request\u001b[49m\u001b[43m,\u001b[49m\n\u001b[1;32m   1889\u001b[0m \u001b[43m                                                    \u001b[49m\u001b[43mdeployment_config\u001b[49m\u001b[43m,\u001b[49m\u001b[43m \u001b[49m\u001b[43mdeployment_target\u001b[49m\u001b[43m,\u001b[49m\u001b[43m \u001b[49m\u001b[43moverwrite\u001b[49m\u001b[43m,\u001b[49m\n\u001b[1;32m   1890\u001b[0m \u001b[43m                                                    \u001b[49m\u001b[43mshow_output\u001b[49m\u001b[43m)\u001b[49m\n",
            "File \u001b[0;32m/anaconda/envs/azureml_py38/lib/python3.10/site-packages/azureml/core/model.py:1938\u001b[0m, in \u001b[0;36mModel._deploy_with_environment_image_request\u001b[0;34m(workspace, name, environment_image_request, deployment_config, deployment_target, overwrite, show_output)\u001b[0m\n\u001b[1;32m   1935\u001b[0m \u001b[38;5;28;01melif\u001b[39;00m \u001b[38;5;124m'\u001b[39m\u001b[38;5;124mcomputeName\u001b[39m\u001b[38;5;124m'\u001b[39m \u001b[38;5;129;01min\u001b[39;00m webservice_payload \u001b[38;5;129;01mand\u001b[39;00m deployment_target \u001b[38;5;129;01mis\u001b[39;00m \u001b[38;5;129;01mnot\u001b[39;00m \u001b[38;5;28;01mNone\u001b[39;00m:\n\u001b[1;32m   1936\u001b[0m     webservice_payload[\u001b[38;5;124m'\u001b[39m\u001b[38;5;124mcomputeName\u001b[39m\u001b[38;5;124m'\u001b[39m] \u001b[38;5;241m=\u001b[39m deployment_target\u001b[38;5;241m.\u001b[39mname\n\u001b[0;32m-> 1938\u001b[0m \u001b[38;5;28;01mreturn\u001b[39;00m \u001b[43mWebservice\u001b[49m\u001b[38;5;241;43m.\u001b[39;49m\u001b[43m_deploy_webservice\u001b[49m\u001b[43m(\u001b[49m\u001b[43mworkspace\u001b[49m\u001b[43m,\u001b[49m\u001b[43m \u001b[49m\u001b[43mname\u001b[49m\u001b[43m,\u001b[49m\u001b[43m \u001b[49m\u001b[43mwebservice_payload\u001b[49m\u001b[43m,\u001b[49m\u001b[43m \u001b[49m\u001b[43moverwrite\u001b[49m\u001b[43m,\u001b[49m\u001b[43m \u001b[49m\u001b[43mwebservice_class\u001b[49m\u001b[43m,\u001b[49m\n\u001b[1;32m   1939\u001b[0m \u001b[43m                                     \u001b[49m\u001b[43mshow_output\u001b[49m\u001b[43m)\u001b[49m\n",
            "File \u001b[0;32m/anaconda/envs/azureml_py38/lib/python3.10/site-packages/azureml/core/webservice/webservice.py:819\u001b[0m, in \u001b[0;36mWebservice._deploy_webservice\u001b[0;34m(workspace, name, webservice_payload, overwrite, webservice_class, show_output)\u001b[0m\n\u001b[1;32m    817\u001b[0m \u001b[38;5;66;03m# TODO Remove check_for_existing_webservice() later, this check has already included in common validation.\u001b[39;00m\n\u001b[1;32m    818\u001b[0m Webservice\u001b[38;5;241m.\u001b[39mcheck_for_existing_webservice(workspace, name, overwrite)\n\u001b[0;32m--> 819\u001b[0m \u001b[43mWebservice\u001b[49m\u001b[38;5;241;43m.\u001b[39;49m\u001b[43m_check_for_webservice\u001b[49m\u001b[43m(\u001b[49m\u001b[43mworkspace\u001b[49m\u001b[43m,\u001b[49m\u001b[43m \u001b[49m\u001b[43mname\u001b[49m\u001b[43m,\u001b[49m\u001b[43m \u001b[49m\u001b[43mWebservice\u001b[49m\u001b[38;5;241;43m.\u001b[39;49m\u001b[43m_get_deploy_compute_type\u001b[49m\u001b[43m(\u001b[49m\u001b[43mwebservice_payload\u001b[49m\u001b[43m)\u001b[49m\u001b[43m,\u001b[49m\n\u001b[1;32m    820\u001b[0m \u001b[43m                                 \u001b[49m\u001b[43mwebservice_payload\u001b[49m\u001b[43m,\u001b[49m\u001b[43m \u001b[49m\u001b[43mSERVICE_REQUEST_OPERATION_CREATE\u001b[49m\u001b[43m)\u001b[49m\n\u001b[1;32m    822\u001b[0m \u001b[38;5;28;01mif\u001b[39;00m \u001b[38;5;129;01mnot\u001b[39;00m overwrite:\n\u001b[1;32m    823\u001b[0m     Webservice\u001b[38;5;241m.\u001b[39m_check_for_compute_resource(workspace, webservice_payload)\n",
            "File \u001b[0;32m/anaconda/envs/azureml_py38/lib/python3.10/site-packages/azureml/core/webservice/webservice.py:736\u001b[0m, in \u001b[0;36mWebservice._check_for_webservice\u001b[0;34m(workspace, name, compute_type, payload, action, request_func, check_func)\u001b[0m\n\u001b[1;32m    733\u001b[0m     \u001b[38;5;28;01mdef\u001b[39;00m \u001b[38;5;21mcheck_func\u001b[39m(content):\n\u001b[1;32m    734\u001b[0m         \u001b[38;5;28;01mreturn\u001b[39;00m Webservice\u001b[38;5;241m.\u001b[39m_check_validate_error(content)\n\u001b[0;32m--> 736\u001b[0m \u001b[43mWebservice\u001b[49m\u001b[38;5;241;43m.\u001b[39;49m\u001b[43m_run_validate_framework\u001b[49m\u001b[43m(\u001b[49m\u001b[43mrequest_func\u001b[49m\u001b[43m,\u001b[49m\u001b[43m \u001b[49m\u001b[43mcheck_func\u001b[49m\u001b[43m)\u001b[49m\n",
            "File \u001b[0;32m/anaconda/envs/azureml_py38/lib/python3.10/site-packages/azureml/core/webservice/webservice.py:630\u001b[0m, in \u001b[0;36mWebservice._run_validate_framework\u001b[0;34m(request_func, check_func)\u001b[0m\n\u001b[1;32m    627\u001b[0m \u001b[38;5;28;01mif\u001b[39;00m \u001b[38;5;129;01mnot\u001b[39;00m error:\n\u001b[1;32m    628\u001b[0m     \u001b[38;5;28;01mreturn\u001b[39;00m\n\u001b[0;32m--> 630\u001b[0m \u001b[38;5;28;01mraise\u001b[39;00m WebserviceException(error)\n",
            "\u001b[0;31mWebserviceException\u001b[0m: WebserviceException:\n\tMessage: Conflict of operation, another operation on same entity is already running in workspace student-performance-ws.\n\tInnerException None\n\tErrorResponse \n{\n    \"error\": {\n        \"message\": \"Conflict of operation, another operation on same entity is already running in workspace student-performance-ws.\"\n    }\n}"
          ]
        }
      ],
      "execution_count": 47,
      "metadata": {
        "gather": {
          "logged": 1742570501178
        },
        "jupyter": {
          "outputs_hidden": false
        }
      }
    },
    {
      "cell_type": "markdown",
      "source": [
        "TODO: In the cell below, send a request to the web service you deployed to test it."
      ],
      "metadata": {
        "collapsed": true,
        "gather": {
          "logged": 1598431657736
        },
        "jupyter": {
          "outputs_hidden": false,
          "source_hidden": false
        },
        "nteract": {
          "transient": {
            "deleting": false
          }
        }
      }
    },
    {
      "cell_type": "code",
      "source": [
        "input_data = {\n",
        "    \"data\": [\n",
        "        {\n",
        "            \"school\": \"GP\", \"sex\": \"F\", \"age\": 16, \"address\": \"R\",\n",
        "            \"famsize\": \"LE3\", \"Pstatus\": \"T\", \"Medu\": 2, \"Fedu\": 3,\n",
        "            \"Mjob\": \"other\", \"Fjob\": \"teacher\", \"reason\": \"home\",\n",
        "            \"guardian\": \"father\", \"traveltime\": 3, \"studytime\": 3,\n",
        "            \"failures\": 2, \"schoolsup\": \"yes\", \"famsup\": \"yes\",\n",
        "            \"paid\": \"yes\", \"activities\": \"no\", \"nursery\": \"yes\",\n",
        "            \"higher\": \"no\", \"internet\": \"yes\", \"romantic\": \"no\",\n",
        "            \"famrel\": 1, \"freetime\": 2, \"goout\": 4, \"Dalc\": 5,\n",
        "            \"Walc\": 5, \"health\": 1, \"absences\": 8, \"G1\": 15, \"G2\": 20\n",
        "        },\n",
        "        {\n",
        "            \"school\": \"GP\", \"sex\": \"M\", \"age\": 16, \"address\": \"U\",\n",
        "            \"famsize\": \"GT3\", \"Pstatus\": \"A\", \"Medu\": 2, \"Fedu\": 0,\n",
        "            \"Mjob\": \"health\", \"Fjob\": \"health\", \"reason\": \"home\",\n",
        "            \"guardian\": \"other\", \"traveltime\": 3, \"studytime\": 2,\n",
        "            \"failures\": 1, \"schoolsup\": \"no\", \"famsup\": \"yes\",\n",
        "            \"paid\": \"yes\", \"activities\": \"yes\", \"nursery\": \"no\",\n",
        "            \"higher\": \"no\", \"internet\": \"yes\", \"romantic\": \"no\",\n",
        "            \"famrel\": 1, \"freetime\": 4, \"goout\": 4, \"Dalc\": 1,\n",
        "            \"Walc\": 2, \"health\": 1, \"absences\": 18, \"G1\": 8, \"G2\": 10\n",
        "        },\n",
        "        {\n",
        "            \"school\": \"GP\", \"sex\": \"M\", \"age\": 20, \"address\": \"U\",\n",
        "            \"famsize\": \"LE3\", \"Pstatus\": \"T\", \"Medu\": 2, \"Fedu\": 0,\n",
        "            \"Mjob\": \"teacher\", \"Fjob\": \"other\", \"reason\": \"reputation\",\n",
        "            \"guardian\": \"other\", \"traveltime\": 3, \"studytime\": 1,\n",
        "            \"failures\": 0, \"schoolsup\": \"no\", \"famsup\": \"yes\",\n",
        "            \"paid\": \"yes\", \"activities\": \"no\", \"nursery\": \"yes\",\n",
        "            \"higher\": \"yes\", \"internet\": \"no\", \"romantic\": \"yes\",\n",
        "            \"famrel\": 1, \"freetime\": 2, \"goout\": 2, \"Dalc\": 3,\n",
        "            \"Walc\": 2, \"health\": 1, \"absences\": 11, \"G1\": 17, \"G2\": 13\n",
        "        }\n",
        "    ]\n",
        "}"
      ],
      "outputs": [],
      "execution_count": null,
      "metadata": {
        "gather": {
          "logged": 1742485611209
        }
      }
    },
    {
      "cell_type": "code",
      "source": [
        "import requests\n",
        "import json\n",
        "\n",
        "# Replace with your actual endpoint URL\n",
        "endpoint_url = \"https://your-endpoint-url.azurewebsites.net/score\"\n",
        "\n",
        "# If your service requires authentication, include the key\n",
        "api_key = \"your-api-key-if-required\"  # Replace with actual key if needed\n",
        "headers = {\n",
        "    \"Content-Type\": \"application/json\",\n",
        "    \"Authorization\": f\"Bearer {api_key}\" if api_key else None\n",
        "}\n",
        "\n",
        "# Send request to the web service\n",
        "response = requests.post(endpoint_url, data=json.dumps(input_data), headers=headers)\n",
        "\n",
        "# Print response\n",
        "print(\"Prediction Response:\", response.json())"
      ],
      "outputs": [],
      "execution_count": null,
      "metadata": {
        "gather": {
          "logged": 1598432707604
        },
        "jupyter": {
          "outputs_hidden": false,
          "source_hidden": false
        },
        "nteract": {
          "transient": {
            "deleting": false
          }
        }
      }
    },
    {
      "cell_type": "markdown",
      "source": [
        "TODO: In the cell below, print the logs of the web service and delete the service"
      ],
      "metadata": {
        "collapsed": true,
        "gather": {
          "logged": 1598432765711
        },
        "jupyter": {
          "outputs_hidden": false,
          "source_hidden": false
        },
        "nteract": {
          "transient": {
            "deleting": false
          }
        }
      }
    },
    {
      "cell_type": "code",
      "source": [
        "from azureml.core.webservice import Webservice\n",
        "\n",
        "# Print logs\n",
        "print(\"Service logs:\")\n",
        "print(service.get_logs())\n",
        "\n",
        "# Delete the service\n",
        "service.delete()\n",
        "print(f\"Service '{service_name}' has been deleted.\")"
      ],
      "outputs": [],
      "execution_count": null,
      "metadata": {
        "jupyter": {
          "outputs_hidden": false,
          "source_hidden": false
        },
        "nteract": {
          "transient": {
            "deleting": false
          }
        }
      }
    },
    {
      "cell_type": "markdown",
      "source": [
        "**Submission Checklist**\n",
        "- I have registered the model.\n",
        "- I have deployed the model with the best accuracy as a webservice.\n",
        "- I have tested the webservice by sending a request to the model endpoint.\n",
        "- I have deleted the webservice and shutdown all the computes that I have used.\n",
        "- I have taken a screenshot showing the model endpoint as active.\n",
        "- The project includes a file containing the environment details.\n"
      ],
      "metadata": {}
    },
    {
      "cell_type": "markdown",
      "source": [],
      "metadata": {}
    }
  ],
  "metadata": {
    "kernel_info": {
      "name": "python38-azureml"
    },
    "kernelspec": {
      "name": "python38-azureml",
      "language": "python",
      "display_name": "Python 3.8 - AzureML"
    },
    "language_info": {
      "name": "python",
      "version": "3.10.11",
      "mimetype": "text/x-python",
      "codemirror_mode": {
        "name": "ipython",
        "version": 3
      },
      "pygments_lexer": "ipython3",
      "nbconvert_exporter": "python",
      "file_extension": ".py"
    },
    "nteract": {
      "version": "nteract-front-end@1.0.0"
    },
    "microsoft": {
      "host": {
        "AzureML": {
          "notebookHasBeenCompleted": true
        }
      },
      "ms_spell_check": {
        "ms_spell_check_language": "en"
      }
    }
  },
  "nbformat": 4,
  "nbformat_minor": 2
}