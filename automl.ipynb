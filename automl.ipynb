{
  "cells": [
    {
      "cell_type": "markdown",
      "metadata": {},
      "source": [
        "# AutoML"
      ]
    },
    {
      "cell_type": "markdown",
      "metadata": {},
      "source": [
        "This autoML experiment is based on the tutorial found here on Microsoft's official documentation: https://learn.microsoft.com/en-us/azure/machine-learning/how-to-configure-auto-train?view=azureml-api-2&tabs=python\n",
        "\n",
        "https://learn.microsoft.com/en-us/python/api/azure-ai-ml/azure.ai.ml.automl.regressionjob?view=azure-python&utm_source=chatgpt.com"
      ]
    },
    {
      "cell_type": "markdown",
      "metadata": {},
      "source": [
        "## Imports"
      ]
    },
    {
      "cell_type": "code",
      "execution_count": 65,
      "metadata": {},
      "outputs": [],
      "source": [
        "from azure.identity import DefaultAzureCredential\n",
        "from azure.ai.ml import MLClient\n",
        "import mltable\n",
        "from azure.ai.ml.constants import AssetTypes\n",
        "from azure.ai.ml import automl, Input\n",
        "from azure.ai.ml.entities import Data\n",
        "from azure.storage.blob import BlobServiceClient\n",
        "from azure.mgmt.storage import StorageManagementClient\n",
        "from azure.core.exceptions import AzureError"
      ]
    },
    {
      "cell_type": "code",
      "execution_count": 7,
      "metadata": {},
      "outputs": [
        {
          "name": "stderr",
          "output_type": "stream",
          "text": [
            "Found the config file in: /config.json\n"
          ]
        },
        {
          "name": "stdout",
          "output_type": "stream",
          "text": [
            "🔑 Attempting to create MLClient from configuration...\n",
            "✅ MLClient successfully created from configuration.\n"
          ]
        }
      ],
      "source": [
        "from azure.identity import DefaultAzureCredential\n",
        "from azure.ai.ml import MLClient\n",
        "\n",
        "# Initialize the credential and MLClient\n",
        "credential = DefaultAzureCredential()\n",
        "ml_client = None\n",
        "\n",
        "try:\n",
        "    # Attempt to create MLClient from config\n",
        "    print(\"🔑 Attempting to create MLClient from configuration...\")\n",
        "    ml_client = MLClient.from_config(credential)\n",
        "    print(\"✅ MLClient successfully created from configuration.\")\n",
        "except Exception as ex:\n",
        "    # Log exception details for debugging\n",
        "    print(f\"❌ Error encountered while creating MLClient from config: {str(ex)}\")\n",
        "    \n",
        "    # Provide fallback by manually specifying workspace details\n",
        "    print(\"🔄 Attempting to create MLClient using fallback configuration...\")\n",
        "    try:\n",
        "        subscription_id = \"48778e11-0fc7-4fc8-a16c-304a430e61a4\"\n",
        "        resource_group = \"student-performance-rg\"\n",
        "        workspace = \"student-performance-ws\"\n",
        "        \n",
        "        ml_client = MLClient(credential, subscription_id, resource_group, workspace)\n",
        "        print(f\"✅ MLClient successfully created for workspace: {workspace}.\")\n",
        "    except Exception as inner_ex:\n",
        "        print(f\"❌ Error encountered while creating MLClient with fallback configuration: {str(inner_ex)}\")"
      ]
    },
    {
      "cell_type": "markdown",
      "metadata": {},
      "source": [
        "## Import Data"
      ]
    },
    {
      "cell_type": "code",
      "execution_count": 31,
      "metadata": {},
      "outputs": [
        {
          "name": "stdout",
          "output_type": "stream",
          "text": [
            "🔄 Loading the dataset from the provided file paths... Please wait.\n",
            "✅ Dataset loaded successfully! Now saving the processed table to the directory...\n",
            "🎉 The dataset has been successfully saved to './train_data'. Ready for further use!\n"
          ]
        }
      ],
      "source": [
        "# Define the path to the dataset\n",
        "data_file_path = './data/student-mat.csv'\n",
        "\n",
        "# Define file paths for loading the dataset\n",
        "paths = [\n",
        "    {'file': f'{data_file_path}'}\n",
        "]\n",
        "\n",
        "# Load the dataset into a table format\n",
        "try:\n",
        "    print(\"🔄 Loading the dataset from the provided file paths... Please wait.\")\n",
        "    train_table = mltable.from_delimited_files(paths)\n",
        "    print(\"✅ Dataset loaded successfully! Now saving the processed table to the directory...\")\n",
        "except Exception as e:\n",
        "    print(f\"❌ Error while loading the dataset: {e}\")\n",
        "\n",
        "# Save the processed table to the specified directory\n",
        "try:\n",
        "    train_table.save('./train_data')\n",
        "    print(\"🎉 The dataset has been successfully saved to './train_data'. Ready for further use!\")\n",
        "except Exception as e:\n",
        "    print(f\"❌ Error while saving the dataset: {e}\")"
      ]
    },
    {
      "cell_type": "markdown",
      "metadata": {},
      "source": [
        "## Viewing the Data"
      ]
    },
    {
      "cell_type": "markdown",
      "metadata": {},
      "source": [
        "## Setting up the Configuration"
      ]
    },
    {
      "cell_type": "code",
      "execution_count": null,
      "metadata": {},
      "outputs": [
        {
          "name": "stdout",
          "output_type": "stream",
          "text": [
            "✅ Training data input created successfully. Path: ./train_data\n",
            "🔍 Inspecting the properties of the Input object:\n",
            "{'type': 'mltable', '_port_name': None, 'description': None, 'path': './train_data', 'path_on_compute': None, 'mode': None, 'default': None, 'optional': None, '_is_inferred_optional': False, 'min': None, 'max': None, 'enum': None, 'datastore': None}\n",
            "✅ Regression job initialized successfully with target column: G3\n",
            "✅ Job limits set successfully. Max trials: 5\n",
            "✅ Training settings configured. ONNX compatible models: True\n",
            "🔍 Experiment name: autoML\n",
            "🔍 Primary metric selected: NormalizedMeanAbsoluteError\n",
            "🔍 Cross-validation folds: 5\n",
            "🔍 Early termination enabled: True\n",
            "🔍 Ensemble voting enabled: True\n"
          ]
        }
      ],
      "source": [
        "# Create an Input object for the training data, specifying the data source and type\n",
        "try:\n",
        "    my_training_data_input = Input(\n",
        "        type=AssetTypes.MLTABLE,\n",
        "        path=\"./train_data\"\n",
        "    )\n",
        "    print(f\"✅ Training data input created successfully. Path: {my_training_data_input.path}\")\n",
        "except Exception as e:\n",
        "    print(f\"❌ Error while creating training data input: {e}\")\n",
        "\n",
        "# Configure and initialize the regression job with specified parameters\n",
        "try:\n",
        "    regression_job = automl.regression(\n",
        "        compute=\"notebook-compute\",\n",
        "        experiment_name=\"autoML\",\n",
        "        training_data=my_training_data_input,\n",
        "        target_column_name=\"G3\",\n",
        "        primary_metric=\"normalized_mean_absolute_error\",\n",
        "        n_cross_validations=5,\n",
        "        enable_model_explainability=True\n",
        "    )\n",
        "    print(f\"✅ Regression job initialized successfully with target column: {regression_job.target_column_name}\")\n",
        "except Exception as e:\n",
        "    print(f\"❌ Error while initializing regression job: {e}\")\n",
        "\n",
        "# Set job execution limits (optional) to manage training time and trials\n",
        "try:\n",
        "    regression_job.set_limits(\n",
        "        timeout_minutes=15,\n",
        "        trial_timeout_minutes=15,\n",
        "        max_trials=5,\n",
        "        enable_early_termination=True\n",
        "    )\n",
        "    print(f\"✅ Job limits set successfully. Max trials: {regression_job.limits.max_trials}\")\n",
        "except Exception as e:\n",
        "    print(f\"❌ Error while setting job limits: {e}\")\n",
        "\n",
        "# Define optional training settings to customize model training\n",
        "try:\n",
        "    regression_job.set_training(\n",
        "        enable_onnx_compatible_models=True,\n",
        "        enable_vote_ensemble=True\n",
        "    )\n",
        "    print(f\"✅ Training settings configured. ONNX compatible models: {regression_job.training.enable_onnx_compatible_models}\")\n",
        "except Exception as e:\n",
        "    print(f\"❌ Error while setting training properties: {e}\")\n",
        "    \n",
        "# Print summary of configuration\n",
        "try:\n",
        "    print(f\"🔍 Experiment name: {regression_job.experiment_name}\")\n",
        "    print(f\"🔍 Primary metric selected: {regression_job.primary_metric}\")\n",
        "    print(f\"🔍 Cross-validation folds: {regression_job.n_cross_validations}\")\n",
        "    print(f\"🔍 Early termination enabled: {regression_job.limits.enable_early_termination}\")\n",
        "    print(f\"🔍 Ensemble voting enabled: {regression_job.training.enable_vote_ensemble}\")\n",
        "except Exception as e:\n",
        "    print(f\"❌ Error while printing job configuration summary: {e}\")\n"
      ]
    },
    {
      "cell_type": "markdown",
      "metadata": {},
      "source": [
        "## Run the Job"
      ]
    },
    {
      "cell_type": "code",
      "execution_count": 45,
      "metadata": {},
      "outputs": [
        {
          "name": "stdout",
          "output_type": "stream",
          "text": [
            "❌ Error while creating or updating the job: [\"Value <azure.ai.ml._restclient.v2024_01_01_preview.models._models_py3.CustomNCrossValidations object at 0x7f764c6e70a0> passed is not in set ['auto']\", \"int() argument must be a string, a bytes-like object or a real number, not 'CustomNCrossValidations'\"]\n",
            "🔗 You can monitor the job status here: https://ml.azure.com/runs/upbeat_skin_2f3m0gf59k?wsid=/subscriptions/48778e11-0fc7-4fc8-a16c-304a430e61a4/resourcegroups/student-performance-rg/workspaces/student-performance-ws&tid=f804f881-90d8-4e7d-8309-7fb565eaaf2c\n"
          ]
        }
      ],
      "source": [
        "# Submit the AutoML job to the backend for execution\n",
        "try:\n",
        "    returned_job = ml_client.jobs.create_or_update(\n",
        "        regression_job\n",
        "    )\n",
        "    print(f\"✅ Job created successfully: {returned_job}\")\n",
        "except Exception as e:\n",
        "    print(f\"❌ Error while creating or updating the job: {e}\")\n",
        "\n",
        "# Retrieve the URL for monitoring the job status\n",
        "try:\n",
        "    job_status_url = returned_job.services[\"Studio\"].endpoint\n",
        "    print(f\"🔗 You can monitor the job status here: {job_status_url}\")\n",
        "except Exception as e:\n",
        "    print(f\"❌ Error while retrieving the job status URL: {e}\")"
      ]
    }
  ],
  "metadata": {
    "kernel_info": {
      "name": "python38-azureml"
    },
    "kernelspec": {
      "display_name": "Python 3.10 - SDK v2",
      "language": "python",
      "name": "python310-sdkv2"
    },
    "language_info": {
      "codemirror_mode": {
        "name": "ipython",
        "version": 3
      },
      "file_extension": ".py",
      "mimetype": "text/x-python",
      "name": "python",
      "nbconvert_exporter": "python",
      "pygments_lexer": "ipython3",
      "version": "3.10.14"
    },
    "microsoft": {
      "host": {
        "AzureML": {
          "notebookHasBeenCompleted": true
        }
      },
      "ms_spell_check": {
        "ms_spell_check_language": "en"
      }
    },
    "nteract": {
      "version": "nteract-front-end@1.0.0"
    }
  },
  "nbformat": 4,
  "nbformat_minor": 2
}
