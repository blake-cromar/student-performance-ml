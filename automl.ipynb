{
  "cells": [
    {
      "cell_type": "markdown",
      "source": [
        "# Automated ML\n",
        "\n",
        "TODO: Import Dependencies. In the cell below, import all the dependencies that you will need to complete the project."
      ],
      "metadata": {}
    },
    {
      "cell_type": "code",
      "source": [
        "from azureml.core import Workspace, Experiment"
      ],
      "outputs": [],
      "execution_count": 3,
      "metadata": {
        "gather": {
          "logged": 1742483541863
        },
        "jupyter": {
          "outputs_hidden": false,
          "source_hidden": false
        },
        "nteract": {
          "transient": {
            "deleting": false
          }
        }
      }
    },
    {
      "cell_type": "markdown",
      "source": [
        "## Dataset\n",
        "\n",
        "### Overview\n",
        "TODO: In this markdown cell, give an overview of the dataset you are using. Also mention the task you will be performing.\n",
        "\n",
        "\n",
        "TODO: Get data. In the cell below, write code to access the data you will be using in this project. Remember that the dataset needs to be external."
      ],
      "metadata": {}
    },
    {
      "cell_type": "code",
      "source": [
        "ws = Workspace.from_config()\n",
        "\n",
        "# choose a name for experiment\n",
        "experiment_name = 'student-math-experiment'\n",
        "\n",
        "experiment=Experiment(ws, experiment_name)"
      ],
      "outputs": [],
      "execution_count": 4,
      "metadata": {
        "gather": {
          "logged": 1742483545177
        },
        "jupyter": {
          "outputs_hidden": false,
          "source_hidden": false
        },
        "nteract": {
          "transient": {
            "deleting": false
          }
        }
      }
    },
    {
      "cell_type": "markdown",
      "source": [
        "## AutoML Configuration\n",
        "\n",
        "TODO: Explain why you chose the automl settings and cofiguration you used below."
      ],
      "metadata": {}
    },
    {
      "cell_type": "code",
      "source": [
        "from azureml.core import Dataset\n",
        "\n",
        "# Load dataset from Azure ML workspace\n",
        "df = Dataset.get_by_name(workspace=ws, name=\"student-math\")\n"
      ],
      "outputs": [],
      "execution_count": 13,
      "metadata": {
        "gather": {
          "logged": 1742479239237
        }
      }
    },
    {
      "cell_type": "code",
      "source": [
        "from azureml.train.automl import AutoMLConfig\n",
        "\n",
        "# TODO: Put your automl settings here\n",
        "automl_settings = {\n",
        "    \"experiment_timeout_minutes\": 15,  \n",
        "    \"primary_metric\": \"normalized_mean_absolute_error\",  \n",
        "    \"n_cross_validations\": 5, \n",
        "}\n",
        "\n",
        "# TODO: Put your automl config here\n",
        "automl_config = AutoMLConfig(\n",
        "    task=\"regression\",  \n",
        "    training_data=df,  \n",
        "    label_column_name=\"G3\", \n",
        "    compute_target=\"notebook-compute\", \n",
        "    enable_early_stopping=True,\n",
        "    featurization=\"auto\",  \n",
        "    **automl_settings\n",
        ") "
      ],
      "outputs": [],
      "execution_count": 21,
      "metadata": {
        "gather": {
          "logged": 1742479421969
        },
        "jupyter": {
          "outputs_hidden": false,
          "source_hidden": false
        },
        "nteract": {
          "transient": {
            "deleting": false
          }
        }
      }
    },
    {
      "cell_type": "code",
      "source": [
        "# TODO: Submit your experiment\n",
        "remote_run = experiment.submit(automl_config)"
      ],
      "outputs": [
        {
          "output_type": "stream",
          "name": "stdout",
          "text": "Submitting remote run.\n"
        },
        {
          "output_type": "display_data",
          "data": {
            "text/html": "<table style=\"width:100%\"><tr><th>Experiment</th><th>Id</th><th>Type</th><th>Status</th><th>Details Page</th><th>Docs Page</th></tr><tr><td>student-math-experiment</td><td>AutoML_7983c695-9158-4ea8-9c33-d5dc094e382c</td><td>automl</td><td>NotStarted</td><td><a href=\"https://ml.azure.com/runs/AutoML_7983c695-9158-4ea8-9c33-d5dc094e382c?wsid=/subscriptions/48778e11-0fc7-4fc8-a16c-304a430e61a4/resourcegroups/student-performance-rg/workspaces/student-performance-ws&amp;tid=f804f881-90d8-4e7d-8309-7fb565eaaf2c\" target=\"_blank\" rel=\"noopener\">Link to Azure Machine Learning studio</a></td><td><a href=\"https://docs.microsoft.com/en-us/python/api/overview/azure/ml/intro?view=azure-ml-py\" target=\"_blank\" rel=\"noopener\">Link to Documentation</a></td></tr></table>"
          },
          "metadata": {}
        }
      ],
      "execution_count": 22,
      "metadata": {
        "gather": {
          "logged": 1742479432257
        },
        "jupyter": {
          "outputs_hidden": false,
          "source_hidden": false
        },
        "nteract": {
          "transient": {
            "deleting": false
          }
        }
      }
    },
    {
      "cell_type": "markdown",
      "source": [
        "## Run Details\n",
        "\n",
        "OPTIONAL: Write about the different models trained and their performance. Why do you think some models did better than others?\n",
        "\n",
        "TODO: In the cell below, use the `RunDetails` widget to show the different experiments."
      ],
      "metadata": {}
    },
    {
      "cell_type": "code",
      "source": [
        "from azureml.widgets import RunDetails\n",
        "\n",
        "# Show run details in the notebook\n",
        "RunDetails(remote_run).show()"
      ],
      "outputs": [
        {
          "output_type": "stream",
          "name": "stderr",
          "text": "2025-03-20 14:17:59.932524: E external/local_xla/xla/stream_executor/cuda/cuda_fft.cc:485] Unable to register cuFFT factory: Attempting to register factory for plugin cuFFT when one has already been registered\n2025-03-20 14:18:01.612481: E external/local_xla/xla/stream_executor/cuda/cuda_dnn.cc:8454] Unable to register cuDNN factory: Attempting to register factory for plugin cuDNN when one has already been registered\n2025-03-20 14:18:02.112316: E external/local_xla/xla/stream_executor/cuda/cuda_blas.cc:1452] Unable to register cuBLAS factory: Attempting to register factory for plugin cuBLAS when one has already been registered\n2025-03-20 14:18:05.853115: I tensorflow/core/platform/cpu_feature_guard.cc:210] This TensorFlow binary is optimized to use available CPU instructions in performance-critical operations.\nTo enable the following instructions: AVX2 AVX512F FMA, in other operations, rebuild TensorFlow with the appropriate compiler flags.\n2025-03-20 14:18:13.465092: W tensorflow/compiler/tf2tensorrt/utils/py_utils.cc:38] TF-TRT Warning: Could not find TensorRT\n"
        },
        {
          "output_type": "display_data",
          "data": {
            "text/plain": "_AutoMLWidget(widget_settings={'childWidgetDisplay': 'popup', 'send_telemetry': False, 'log_level': 'INFO', 's…",
            "application/vnd.jupyter.widget-view+json": {
              "version_major": 2,
              "version_minor": 0,
              "model_id": "fdf6bad34e03494aa21a55eb28a904e5"
            }
          },
          "metadata": {}
        },
        {
          "output_type": "display_data",
          "data": {
            "application/aml.mini.widget.v1": "{\"status\": \"Completed\", \"workbench_run_details_uri\": \"https://ml.azure.com/runs/AutoML_7983c695-9158-4ea8-9c33-d5dc094e382c?wsid=/subscriptions/48778e11-0fc7-4fc8-a16c-304a430e61a4/resourcegroups/student-performance-rg/workspaces/student-performance-ws&tid=f804f881-90d8-4e7d-8309-7fb565eaaf2c\", \"run_id\": \"AutoML_7983c695-9158-4ea8-9c33-d5dc094e382c\", \"run_properties\": {\"run_id\": \"AutoML_7983c695-9158-4ea8-9c33-d5dc094e382c\", \"created_utc\": \"2025-03-20T14:03:50.353543Z\", \"properties\": {\"num_iterations\": \"1000\", \"training_type\": \"TrainFull\", \"acquisition_function\": \"EI\", \"primary_metric\": \"normalized_mean_absolute_error\", \"train_split\": \"0\", \"acquisition_parameter\": \"0\", \"num_cross_validation\": \"5\", \"target\": \"notebook-compute\", \"AMLSettingsJsonString\": \"{\\\"path\\\":null,\\\"name\\\":\\\"student-math-experiment\\\",\\\"subscription_id\\\":\\\"48778e11-0fc7-4fc8-a16c-304a430e61a4\\\",\\\"resource_group\\\":\\\"student-performance-rg\\\",\\\"workspace_name\\\":\\\"student-performance-ws\\\",\\\"region\\\":\\\"norwayeast\\\",\\\"compute_target\\\":\\\"notebook-compute\\\",\\\"spark_service\\\":null,\\\"azure_service\\\":\\\"remote\\\",\\\"many_models\\\":false,\\\"pipeline_fetch_max_batch_size\\\":1,\\\"enable_batch_run\\\":true,\\\"enable_parallel_run\\\":false,\\\"num_procs\\\":null,\\\"enable_run_restructure\\\":false,\\\"start_auxiliary_runs_before_parent_complete\\\":false,\\\"enable_code_generation\\\":true,\\\"force_curated_environment\\\":false,\\\"iterations\\\":1000,\\\"primary_metric\\\":\\\"normalized_mean_absolute_error\\\",\\\"task_type\\\":\\\"regression\\\",\\\"positive_label\\\":null,\\\"data_script\\\":null,\\\"test_size\\\":0.0,\\\"test_include_predictions_only\\\":false,\\\"validation_size\\\":0.0,\\\"n_cross_validations\\\":5,\\\"y_min\\\":null,\\\"y_max\\\":null,\\\"num_classes\\\":null,\\\"featurization\\\":\\\"auto\\\",\\\"_ignore_package_version_incompatibilities\\\":false,\\\"is_timeseries\\\":false,\\\"max_cores_per_iteration\\\":1,\\\"max_concurrent_iterations\\\":1,\\\"iteration_timeout_minutes\\\":null,\\\"mem_in_mb\\\":null,\\\"enforce_time_on_windows\\\":false,\\\"experiment_timeout_minutes\\\":15,\\\"experiment_exit_score\\\":null,\\\"partition_column_names\\\":null,\\\"whitelist_models\\\":null,\\\"blacklist_algos\\\":[\\\"TensorFlowDNN\\\",\\\"TensorFlowLinearRegressor\\\"],\\\"supported_models\\\":[\\\"LightGBM\\\",\\\"XGBoostRegressor\\\",\\\"SGD\\\",\\\"GradientBoosting\\\",\\\"RandomForest\\\",\\\"TensorFlowLinearRegressor\\\",\\\"TensorFlowDNN\\\",\\\"LassoLars\\\",\\\"FastLinearRegressor\\\",\\\"ElasticNet\\\",\\\"DecisionTree\\\",\\\"OnlineGradientDescentRegressor\\\",\\\"KNN\\\",\\\"TabnetRegressor\\\",\\\"ExtremeRandomTrees\\\"],\\\"private_models\\\":[],\\\"auto_blacklist\\\":true,\\\"blacklist_samples_reached\\\":false,\\\"exclude_nan_labels\\\":true,\\\"verbosity\\\":20,\\\"_debug_log\\\":\\\"azureml_automl.log\\\",\\\"show_warnings\\\":false,\\\"model_explainability\\\":true,\\\"service_url\\\":null,\\\"sdk_url\\\":null,\\\"sdk_packages\\\":null,\\\"enable_onnx_compatible_models\\\":false,\\\"enable_split_onnx_featurizer_estimator_models\\\":false,\\\"vm_type\\\":\\\"Standard_DS11_v2\\\",\\\"telemetry_verbosity\\\":20,\\\"send_telemetry\\\":true,\\\"enable_dnn\\\":false,\\\"scenario\\\":\\\"AutoML\\\",\\\"environment_label\\\":null,\\\"save_mlflow\\\":false,\\\"enable_categorical_indicators\\\":false,\\\"force_text_dnn\\\":false,\\\"enable_feature_sweeping\\\":true,\\\"enable_early_stopping\\\":true,\\\"early_stopping_n_iters\\\":10,\\\"arguments\\\":null,\\\"dataset_id\\\":\\\"1970ab08-7516-47b9-bf00-c2abd8cb0556\\\",\\\"hyperdrive_config\\\":null,\\\"validation_dataset_id\\\":null,\\\"run_source\\\":null,\\\"metrics\\\":null,\\\"enable_metric_confidence\\\":false,\\\"enable_ensembling\\\":true,\\\"enable_stack_ensembling\\\":true,\\\"ensemble_iterations\\\":15,\\\"enable_tf\\\":false,\\\"enable_subsampling\\\":null,\\\"subsample_seed\\\":null,\\\"enable_nimbusml\\\":false,\\\"enable_streaming\\\":false,\\\"force_streaming\\\":false,\\\"track_child_runs\\\":true,\\\"n_best_runs\\\":1,\\\"allowed_private_models\\\":[],\\\"label_column_name\\\":\\\"G3\\\",\\\"weight_column_name\\\":null,\\\"cv_split_column_names\\\":null,\\\"enable_local_managed\\\":false,\\\"_local_managed_run_id\\\":null,\\\"cost_mode\\\":1,\\\"lag_length\\\":0,\\\"metric_operation\\\":\\\"minimize\\\",\\\"preprocess\\\":true}\", \"DataPrepJsonString\": \"{\\\\\\\"training_data\\\\\\\": {\\\\\\\"datasetId\\\\\\\": \\\\\\\"1970ab08-7516-47b9-bf00-c2abd8cb0556\\\\\\\"}, \\\\\\\"datasets\\\\\\\": 0}\", \"EnableSubsampling\": null, \"runTemplate\": \"AutoML\", \"azureml.runsource\": \"automl\", \"display_task_type\": \"regression\", \"dependencies_versions\": \"{\\\"azureml-contrib-notebook\\\": \\\"1.57.0\\\", \\\"azureml-contrib-server\\\": \\\"1.57.0\\\", \\\"azureml-training-tabular\\\": \\\"1.57.0\\\", \\\"azureml-opendatasets\\\": \\\"1.57.0\\\", \\\"azureml-cli-common\\\": \\\"1.57.0\\\", \\\"azureml-automl-dnn-nlp\\\": \\\"1.57.0\\\", \\\"azureml-automl-runtime\\\": \\\"1.57.0\\\", \\\"azureml-dataprep-native\\\": \\\"41.0.0\\\", \\\"azureml-contrib-automl-pipeline-steps\\\": \\\"1.57.0\\\", \\\"azureml-dataprep-rslex\\\": \\\"2.22.2\\\", \\\"azureml-pipeline-steps\\\": \\\"1.57.0\\\", \\\"azureml-interpret\\\": \\\"1.57.0\\\", \\\"azureml-train\\\": \\\"1.57.0\\\", \\\"azureml-widgets\\\": \\\"1.57.0\\\", \\\"azureml-datadrift\\\": \\\"1.57.0\\\", \\\"azureml-inference-server-http\\\": \\\"1.4.0\\\", \\\"azureml-tensorboard\\\": \\\"1.57.0\\\", \\\"azureml-telemetry\\\": \\\"1.57.0\\\", \\\"azureml-train-automl-client\\\": \\\"1.57.0\\\", \\\"azureml-contrib-reinforcementlearning\\\": \\\"1.57.0\\\", \\\"azureml-sdk\\\": \\\"1.57.0\\\", \\\"azureml-contrib-pipeline-steps\\\": \\\"1.57.0\\\", \\\"azureml-core\\\": \\\"1.57.0\\\", \\\"azureml-train-core\\\": \\\"1.57.0\\\", \\\"azureml-train-restclients-hyperdrive\\\": \\\"1.57.0\\\", \\\"azureml-contrib-dataset\\\": \\\"1.57.0\\\", \\\"azureml-pipeline-core\\\": \\\"1.57.0\\\", \\\"azureml-dataprep\\\": \\\"5.1.6\\\", \\\"azureml-dataset-runtime\\\": \\\"1.57.0\\\", \\\"azureml-pipeline\\\": \\\"1.57.0\\\", \\\"azureml-fsspec\\\": \\\"1.3.1\\\", \\\"azureml-contrib-services\\\": \\\"1.57.0\\\", \\\"azureml-train-automl-runtime\\\": \\\"1.57.0\\\", \\\"azureml-mlflow\\\": \\\"1.57.0\\\", \\\"azureml-responsibleai\\\": \\\"1.57.0\\\", \\\"azureml-accel-models\\\": \\\"1.57.0\\\", \\\"azureml-automl-core\\\": \\\"1.57.0\\\", \\\"azureml-defaults\\\": \\\"1.57.0\\\", \\\"azureml-contrib-fairness\\\": \\\"1.57.0\\\", \\\"azureml-train-automl\\\": \\\"1.57.0\\\"}\", \"_aml_system_scenario_identification\": \"Remote.Parent\", \"ClientType\": \"SDK\", \"PlatformVersion\": \"DPV1\", \"environment_cpu_name\": \"AzureML-ai-ml-automl\", \"environment_cpu_label\": \"5\", \"environment_gpu_name\": \"AzureML-ai-ml-automl-gpu\", \"environment_gpu_label\": \"5\", \"root_attribution\": \"automl\", \"attribution\": \"AutoML\", \"Orchestrator\": \"AutoML\", \"CancelUri\": \"https://norwayeast.api.azureml.ms/jasmine/v1.0/subscriptions/48778e11-0fc7-4fc8-a16c-304a430e61a4/resourceGroups/student-performance-rg/providers/Microsoft.MachineLearningServices/workspaces/student-performance-ws/experimentids/6e163725-fa5a-4474-bcda-eb5912cc5df0/cancel/AutoML_7983c695-9158-4ea8-9c33-d5dc094e382c\", \"ClientSdkVersion\": null, \"snapshotId\": \"00000000-0000-0000-0000-000000000000\", \"SetupRunId\": \"AutoML_7983c695-9158-4ea8-9c33-d5dc094e382c_setup\", \"SetupRunContainerId\": \"dcid.AutoML_7983c695-9158-4ea8-9c33-d5dc094e382c_setup\", \"FeaturizationRunJsonPath\": \"featurizer_container.json\", \"FeaturizationRunId\": \"AutoML_7983c695-9158-4ea8-9c33-d5dc094e382c_featurize\", \"ProblemInfoJsonString\": \"{\\\"dataset_num_categorical\\\": 0, \\\"is_sparse\\\": true, \\\"subsampling\\\": false, \\\"has_extra_col\\\": true, \\\"dataset_classes\\\": 18, \\\"dataset_features\\\": 127, \\\"dataset_samples\\\": 395, \\\"single_frequency_class_detected\\\": false}\", \"ModelExplainRunId\": \"AutoML_7983c695-9158-4ea8-9c33-d5dc094e382c_ModelExplain\"}, \"tags\": {\"model_explain_run\": \"best_run\", \"_aml_system_automl_run_workspace_id\": \"f2eb702b-4f5c-48af-8ea1-47e9f3077a01\", \"_aml_system_azureml.automlComponent\": \"AutoML\", \"pipeline_id_000\": \"faf12f74cf9bbd358ca5525682c5030d36f7be7c;4bc4ec47eb8df2d5d68b361cd60120e65196f757;2dc95d8bafd84221b8de309021c722b4fa570e77;86f7c6ce026522eff88f32e647e3e27450da2679;f21e8ba3898f5e0380866a659ed4c4adef119ec1;b5f35f573ce4f6e8526176d4e0932b5193598307;7839ca66a0ff9be386363c852f0384a7b2a1c93f;37f58541a91f6fdeb9053a6a2ce7ae2a6dba1d27;ae729f09378486945c70eb2a2306f8aa8f4e30a7;7b4a7261c08af7743d92782ce28a7f60ecdab0e2;d925751fd9eac1f71df8b9fccd672dc70cbea612;74ee6b79247e09b1518ef6d9dcb155e714f496e4;2a94e1d01e7e8898616580c1f18558af204228f4;684236a89d44bd7525e435ff014bc99f36fb60c3;735cba3318c2ccc77fba61252dbfd5b383e4584f;287bceb7e467ac63bd87dfe615b2d15f757ab47b;8dd0d2b5b07d59df7d3518d8fdd9759f1d7144ab;7ac99a8d7e1f10883e7b154ca80bc4c96085ea6e;3d41561aa650aa5533e046dbc8a84c64295d0663;e427b3684e9a8c615341d55270e540704152f40b;1a23d8a719deb25e0fc2bbc72db7ee3fd91d39d2;0e985ee71c4900292b3fbd9e434ae686ea5fcaf3;17aa40653c6c30d54611d0e23e67d122d9150d5f;985fb264c0c90a988d750a6b72b9b303bab259e8;61f134580e8d0c137eae51ed9ae1021491795bff;70b737f48c50b61cbaedb64da0ae69737ba6368a;fefbcfa4c7e328aeb147563241dfa76a56bff62e;145ad03dd8a3a1fc3a92dbc1c1291cc0f4fba600;6c0be7616ac459d8e33fd6eaf243bb2f28e4533e;8616a5b1d1cd00dec536bcc5ede9f68c48302116;__AutoML_Ensemble__;__AutoML_Stack_Ensemble__\", \"score_000\": \"0.12150859439887547;0.06453278153946126;0.08639171141868751;0.08838017259939177;0.08345177817962628;0.07021518987341772;0.08644852158733467;0.10144002588899129;0.0865953741634886;0.08195087402049428;0.08834026582930696;0.08681687432302411;0.0851884307425602;0.0840717299578059;0.14291650882025336;0.1291035443766882;0.0990728935832261;0.07549894189129666;0.07322462746627885;0.07656118143459915;0.08567510548523208;0.08054852320675106;0.06878412296564193;0.07139269442667784;0.06910915220905664;0.0936466300129136;0.15376666029789499;0.101905061631541;0.0903373712311472;0.07726116855083014;0.061302094354547323;0.06299831168702703\", \"predicted_cost_000\": \"0;0;0.5;0.5;0.5;0.5;0.5;0.5;0.5;0.5;0.5;0.5;0.5;0.5;0.5;0.5;0.5;0.5;0.5;0.5;0.0028461591228353335;0.16594297355666945;0.02107636051363795;0.021694234976554348;0.09138393113734194;1.176566815008732;0.04423077300710107;0.04329958995727664;0.6105814382586535;0.3359887784956982;0;0\", \"fit_time_000\": \"0.0379784;0.4468198;0.0587292;0.13853659999999998;0.008534999999999997;0.094023;0.054782599999999994;0.005643199999999999;0.0470462;0.009953799999999999;0.1386696;0.05694319999999999;0.01611;0.0110774;0.003718;0.00413;0.006987599999999999;0.014241599999999998;0.014513999999999999;0.0109332;0.010531599999999999;0.012251999999999999;0.6261504;0.1322066;0.9706212000000001;0.4375258000000001;0.176687;0.0363952;0.019687000000000003;0.348418;9;10\", \"training_percent_000\": \"100;100;100;100;100;100;100;100;100;100;100;100;100;100;100;100;100;100;100;100;100;100;100;100;100;100;100;100;100;100;100;100\", \"iteration_000\": \"0;1;2;3;4;5;6;7;8;9;10;11;12;13;14;15;16;17;18;19;20;21;22;23;24;25;26;27;28;29;30;31\", \"run_preprocessor_000\": \"MaxAbsScaler;MaxAbsScaler;MaxAbsScaler;StandardScalerWrapper;MaxAbsScaler;MaxAbsScaler;MaxAbsScaler;StandardScalerWrapper;MaxAbsScaler;StandardScalerWrapper;StandardScalerWrapper;StandardScalerWrapper;StandardScalerWrapper;StandardScalerWrapper;StandardScalerWrapper;StandardScalerWrapper;StandardScalerWrapper;StandardScalerWrapper;StandardScalerWrapper;MaxAbsScaler;MaxAbsScaler;MaxAbsScaler;StandardScalerWrapper;StandardScalerWrapper;MaxAbsScaler;SparseNormalizer;StandardScalerWrapper;MaxAbsScaler;MaxAbsScaler;MaxAbsScaler;;\", \"run_algorithm_000\": \"LightGBM;XGBoostRegressor;ElasticNet;ElasticNet;DecisionTree;ExtremeRandomTrees;ElasticNet;DecisionTree;ElasticNet;DecisionTree;ElasticNet;ElasticNet;ElasticNet;DecisionTree;ElasticNet;ElasticNet;ElasticNet;ElasticNet;ElasticNet;DecisionTree;DecisionTree;DecisionTree;RandomForest;RandomForest;ExtremeRandomTrees;XGBoostRegressor;GradientBoosting;RandomForest;LightGBM;RandomForest;VotingEnsemble;StackEnsemble\", \"dynamic_allowlisting_iterations\": \"<25>;\", \"_aml_system_azureml.automl_early_exit_message\": \"No scores improved over last 10 iterations, so experiment stopped early. This early stopping behavior can be disabled by setting enable_early_stopping = False in AutoMLConfig for notebook/python SDK runs.\", \"automl_best_child_run_id\": \"AutoML_7983c695-9158-4ea8-9c33-d5dc094e382c_30\", \"model_explain_best_run_child_id\": \"AutoML_7983c695-9158-4ea8-9c33-d5dc094e382c_30\"}, \"end_time_utc\": \"2025-03-20T14:26:28.123232Z\", \"status\": \"Completed\", \"log_files\": {}, \"log_groups\": [], \"run_duration\": \"0:22:37\", \"run_number\": \"1742479430\", \"run_queued_details\": {\"status\": \"Completed\", \"details\": null}}, \"child_runs\": [{\"run_id\": \"AutoML_7983c695-9158-4ea8-9c33-d5dc094e382c_setup\", \"run_number\": 1742479443, \"metric\": null, \"status\": \"Completed\", \"run_type\": \"azureml.scriptrun\", \"training_percent\": null, \"start_time\": \"2025-03-20T14:04:11.921671Z\", \"end_time\": \"2025-03-20T14:09:41.309137Z\", \"created_time\": \"2025-03-20T14:04:03.36788Z\", \"created_time_dt\": \"2025-03-20T14:04:03.36788Z\", \"duration\": \"0:05:37\", \"iteration\": null, \"goal\": null, \"run_name\": \"Completed\", \"run_properties\": null}, {\"run_id\": \"AutoML_7983c695-9158-4ea8-9c33-d5dc094e382c_featurize\", \"run_number\": 1742479781, \"metric\": null, \"status\": \"Completed\", \"run_type\": \"automl.featurization\", \"training_percent\": null, \"start_time\": \"2025-03-20T14:09:42.15229Z\", \"end_time\": \"2025-03-20T14:13:46.127133Z\", \"created_time\": \"2025-03-20T14:09:41.539748Z\", \"created_time_dt\": \"2025-03-20T14:09:41.539748Z\", \"duration\": \"0:04:04\", \"iteration\": null, \"goal\": null, \"run_name\": \"Completed\", \"run_properties\": null}, {\"run_id\": \"AutoML_7983c695-9158-4ea8-9c33-d5dc094e382c_0\", \"run_number\": 1742480027, \"metric\": null, \"status\": \"Completed\", \"run_type\": null, \"training_percent\": \"100\", \"start_time\": \"2025-03-20T14:14:13.249281Z\", \"end_time\": \"2025-03-20T14:14:21.772176Z\", \"created_time\": \"2025-03-20T14:13:47.792088Z\", \"created_time_dt\": \"2025-03-20T14:13:47.792088Z\", \"duration\": \"0:00:33\", \"iteration\": \"0\", \"goal\": \"normalized_mean_absolute_error_min\", \"run_name\": \"MaxAbsScaler, LightGBM\", \"run_properties\": null, \"primary_metric\": 0.12150859, \"best_metric\": 0.12150859}, {\"run_id\": \"AutoML_7983c695-9158-4ea8-9c33-d5dc094e382c_1\", \"run_number\": 1742480028, \"metric\": null, \"status\": \"Completed\", \"run_type\": null, \"training_percent\": \"100\", \"start_time\": \"2025-03-20T14:14:22.911174Z\", \"end_time\": \"2025-03-20T14:14:33.449188Z\", \"created_time\": \"2025-03-20T14:13:48.159645Z\", \"created_time_dt\": \"2025-03-20T14:13:48.159645Z\", \"duration\": \"0:00:45\", \"iteration\": \"1\", \"goal\": \"normalized_mean_absolute_error_min\", \"run_name\": \"MaxAbsScaler, XGBoostRegressor\", \"run_properties\": null, \"primary_metric\": 0.06453278, \"best_metric\": 0.06453278}, {\"run_id\": \"AutoML_7983c695-9158-4ea8-9c33-d5dc094e382c_4\", \"run_number\": 1742480029, \"metric\": null, \"status\": \"Completed\", \"run_type\": null, \"training_percent\": \"100\", \"start_time\": \"2025-03-20T14:14:52.462207Z\", \"end_time\": \"2025-03-20T14:15:00.0716Z\", \"created_time\": \"2025-03-20T14:13:49.158412Z\", \"created_time_dt\": \"2025-03-20T14:13:49.158412Z\", \"duration\": \"0:01:10\", \"iteration\": \"4\", \"goal\": \"normalized_mean_absolute_error_min\", \"run_name\": \"MaxAbsScaler, DecisionTree\", \"run_properties\": null, \"primary_metric\": 0.08345178, \"best_metric\": 0.06453278}, {\"run_id\": \"AutoML_7983c695-9158-4ea8-9c33-d5dc094e382c_7\", \"run_number\": 1742480030, \"metric\": null, \"status\": \"Completed\", \"run_type\": null, \"training_percent\": \"100\", \"start_time\": \"2025-03-20T14:15:18.966722Z\", \"end_time\": \"2025-03-20T14:15:26.433467Z\", \"created_time\": \"2025-03-20T14:13:50.171358Z\", \"created_time_dt\": \"2025-03-20T14:13:50.171358Z\", \"duration\": \"0:01:36\", \"iteration\": \"7\", \"goal\": \"normalized_mean_absolute_error_min\", \"run_name\": \"StandardScalerWrapper, DecisionTree\", \"run_properties\": \"copy=True, with_mean=False, with_std=False\", \"primary_metric\": 0.10144003, \"best_metric\": 0.06453278}, {\"run_id\": \"AutoML_7983c695-9158-4ea8-9c33-d5dc094e382c_10\", \"run_number\": 1742480031, \"metric\": null, \"status\": \"Completed\", \"run_type\": null, \"training_percent\": \"100\", \"start_time\": \"2025-03-20T14:15:43.814729Z\", \"end_time\": \"2025-03-20T14:15:52.190091Z\", \"created_time\": \"2025-03-20T14:13:51.265242Z\", \"created_time_dt\": \"2025-03-20T14:13:51.265242Z\", \"duration\": \"0:02:00\", \"iteration\": \"10\", \"goal\": \"normalized_mean_absolute_error_min\", \"run_name\": \"StandardScalerWrapper, ElasticNet\", \"run_properties\": \"copy=True, with_mean=False, with_std=True\", \"primary_metric\": 0.08834027, \"best_metric\": 0.06453278}, {\"run_id\": \"AutoML_7983c695-9158-4ea8-9c33-d5dc094e382c_13\", \"run_number\": 1742480032, \"metric\": null, \"status\": \"Completed\", \"run_type\": null, \"training_percent\": \"100\", \"start_time\": \"2025-03-20T14:16:09.874667Z\", \"end_time\": \"2025-03-20T14:16:17.582535Z\", \"created_time\": \"2025-03-20T14:13:52.256457Z\", \"created_time_dt\": \"2025-03-20T14:13:52.256457Z\", \"duration\": \"0:02:25\", \"iteration\": \"13\", \"goal\": \"normalized_mean_absolute_error_min\", \"run_name\": \"StandardScalerWrapper, DecisionTree\", \"run_properties\": \"copy=True, with_mean=False, with_std=False\", \"primary_metric\": 0.08407173, \"best_metric\": 0.06453278}, {\"run_id\": \"AutoML_7983c695-9158-4ea8-9c33-d5dc094e382c_16\", \"run_number\": 1742480033, \"metric\": null, \"status\": \"Completed\", \"run_type\": null, \"training_percent\": \"100\", \"start_time\": \"2025-03-20T14:16:34.414465Z\", \"end_time\": \"2025-03-20T14:16:41.930444Z\", \"created_time\": \"2025-03-20T14:13:53.272521Z\", \"created_time_dt\": \"2025-03-20T14:13:53.272521Z\", \"duration\": \"0:02:48\", \"iteration\": \"16\", \"goal\": \"normalized_mean_absolute_error_min\", \"run_name\": \"StandardScalerWrapper, ElasticNet\", \"run_properties\": \"copy=True, with_mean=False, with_std=False\", \"primary_metric\": 0.09907289, \"best_metric\": 0.06453278}, {\"run_id\": \"AutoML_7983c695-9158-4ea8-9c33-d5dc094e382c_worker_0\", \"run_number\": 1742480034, \"metric\": null, \"status\": \"Completed\", \"run_type\": \"azureml.scriptrun\", \"training_percent\": null, \"start_time\": \"2025-03-20T14:14:01.974725Z\", \"end_time\": \"2025-03-20T14:17:15.379842Z\", \"created_time\": \"2025-03-20T14:13:54.487551Z\", \"created_time_dt\": \"2025-03-20T14:13:54.487551Z\", \"duration\": \"0:03:20\", \"iteration\": null, \"goal\": null, \"run_name\": \"Completed\", \"run_properties\": null}, {\"run_id\": \"AutoML_7983c695-9158-4ea8-9c33-d5dc094e382c_20\", \"run_number\": 1742480337, \"metric\": null, \"status\": \"Completed\", \"run_type\": \"azureml.scriptrun\", \"training_percent\": \"100\", \"start_time\": \"2025-03-20T14:19:05.836343Z\", \"end_time\": \"2025-03-20T14:19:32.271398Z\", \"created_time\": \"2025-03-20T14:18:57.423568Z\", \"created_time_dt\": \"2025-03-20T14:18:57.423568Z\", \"duration\": \"0:00:34\", \"iteration\": \"20\", \"goal\": \"normalized_mean_absolute_error_min\", \"run_name\": \"MaxAbsScaler, DecisionTree\", \"run_properties\": null, \"primary_metric\": 0.08567511, \"best_metric\": 0.06453278}, {\"run_id\": \"AutoML_7983c695-9158-4ea8-9c33-d5dc094e382c_21\", \"run_number\": 1742480373, \"metric\": null, \"status\": \"Completed\", \"run_type\": \"azureml.scriptrun\", \"training_percent\": \"100\", \"start_time\": \"2025-03-20T14:19:40.208325Z\", \"end_time\": \"2025-03-20T14:20:06.076601Z\", \"created_time\": \"2025-03-20T14:19:33.600783Z\", \"created_time_dt\": \"2025-03-20T14:19:33.600783Z\", \"duration\": \"0:00:32\", \"iteration\": \"21\", \"goal\": \"normalized_mean_absolute_error_min\", \"run_name\": \"MaxAbsScaler, DecisionTree\", \"run_properties\": null, \"primary_metric\": 0.08054852, \"best_metric\": 0.06453278}, {\"run_id\": \"AutoML_7983c695-9158-4ea8-9c33-d5dc094e382c_22\", \"run_number\": 1742480407, \"metric\": null, \"status\": \"Completed\", \"run_type\": \"azureml.scriptrun\", \"training_percent\": \"100\", \"start_time\": \"2025-03-20T14:20:14.245038Z\", \"end_time\": \"2025-03-20T14:20:44.273275Z\", \"created_time\": \"2025-03-20T14:20:07.183454Z\", \"created_time_dt\": \"2025-03-20T14:20:07.183454Z\", \"duration\": \"0:00:37\", \"iteration\": \"22\", \"goal\": \"normalized_mean_absolute_error_min\", \"run_name\": \"StandardScalerWrapper, RandomForest\", \"run_properties\": \"copy=True, with_mean=False, with_std=True\", \"primary_metric\": 0.06878412, \"best_metric\": 0.06453278}, {\"run_id\": \"AutoML_7983c695-9158-4ea8-9c33-d5dc094e382c_23\", \"run_number\": 1742480445, \"metric\": null, \"status\": \"Completed\", \"run_type\": \"azureml.scriptrun\", \"training_percent\": \"100\", \"start_time\": \"2025-03-20T14:20:51.701896Z\", \"end_time\": \"2025-03-20T14:21:19.065821Z\", \"created_time\": \"2025-03-20T14:20:45.284858Z\", \"created_time_dt\": \"2025-03-20T14:20:45.284858Z\", \"duration\": \"0:00:33\", \"iteration\": \"23\", \"goal\": \"normalized_mean_absolute_error_min\", \"run_name\": \"StandardScalerWrapper, RandomForest\", \"run_properties\": \"copy=True, with_mean=False, with_std=False\", \"primary_metric\": 0.07139269, \"best_metric\": 0.06453278}, {\"run_id\": \"AutoML_7983c695-9158-4ea8-9c33-d5dc094e382c_24\", \"run_number\": 1742480480, \"metric\": null, \"status\": \"Completed\", \"run_type\": \"azureml.scriptrun\", \"training_percent\": \"100\", \"start_time\": \"2025-03-20T14:21:27.199916Z\", \"end_time\": \"2025-03-20T14:21:59.63105Z\", \"created_time\": \"2025-03-20T14:21:20.198695Z\", \"created_time_dt\": \"2025-03-20T14:21:20.198695Z\", \"duration\": \"0:00:39\", \"iteration\": \"24\", \"goal\": \"normalized_mean_absolute_error_min\", \"run_name\": \"MaxAbsScaler, ExtremeRandomTrees\", \"run_properties\": null, \"primary_metric\": 0.06910915, \"best_metric\": 0.06453278}, {\"run_id\": \"AutoML_7983c695-9158-4ea8-9c33-d5dc094e382c_25\", \"run_number\": 1742480521, \"metric\": null, \"status\": \"Completed\", \"run_type\": \"azureml.scriptrun\", \"training_percent\": \"100\", \"start_time\": \"2025-03-20T14:22:08.547014Z\", \"end_time\": \"2025-03-20T14:22:37.145539Z\", \"created_time\": \"2025-03-20T14:22:01.724657Z\", \"created_time_dt\": \"2025-03-20T14:22:01.724657Z\", \"duration\": \"0:00:35\", \"iteration\": \"25\", \"goal\": \"normalized_mean_absolute_error_min\", \"run_name\": \"SparseNormalizer, XGBoostRegressor\", \"run_properties\": null, \"primary_metric\": 0.09364663, \"best_metric\": 0.06453278}, {\"run_id\": \"AutoML_7983c695-9158-4ea8-9c33-d5dc094e382c_26\", \"run_number\": 1742480558, \"metric\": null, \"status\": \"Completed\", \"run_type\": \"azureml.scriptrun\", \"training_percent\": \"100\", \"start_time\": \"2025-03-20T14:22:44.69144Z\", \"end_time\": \"2025-03-20T14:23:12.120901Z\", \"created_time\": \"2025-03-20T14:22:38.244376Z\", \"created_time_dt\": \"2025-03-20T14:22:38.244376Z\", \"duration\": \"0:00:33\", \"iteration\": \"26\", \"goal\": \"normalized_mean_absolute_error_min\", \"run_name\": \"StandardScalerWrapper, GradientBoosting\", \"run_properties\": \"copy=True, with_mean=False, with_std=False\", \"primary_metric\": 0.15376666, \"best_metric\": 0.06453278}, {\"run_id\": \"AutoML_7983c695-9158-4ea8-9c33-d5dc094e382c_27\", \"run_number\": 1742480593, \"metric\": null, \"status\": \"Completed\", \"run_type\": \"azureml.scriptrun\", \"training_percent\": \"100\", \"start_time\": \"2025-03-20T14:23:20.032831Z\", \"end_time\": \"2025-03-20T14:23:46.460044Z\", \"created_time\": \"2025-03-20T14:23:13.333936Z\", \"created_time_dt\": \"2025-03-20T14:23:13.333936Z\", \"duration\": \"0:00:33\", \"iteration\": \"27\", \"goal\": \"normalized_mean_absolute_error_min\", \"run_name\": \"MaxAbsScaler, RandomForest\", \"run_properties\": null, \"primary_metric\": 0.10190506, \"best_metric\": 0.06453278}, {\"run_id\": \"AutoML_7983c695-9158-4ea8-9c33-d5dc094e382c_28\", \"run_number\": 1742480627, \"metric\": null, \"status\": \"Completed\", \"run_type\": \"azureml.scriptrun\", \"training_percent\": \"100\", \"start_time\": \"2025-03-20T14:23:54.167729Z\", \"end_time\": \"2025-03-20T14:24:20.514721Z\", \"created_time\": \"2025-03-20T14:23:47.518598Z\", \"created_time_dt\": \"2025-03-20T14:23:47.518598Z\", \"duration\": \"0:00:32\", \"iteration\": \"28\", \"goal\": \"normalized_mean_absolute_error_min\", \"run_name\": \"MaxAbsScaler, LightGBM\", \"run_properties\": null, \"primary_metric\": 0.09033737, \"best_metric\": 0.06453278}, {\"run_id\": \"AutoML_7983c695-9158-4ea8-9c33-d5dc094e382c_29\", \"run_number\": 1742480661, \"metric\": null, \"status\": \"Completed\", \"run_type\": \"azureml.scriptrun\", \"training_percent\": \"100\", \"start_time\": \"2025-03-20T14:24:28.222589Z\", \"end_time\": \"2025-03-20T14:24:58.703399Z\", \"created_time\": \"2025-03-20T14:24:21.589675Z\", \"created_time_dt\": \"2025-03-20T14:24:21.589675Z\", \"duration\": \"0:00:37\", \"iteration\": \"29\", \"goal\": \"normalized_mean_absolute_error_min\", \"run_name\": \"MaxAbsScaler, RandomForest\", \"run_properties\": null, \"primary_metric\": 0.07726117, \"best_metric\": 0.06453278}, {\"run_id\": \"AutoML_7983c695-9158-4ea8-9c33-d5dc094e382c_30\", \"run_number\": 1742480699, \"metric\": null, \"status\": \"Completed\", \"run_type\": \"azureml.scriptrun\", \"training_percent\": \"100\", \"start_time\": \"2025-03-20T14:25:06.203592Z\", \"end_time\": \"2025-03-20T14:25:43.590898Z\", \"created_time\": \"2025-03-20T14:24:59.180026Z\", \"created_time_dt\": \"2025-03-20T14:24:59.180026Z\", \"duration\": \"0:00:44\", \"iteration\": \"30\", \"goal\": \"normalized_mean_absolute_error_min\", \"run_name\": \"VotingEnsemble\", \"run_properties\": \"estimators=[('1', Pipeline(memory=None, steps=[('maxabsscaler', MaxAbsScaler(copy=True\", \"primary_metric\": 0.06130209, \"best_metric\": 0.06130209}, {\"run_id\": \"AutoML_7983c695-9158-4ea8-9c33-d5dc094e382c_31\", \"run_number\": 1742480744, \"metric\": null, \"status\": \"Completed\", \"run_type\": \"azureml.scriptrun\", \"training_percent\": \"100\", \"start_time\": \"2025-03-20T14:25:50.497589Z\", \"end_time\": \"2025-03-20T14:26:27.366253Z\", \"created_time\": \"2025-03-20T14:25:44.023968Z\", \"created_time_dt\": \"2025-03-20T14:25:44.023968Z\", \"duration\": \"0:00:43\", \"iteration\": \"31\", \"goal\": \"normalized_mean_absolute_error_min\", \"run_name\": \"StackEnsemble\", \"run_properties\": \"base_learners=[('1', Pipeline(memory=None, steps=[('maxabsscaler', MaxAbsScaler(copy=True\", \"primary_metric\": 0.06299831, \"best_metric\": 0.06130209}], \"children_metrics\": {\"categories\": [0], \"series\": {\"spearman_correlation\": [{\"categories\": [\"0\", \"1\", \"4\", \"7\", \"10\", \"13\", \"16\", \"20\", \"21\", \"22\", \"23\", \"24\", \"25\", \"26\", \"27\", \"28\", \"29\", \"30\", \"31\"], \"mode\": \"markers\", \"name\": \"spearman_correlation\", \"stepped\": false, \"type\": \"scatter\", \"data\": [0.6949281127257488, 0.9352136963536104, 0.8326523625397062, 0.7822800871174038, 0.8944550677615333, 0.8305435968133725, 0.8672825470276304, 0.8233796461454812, 0.8527653780302804, 0.9259669295959251, 0.9246585927045536, 0.93419294064387, 0.8412674305664254, 0.45285827355877883, 0.8254809297706037, 0.8703145063127102, 0.9135349964973113, 0.940696493743275, 0.9386635281918563]}, {\"categories\": [\"0\", \"1\", \"4\", \"7\", \"10\", \"13\", \"16\", \"20\", \"21\", \"22\", \"23\", \"24\", \"25\", \"26\", \"27\", \"28\", \"29\", \"30\", \"31\"], \"mode\": \"lines\", \"name\": \"spearman_correlation_max\", \"stepped\": true, \"type\": \"scatter\", \"data\": [0.6949281127257488, 0.9352136963536104, 0.9352136963536104, 0.9352136963536104, 0.9352136963536104, 0.9352136963536104, 0.9352136963536104, 0.9352136963536104, 0.9352136963536104, 0.9352136963536104, 0.9352136963536104, 0.9352136963536104, 0.9352136963536104, 0.9352136963536104, 0.9352136963536104, 0.9352136963536104, 0.9352136963536104, 0.940696493743275, 0.940696493743275]}], \"mean_absolute_error\": [{\"categories\": [\"0\", \"1\", \"4\", \"7\", \"10\", \"13\", \"16\", \"20\", \"21\", \"22\", \"23\", \"24\", \"25\", \"26\", \"27\", \"28\", \"29\", \"30\", \"31\"], \"mode\": \"markers\", \"name\": \"mean_absolute_error\", \"stepped\": false, \"type\": \"scatter\", \"data\": [2.4301718879775094, 1.2906556307892256, 1.6690355635925254, 2.0288005177798256, 1.7668053165861395, 1.681434599156118, 1.9814578716645221, 1.7135021097046412, 1.6109704641350209, 1.3756824593128385, 1.4278538885335568, 1.3821830441811327, 1.872932600258272, 3.0753332059579, 2.03810123263082, 1.806747424622944, 1.545223371016603, 1.2260418870909464, 1.2599662337405406]}, {\"categories\": [\"0\", \"1\", \"4\", \"7\", \"10\", \"13\", \"16\", \"20\", \"21\", \"22\", \"23\", \"24\", \"25\", \"26\", \"27\", \"28\", \"29\", \"30\", \"31\"], \"mode\": \"lines\", \"name\": \"mean_absolute_error_min\", \"stepped\": true, \"type\": \"scatter\", \"data\": [2.4301718879775094, 1.2906556307892256, 1.2906556307892256, 1.2906556307892256, 1.2906556307892256, 1.2906556307892256, 1.2906556307892256, 1.2906556307892256, 1.2906556307892256, 1.2906556307892256, 1.2906556307892256, 1.2906556307892256, 1.2906556307892256, 1.2906556307892256, 1.2906556307892256, 1.2906556307892256, 1.2906556307892256, 1.2260418870909464, 1.2260418870909464]}], \"normalized_median_absolute_error\": [{\"categories\": [\"0\", \"1\", \"4\", \"7\", \"10\", \"13\", \"16\", \"20\", \"21\", \"22\", \"23\", \"24\", \"25\", \"26\", \"27\", \"28\", \"29\", \"30\", \"31\"], \"mode\": \"markers\", \"name\": \"normalized_median_absolute_error\", \"stepped\": false, \"type\": \"scatter\", \"data\": [0.08758505176698492, 0.04314154326915741, 0.046, 0.055481725146198826, 0.06380953521159338, 0.04666666666666667, 0.06856300324873132, 0.0475, 0.046666666666666655, 0.042539940476190474, 0.045120922261128696, 0.04523218198468197, 0.06620481967926026, 0.11827361178163862, 0.06048750508177754, 0.06299228958643971, 0.04802752323656747, 0.03982582688961778, 0.041771607911558706]}, {\"categories\": [\"0\", \"1\", \"4\", \"7\", \"10\", \"13\", \"16\", \"20\", \"21\", \"22\", \"23\", \"24\", \"25\", \"26\", \"27\", \"28\", \"29\", \"30\", \"31\"], \"mode\": \"lines\", \"name\": \"normalized_median_absolute_error_min\", \"stepped\": true, \"type\": \"scatter\", \"data\": [0.08758505176698492, 0.04314154326915741, 0.04314154326915741, 0.04314154326915741, 0.04314154326915741, 0.04314154326915741, 0.04314154326915741, 0.04314154326915741, 0.04314154326915741, 0.042539940476190474, 0.042539940476190474, 0.042539940476190474, 0.042539940476190474, 0.042539940476190474, 0.042539940476190474, 0.042539940476190474, 0.042539940476190474, 0.03982582688961778, 0.03982582688961778]}], \"r2_score\": [{\"categories\": [\"0\", \"1\", \"4\", \"7\", \"10\", \"13\", \"16\", \"20\", \"21\", \"22\", \"23\", \"24\", \"25\", \"26\", \"27\", \"28\", \"29\", \"30\", \"31\"], \"mode\": \"markers\", \"name\": \"r2_score\", \"stepped\": false, \"type\": \"scatter\", \"data\": [0.4852289448344827, 0.8040805339813233, 0.638584176555202, 0.4979966709469366, 0.7096906851843566, 0.5642603253437473, 0.6346567940581874, 0.5430672091044249, 0.594052412252212, 0.77971724368699, 0.7652307750852809, 0.7777894973518646, 0.6690722584724427, 0.2222312633105048, 0.592226380663873, 0.6949840353479321, 0.7336945116690565, 0.8221452846270634, 0.8098220731655777]}, {\"categories\": [\"0\", \"1\", \"4\", \"7\", \"10\", \"13\", \"16\", \"20\", \"21\", \"22\", \"23\", \"24\", \"25\", \"26\", \"27\", \"28\", \"29\", \"30\", \"31\"], \"mode\": \"lines\", \"name\": \"r2_score_max\", \"stepped\": true, \"type\": \"scatter\", \"data\": [0.4852289448344827, 0.8040805339813233, 0.8040805339813233, 0.8040805339813233, 0.8040805339813233, 0.8040805339813233, 0.8040805339813233, 0.8040805339813233, 0.8040805339813233, 0.8040805339813233, 0.8040805339813233, 0.8040805339813233, 0.8040805339813233, 0.8040805339813233, 0.8040805339813233, 0.8040805339813233, 0.8040805339813233, 0.8221452846270634, 0.8221452846270634]}], \"mean_absolute_percentage_error\": [{\"categories\": [\"0\", \"1\", \"4\", \"7\", \"10\", \"13\", \"16\", \"20\", \"21\", \"22\", \"23\", \"24\", \"25\", \"26\", \"27\", \"28\", \"29\", \"30\", \"31\"], \"mode\": \"markers\", \"name\": \"mean_absolute_percentage_error\", \"stepped\": false, \"type\": \"scatter\", \"data\": [20.179324883126633, 10.993897132919653, 15.81547976470505, 17.1661300554944, 14.748710399446816, 15.637201528892508, 14.157412831010728, 15.86674218040319, 14.554774671450977, 10.472784801964755, 10.290556838431128, 10.463211544802867, 16.46432117697962, 23.328230524531616, 15.485613464438762, 14.33275085352887, 11.496382426239022, 9.793170407317607, 10.30040665734641]}, {\"categories\": [\"0\", \"1\", \"4\", \"7\", \"10\", \"13\", \"16\", \"20\", \"21\", \"22\", \"23\", \"24\", \"25\", \"26\", \"27\", \"28\", \"29\", \"30\", \"31\"], \"mode\": \"lines\", \"name\": \"mean_absolute_percentage_error_min\", \"stepped\": true, \"type\": \"scatter\", \"data\": [20.179324883126633, 10.993897132919653, 10.993897132919653, 10.993897132919653, 10.993897132919653, 10.993897132919653, 10.993897132919653, 10.993897132919653, 10.993897132919653, 10.472784801964755, 10.290556838431128, 10.290556838431128, 10.290556838431128, 10.290556838431128, 10.290556838431128, 10.290556838431128, 10.290556838431128, 9.793170407317607, 9.793170407317607]}], \"root_mean_squared_log_error\": [{\"categories\": [\"0\", \"1\", \"4\", \"7\", \"10\", \"13\", \"16\", \"20\", \"21\", \"22\", \"23\", \"24\", \"25\", \"26\", \"27\", \"28\", \"29\", \"30\", \"31\"], \"mode\": \"markers\", \"name\": \"root_mean_squared_log_error\", \"stepped\": false, \"type\": \"scatter\", \"data\": [0.6100881595971186, 0.4795373248955259, 0.5164104556723526, 0.6083679686414303, NaN, 0.6035483945295332, 0.6259269242343153, 0.6133894088078933, 0.5843760515454322, 0.507134919567974, 0.5359203567487898, 0.5234700787220774, NaN, 0.7341604908722902, 0.6230244769191181, 0.569745149452521, 0.5620661570199956, 0.467761504956451, 0.4959684378064472]}, {\"categories\": [\"0\", \"1\", \"4\", \"7\", \"10\", \"13\", \"16\", \"20\", \"21\", \"22\", \"23\", \"24\", \"25\", \"26\", \"27\", \"28\", \"29\", \"30\", \"31\"], \"mode\": \"lines\", \"name\": \"root_mean_squared_log_error_min\", \"stepped\": true, \"type\": \"scatter\", \"data\": [0.6100881595971186, 0.4795373248955259, 0.4795373248955259, 0.4795373248955259, 0.4795373248955259, 0.4795373248955259, 0.4795373248955259, 0.4795373248955259, 0.4795373248955259, 0.4795373248955259, 0.4795373248955259, 0.4795373248955259, 0.4795373248955259, 0.4795373248955259, 0.4795373248955259, 0.4795373248955259, 0.4795373248955259, 0.467761504956451, 0.467761504956451]}], \"normalized_root_mean_squared_error\": [{\"categories\": [\"0\", \"1\", \"4\", \"7\", \"10\", \"13\", \"16\", \"20\", \"21\", \"22\", \"23\", \"24\", \"25\", \"26\", \"27\", \"28\", \"29\", \"30\", \"31\"], \"mode\": \"markers\", \"name\": \"normalized_root_mean_squared_error\", \"stepped\": false, \"type\": \"scatter\", \"data\": [0.1629833520284389, 0.09720225116991152, 0.13703401201792137, 0.16061195762222424, 0.12144290105902326, 0.14807867016228632, 0.13740066451033525, 0.15313369727398257, 0.13907862140325244, 0.10587693453302356, 0.10970260061223533, 0.10646635054051874, 0.13075744129900135, 0.20081414938260994, 0.14532900691134037, 0.1247255472072772, 0.11688449928363007, 0.0942411934747176, 0.0970116264206801]}, {\"categories\": [\"0\", \"1\", \"4\", \"7\", \"10\", \"13\", \"16\", \"20\", \"21\", \"22\", \"23\", \"24\", \"25\", \"26\", \"27\", \"28\", \"29\", \"30\", \"31\"], \"mode\": \"lines\", \"name\": \"normalized_root_mean_squared_error_min\", \"stepped\": true, \"type\": \"scatter\", \"data\": [0.1629833520284389, 0.09720225116991152, 0.09720225116991152, 0.09720225116991152, 0.09720225116991152, 0.09720225116991152, 0.09720225116991152, 0.09720225116991152, 0.09720225116991152, 0.09720225116991152, 0.09720225116991152, 0.09720225116991152, 0.09720225116991152, 0.09720225116991152, 0.09720225116991152, 0.09720225116991152, 0.09720225116991152, 0.0942411934747176, 0.0942411934747176]}], \"explained_variance\": [{\"categories\": [\"0\", \"1\", \"4\", \"7\", \"10\", \"13\", \"16\", \"20\", \"21\", \"22\", \"23\", \"24\", \"25\", \"26\", \"27\", \"28\", \"29\", \"30\", \"31\"], \"mode\": \"markers\", \"name\": \"explained_variance\", \"stepped\": false, \"type\": \"scatter\", \"data\": [0.4916210116887543, 0.8047846712318272, 0.6403010688670223, 0.4997079256011049, 0.7111414654497251, 0.5744528223064643, 0.6400151801123025, 0.5471519267037477, 0.6013877359677513, 0.7807283586935803, 0.7665064530323457, 0.7797678734047344, 0.6692545137076898, 0.22673680717880956, 0.5967613200579782, 0.6996050394000894, 0.7354145500749242, 0.8230660143030084, 0.8105333143609673]}, {\"categories\": [\"0\", \"1\", \"4\", \"7\", \"10\", \"13\", \"16\", \"20\", \"21\", \"22\", \"23\", \"24\", \"25\", \"26\", \"27\", \"28\", \"29\", \"30\", \"31\"], \"mode\": \"lines\", \"name\": \"explained_variance_max\", \"stepped\": true, \"type\": \"scatter\", \"data\": [0.4916210116887543, 0.8047846712318272, 0.8047846712318272, 0.8047846712318272, 0.8047846712318272, 0.8047846712318272, 0.8047846712318272, 0.8047846712318272, 0.8047846712318272, 0.8047846712318272, 0.8047846712318272, 0.8047846712318272, 0.8047846712318272, 0.8047846712318272, 0.8047846712318272, 0.8047846712318272, 0.8047846712318272, 0.8230660143030084, 0.8230660143030084]}], \"root_mean_squared_error\": [{\"categories\": [\"0\", \"1\", \"4\", \"7\", \"10\", \"13\", \"16\", \"20\", \"21\", \"22\", \"23\", \"24\", \"25\", \"26\", \"27\", \"28\", \"29\", \"30\", \"31\"], \"mode\": \"markers\", \"name\": \"root_mean_squared_error\", \"stepped\": false, \"type\": \"scatter\", \"data\": [3.2596670405687775, 1.9440450233982305, 2.740680240358428, 3.212239152444485, 2.428858021180465, 2.961573403245726, 2.748013290206705, 3.062673945479651, 2.781572428065049, 2.1175386906604716, 2.1940520122447063, 2.1293270108103743, 2.615148825980027, 4.016282987652199, 2.906580138226808, 2.494510944145544, 2.3376899856726014, 1.8848238694943518, 1.940232528413602]}, {\"categories\": [\"0\", \"1\", \"4\", \"7\", \"10\", \"13\", \"16\", \"20\", \"21\", \"22\", \"23\", \"24\", \"25\", \"26\", \"27\", \"28\", \"29\", \"30\", \"31\"], \"mode\": \"lines\", \"name\": \"root_mean_squared_error_min\", \"stepped\": true, \"type\": \"scatter\", \"data\": [3.2596670405687775, 1.9440450233982305, 1.9440450233982305, 1.9440450233982305, 1.9440450233982305, 1.9440450233982305, 1.9440450233982305, 1.9440450233982305, 1.9440450233982305, 1.9440450233982305, 1.9440450233982305, 1.9440450233982305, 1.9440450233982305, 1.9440450233982305, 1.9440450233982305, 1.9440450233982305, 1.9440450233982305, 1.8848238694943518, 1.8848238694943518]}], \"median_absolute_error\": [{\"categories\": [\"0\", \"1\", \"4\", \"7\", \"10\", \"13\", \"16\", \"20\", \"21\", \"22\", \"23\", \"24\", \"25\", \"26\", \"27\", \"28\", \"29\", \"30\", \"31\"], \"mode\": \"markers\", \"name\": \"median_absolute_error\", \"stepped\": false, \"type\": \"scatter\", \"data\": [1.7517010353396985, 0.8628308653831482, 0.9199999999999999, 1.1096345029239765, 1.2761907042318676, 0.9333333333333332, 1.3712600649746267, 0.95, 0.9333333333333332, 0.8507988095238094, 0.902418445222574, 0.9046436396936393, 1.324096393585205, 2.3654722356327724, 1.2097501016355507, 1.2598457917287942, 0.9605504647313495, 0.7965165377923554, 0.8354321582311741]}, {\"categories\": [\"0\", \"1\", \"4\", \"7\", \"10\", \"13\", \"16\", \"20\", \"21\", \"22\", \"23\", \"24\", \"25\", \"26\", \"27\", \"28\", \"29\", \"30\", \"31\"], \"mode\": \"lines\", \"name\": \"median_absolute_error_min\", \"stepped\": true, \"type\": \"scatter\", \"data\": [1.7517010353396985, 0.8628308653831482, 0.8628308653831482, 0.8628308653831482, 0.8628308653831482, 0.8628308653831482, 0.8628308653831482, 0.8628308653831482, 0.8628308653831482, 0.8507988095238094, 0.8507988095238094, 0.8507988095238094, 0.8507988095238094, 0.8507988095238094, 0.8507988095238094, 0.8507988095238094, 0.8507988095238094, 0.7965165377923554, 0.7965165377923554]}], \"normalized_root_mean_squared_log_error\": [{\"categories\": [\"0\", \"1\", \"4\", \"7\", \"10\", \"13\", \"16\", \"20\", \"21\", \"22\", \"23\", \"24\", \"25\", \"26\", \"27\", \"28\", \"29\", \"30\", \"31\"], \"mode\": \"markers\", \"name\": \"normalized_root_mean_squared_log_error\", \"stepped\": false, \"type\": \"scatter\", \"data\": [0.20038878742943972, 0.15750822492019653, 0.16961952694902935, 0.19982377567771992, NaN, 0.19824074444359935, 0.2055911680855798, 0.20147311158152026, 0.19194342084810062, 0.16657289605892672, 0.1760277244497927, 0.1719383218320139, NaN, 0.2411414288742333, 0.2046378339011329, 0.1871377731998436, 0.18461554103056213, 0.15364035395522496, 0.1629051675432267]}, {\"categories\": [\"0\", \"1\", \"4\", \"7\", \"10\", \"13\", \"16\", \"20\", \"21\", \"22\", \"23\", \"24\", \"25\", \"26\", \"27\", \"28\", \"29\", \"30\", \"31\"], \"mode\": \"lines\", \"name\": \"normalized_root_mean_squared_log_error_min\", \"stepped\": true, \"type\": \"scatter\", \"data\": [0.20038878742943972, 0.15750822492019653, 0.15750822492019653, 0.15750822492019653, 0.15750822492019653, 0.15750822492019653, 0.15750822492019653, 0.15750822492019653, 0.15750822492019653, 0.15750822492019653, 0.15750822492019653, 0.15750822492019653, 0.15750822492019653, 0.15750822492019653, 0.15750822492019653, 0.15750822492019653, 0.15750822492019653, 0.15364035395522496, 0.15364035395522496]}], \"normalized_mean_absolute_error\": [{\"categories\": [\"0\", \"1\", \"4\", \"7\", \"10\", \"13\", \"16\", \"20\", \"21\", \"22\", \"23\", \"24\", \"25\", \"26\", \"27\", \"28\", \"29\", \"30\", \"31\"], \"mode\": \"markers\", \"name\": \"normalized_mean_absolute_error\", \"stepped\": false, \"type\": \"scatter\", \"data\": [0.12150859439887547, 0.06453278153946126, 0.08345177817962628, 0.10144002588899129, 0.08834026582930696, 0.0840717299578059, 0.0990728935832261, 0.08567510548523208, 0.08054852320675106, 0.06878412296564193, 0.07139269442667784, 0.06910915220905664, 0.0936466300129136, 0.15376666029789499, 0.101905061631541, 0.0903373712311472, 0.07726116855083014, 0.061302094354547323, 0.06299831168702703]}, {\"categories\": [\"0\", \"1\", \"4\", \"7\", \"10\", \"13\", \"16\", \"20\", \"21\", \"22\", \"23\", \"24\", \"25\", \"26\", \"27\", \"28\", \"29\", \"30\", \"31\"], \"mode\": \"lines\", \"name\": \"normalized_mean_absolute_error_min\", \"stepped\": true, \"type\": \"scatter\", \"data\": [0.12150859439887547, 0.06453278153946126, 0.06453278153946126, 0.06453278153946126, 0.06453278153946126, 0.06453278153946126, 0.06453278153946126, 0.06453278153946126, 0.06453278153946126, 0.06453278153946126, 0.06453278153946126, 0.06453278153946126, 0.06453278153946126, 0.06453278153946126, 0.06453278153946126, 0.06453278153946126, 0.06453278153946126, 0.061302094354547323, 0.061302094354547323]}]}, \"metricName\": null, \"primaryMetricName\": \"normalized_mean_absolute_error\", \"showLegend\": false}, \"run_metrics\": [{\"name\": \"experiment_status\", \"run_id\": \"AutoML_7983c695-9158-4ea8-9c33-d5dc094e382c\", \"categories\": [0, 1, 2, 3, 4, 5, 6, 7, 8, 9, 10, 11, 12, 13], \"series\": [{\"data\": [\"DatasetEvaluation\", \"FeaturesGeneration\", \"DatasetFeaturization\", \"DatasetFeaturizationCompleted\", \"DatasetCrossValidationSplit\", \"ModelSelection\", \"BestRunExplainModel\", \"ModelExplanationDataSetSetup\", \"PickSurrogateModel\", \"EngineeredFeatureExplanations\", \"EngineeredFeatureExplanations\", \"RawFeaturesExplanations\", \"RawFeaturesExplanations\", \"BestRunExplainModel\"]}]}, {\"name\": \"experiment_status_description\", \"run_id\": \"AutoML_7983c695-9158-4ea8-9c33-d5dc094e382c\", \"categories\": [0, 1, 2, 3, 4, 5, 6, 7, 8, 9, 10, 11, 12, 13], \"series\": [{\"data\": [\"Gathering dataset statistics.\", \"Generating features for the dataset.\", \"Beginning to fit featurizers and featurize the dataset.\", \"Completed fit featurizers and featurizing the dataset.\", \"Generating individually featurized CV splits.\", \"Beginning model selection.\", \"Best run model explanations started\", \"Model explanations data setup completed\", \"Choosing LightGBM as the surrogate model for explanations\", \"Computation of engineered features started\", \"Computation of engineered features completed\", \"Computation of raw features started\", \"Computation of raw features completed\", \"Best run model explanations completed\"]}]}, {\"name\": \"root_mean_squared_error\", \"run_id\": \"AutoML_7983c695-9158-4ea8-9c33-d5dc094e382c\", \"categories\": [0], \"series\": [{\"data\": [1.8848238694943518]}]}, {\"name\": \"normalized_root_mean_squared_error\", \"run_id\": \"AutoML_7983c695-9158-4ea8-9c33-d5dc094e382c\", \"categories\": [0], \"series\": [{\"data\": [0.0942411934747176]}]}, {\"name\": \"normalized_root_mean_squared_log_error\", \"run_id\": \"AutoML_7983c695-9158-4ea8-9c33-d5dc094e382c\", \"categories\": [0], \"series\": [{\"data\": [0.15364035395522496]}]}, {\"name\": \"r2_score\", \"run_id\": \"AutoML_7983c695-9158-4ea8-9c33-d5dc094e382c\", \"categories\": [0], \"series\": [{\"data\": [0.8221452846270634]}]}, {\"name\": \"median_absolute_error\", \"run_id\": \"AutoML_7983c695-9158-4ea8-9c33-d5dc094e382c\", \"categories\": [0], \"series\": [{\"data\": [0.7965165377923554]}]}, {\"name\": \"normalized_mean_absolute_error\", \"run_id\": \"AutoML_7983c695-9158-4ea8-9c33-d5dc094e382c\", \"categories\": [0], \"series\": [{\"data\": [0.061302094354547323]}]}, {\"name\": \"mean_absolute_percentage_error\", \"run_id\": \"AutoML_7983c695-9158-4ea8-9c33-d5dc094e382c\", \"categories\": [0], \"series\": [{\"data\": [9.793170407317607]}]}, {\"name\": \"spearman_correlation\", \"run_id\": \"AutoML_7983c695-9158-4ea8-9c33-d5dc094e382c\", \"categories\": [0], \"series\": [{\"data\": [0.940696493743275]}]}, {\"name\": \"root_mean_squared_log_error\", \"run_id\": \"AutoML_7983c695-9158-4ea8-9c33-d5dc094e382c\", \"categories\": [0], \"series\": [{\"data\": [0.467761504956451]}]}, {\"name\": \"explained_variance\", \"run_id\": \"AutoML_7983c695-9158-4ea8-9c33-d5dc094e382c\", \"categories\": [0], \"series\": [{\"data\": [0.8230660143030084]}]}, {\"name\": \"normalized_median_absolute_error\", \"run_id\": \"AutoML_7983c695-9158-4ea8-9c33-d5dc094e382c\", \"categories\": [0], \"series\": [{\"data\": [0.03982582688961778]}]}, {\"name\": \"mean_absolute_error\", \"run_id\": \"AutoML_7983c695-9158-4ea8-9c33-d5dc094e382c\", \"categories\": [0], \"series\": [{\"data\": [1.2260418870909464]}]}], \"run_logs\": \"\\nRun is completed.\", \"graph\": {}, \"widget_settings\": {\"childWidgetDisplay\": \"popup\", \"send_telemetry\": false, \"log_level\": \"INFO\", \"sdk_version\": \"1.57.0\"}, \"loading\": false}"
          },
          "metadata": {}
        }
      ],
      "execution_count": 23,
      "metadata": {
        "gather": {
          "logged": 1742480316960
        },
        "jupyter": {
          "outputs_hidden": false,
          "source_hidden": false
        },
        "nteract": {
          "transient": {
            "deleting": false
          }
        }
      }
    },
    {
      "cell_type": "markdown",
      "source": [
        "## Best Model\n",
        "\n",
        "TODO: In the cell below, get the best model from the automl experiments and display all the properties of the model.\n",
        "\n"
      ],
      "metadata": {}
    },
    {
      "cell_type": "code",
      "source": [
        "best_run, best_model = remote_run.get_output()"
      ],
      "outputs": [],
      "execution_count": 24,
      "metadata": {
        "gather": {
          "logged": 1742480966176
        },
        "jupyter": {
          "outputs_hidden": false,
          "source_hidden": false
        },
        "nteract": {
          "transient": {
            "deleting": false
          }
        }
      }
    },
    {
      "cell_type": "code",
      "source": [
        "import joblib\n",
        "\n",
        "#TODO: Save the best model\n",
        "print(\"Best Run ID:\", best_run.id)\n",
        "print(\"Best Model Properties:\")\n",
        "for key, value in best_run.get_metrics().items():\n",
        "    print(f\"{key}: {value}\")\n",
        "\n",
        "\n",
        "model_filename = \"best_automl_model.pkl\"\n",
        "joblib.dump(best_model, model_filename)"
      ],
      "outputs": [
        {
          "output_type": "stream",
          "name": "stdout",
          "text": "Best Run ID: AutoML_7983c695-9158-4ea8-9c33-d5dc094e382c_30\nBest Model Properties:\nmean_absolute_error: 1.2260418870909464\nnormalized_mean_absolute_error: 0.061302094354547323\nroot_mean_squared_error: 1.8848238694943518\nroot_mean_squared_log_error: 0.467761504956451\nnormalized_median_absolute_error: 0.03982582688961778\nnormalized_root_mean_squared_log_error: 0.15364035395522496\nnormalized_root_mean_squared_error: 0.0942411934747176\nexplained_variance: 0.8230660143030084\nr2_score: 0.8221452846270634\nspearman_correlation: 0.940696493743275\nmean_absolute_percentage_error: 9.793170407317607\nmedian_absolute_error: 0.7965165377923554\nresiduals: aml://artifactId/ExperimentRun/dcid.AutoML_7983c695-9158-4ea8-9c33-d5dc094e382c_30/residuals\npredicted_true: aml://artifactId/ExperimentRun/dcid.AutoML_7983c695-9158-4ea8-9c33-d5dc094e382c_30/predicted_true\n"
        },
        {
          "output_type": "execute_result",
          "execution_count": 25,
          "data": {
            "text/plain": "['best_automl_model.pkl']"
          },
          "metadata": {}
        }
      ],
      "execution_count": 25,
      "metadata": {
        "gather": {
          "logged": 1742480970933
        },
        "jupyter": {
          "outputs_hidden": false,
          "source_hidden": false
        },
        "nteract": {
          "transient": {
            "deleting": false
          }
        }
      }
    },
    {
      "cell_type": "markdown",
      "source": [
        "## Model Deployment\n",
        "\n",
        "Remember you have to deploy only one of the two models you trained but you still need to register both the models. Perform the steps in the rest of this notebook only if you wish to deploy this model.\n",
        "\n",
        "TODO: In the cell below, register the model, create an inference config and deploy the model as a web service."
      ],
      "metadata": {}
    },
    {
      "cell_type": "code",
      "source": [
        "from azureml.core.model import Model\n",
        "\n",
        "# Register the best model\n",
        "model = Model.register(\n",
        "    workspace=ws,\n",
        "    model_name=\"student-performance-model\",  \n",
        "    model_path=\"best_automl_model.pkl\",\n",
        "    description=\"AutoML trained model for predicting student performance\"\n",
        ")"
      ],
      "outputs": [
        {
          "output_type": "stream",
          "name": "stdout",
          "text": "Registering model student-performance-model\n"
        }
      ],
      "execution_count": 5,
      "metadata": {
        "gather": {
          "logged": 1742483559444
        },
        "jupyter": {
          "outputs_hidden": false,
          "source_hidden": false
        },
        "nteract": {
          "transient": {
            "deleting": false
          }
        }
      }
    },
    {
      "cell_type": "code",
      "source": [
        "from azureml.core.environment import Environment\n",
        "\n",
        "env = Environment(name=\"student-performance-env\")\n",
        "env.python.conda_dependencies.add_pip_package(\"azureml-defaults\")\n",
        "env.python.conda_dependencies.add_pip_package(\"scikit-learn\") \n",
        "env.python.conda_dependencies.add_pip_package(\"pandas\")\n",
        "env.python.conda_dependencies.add_pip_package(\"joblib\")\n",
        "env.python.conda_dependencies.add_pip_package(\"numpy\")\n",
        "env.python.conda_dependencies.add_pip_package(\"azureml-core\")"
      ],
      "outputs": [],
      "execution_count": 9,
      "metadata": {
        "gather": {
          "logged": 1742484290395
        }
      }
    },
    {
      "cell_type": "code",
      "source": [
        "from azureml.core.model import InferenceConfig\n",
        "from azureml.core.webservice import AciWebservice\n",
        "\n",
        "\n",
        "service_name = 'student-performance-predictor'\n",
        "\n",
        "inference_config = InferenceConfig(entry_script='score.py', environment=env)\n",
        "aci_config = AciWebservice.deploy_configuration(cpu_cores=1, memory_gb=1)\n",
        "\n",
        "service = Model.deploy(workspace=ws,\n",
        "                        name=service_name,\n",
        "                        models=[model],\n",
        "                        inference_config=inference_config,\n",
        "                        deployment_config=aci_config,\n",
        "                        overwrite=True)\n",
        "service.wait_for_deployment(show_output=True)"
      ],
      "outputs": [
        {
          "output_type": "stream",
          "name": "stderr",
          "text": "/tmp/ipykernel_2930/1537714338.py:10: FutureWarning: azureml.core.model:\nTo leverage new model deployment capabilities, AzureML recommends using CLI/SDK v2 to deploy models as online endpoint, \nplease refer to respective documentations \nhttps://docs.microsoft.com/azure/machine-learning/how-to-deploy-managed-online-endpoints /\nhttps://docs.microsoft.com/azure/machine-learning/how-to-attach-kubernetes-anywhere \nFor more information on migration, see https://aka.ms/acimoemigration \nTo disable CLI/SDK v1 deprecation warning set AZUREML_LOG_DEPRECATION_WARNING_ENABLED to 'False'\n  service = Model.deploy(workspace=ws,\n"
        },
        {
          "output_type": "stream",
          "name": "stdout",
          "text": "Tips: You can try get_logs(): https://aka.ms/debugimage#dockerlog or local deployment: https://aka.ms/debugimage#debug-locally to debug if deployment takes longer than 10 minutes.\nRunning\n2025-03-20 15:25:05+00:00 Creating Container Registry if not exists..\n2025-03-20 15:35:05+00:00 Registering the environment.\n2025-03-20 15:35:08+00:00 Building image..\n2025-03-20 15:43:23+00:00 Generating deployment configuration.\n2025-03-20 15:43:24+00:00 Submitting deployment to compute..\n2025-03-20 15:43:36+00:00 Checking the status of deployment student-performance-predictor..\n2025-03-20 15:45:03+00:00 Checking the status of inference endpoint student-performance-predictor."
        },
        {
          "output_type": "error",
          "ename": "KeyboardInterrupt",
          "evalue": "",
          "traceback": [
            "\u001b[0;31m---------------------------------------------------------------------------\u001b[0m",
            "\u001b[0;31mKeyboardInterrupt\u001b[0m                         Traceback (most recent call last)",
            "Cell \u001b[0;32mIn[10], line 16\u001b[0m\n\u001b[1;32m      8\u001b[0m aci_config \u001b[38;5;241m=\u001b[39m AciWebservice\u001b[38;5;241m.\u001b[39mdeploy_configuration(cpu_cores\u001b[38;5;241m=\u001b[39m\u001b[38;5;241m1\u001b[39m, memory_gb\u001b[38;5;241m=\u001b[39m\u001b[38;5;241m1\u001b[39m)\n\u001b[1;32m     10\u001b[0m service \u001b[38;5;241m=\u001b[39m Model\u001b[38;5;241m.\u001b[39mdeploy(workspace\u001b[38;5;241m=\u001b[39mws,\n\u001b[1;32m     11\u001b[0m                         name\u001b[38;5;241m=\u001b[39mservice_name,\n\u001b[1;32m     12\u001b[0m                         models\u001b[38;5;241m=\u001b[39m[model],\n\u001b[1;32m     13\u001b[0m                         inference_config\u001b[38;5;241m=\u001b[39minference_config,\n\u001b[1;32m     14\u001b[0m                         deployment_config\u001b[38;5;241m=\u001b[39maci_config,\n\u001b[1;32m     15\u001b[0m                         overwrite\u001b[38;5;241m=\u001b[39m\u001b[38;5;28;01mTrue\u001b[39;00m)\n\u001b[0;32m---> 16\u001b[0m \u001b[43mservice\u001b[49m\u001b[38;5;241;43m.\u001b[39;49m\u001b[43mwait_for_deployment\u001b[49m\u001b[43m(\u001b[49m\u001b[43mshow_output\u001b[49m\u001b[38;5;241;43m=\u001b[39;49m\u001b[38;5;28;43;01mTrue\u001b[39;49;00m\u001b[43m)\u001b[49m\n",
            "File \u001b[0;32m/anaconda/envs/azureml_py38/lib/python3.10/site-packages/azureml/core/webservice/webservice.py:886\u001b[0m, in \u001b[0;36mWebservice.wait_for_deployment\u001b[0;34m(self, show_output, timeout_sec)\u001b[0m\n\u001b[1;32m    883\u001b[0m     timeout_sec \u001b[38;5;241m=\u001b[39m \u001b[38;5;28mfloat\u001b[39m(timeout_sec)\n\u001b[1;32m    885\u001b[0m \u001b[38;5;28;01mtry\u001b[39;00m:\n\u001b[0;32m--> 886\u001b[0m     operation_state, error, operation \u001b[38;5;241m=\u001b[39m \u001b[38;5;28;43mself\u001b[39;49m\u001b[38;5;241;43m.\u001b[39;49m\u001b[43m_wait_for_operation_to_complete\u001b[49m\u001b[43m(\u001b[49m\u001b[43mshow_output\u001b[49m\u001b[43m,\u001b[49m\u001b[43m \u001b[49m\u001b[43mtimeout_sec\u001b[49m\u001b[43m)\u001b[49m\n\u001b[1;32m    887\u001b[0m     \u001b[38;5;28mself\u001b[39m\u001b[38;5;241m.\u001b[39mupdate_deployment_state()\n\u001b[1;32m    888\u001b[0m     \u001b[38;5;28;01mif\u001b[39;00m operation_state \u001b[38;5;241m!=\u001b[39m \u001b[38;5;124m'\u001b[39m\u001b[38;5;124mSucceeded\u001b[39m\u001b[38;5;124m'\u001b[39m:\n",
            "File \u001b[0;32m/anaconda/envs/azureml_py38/lib/python3.10/site-packages/azureml/core/webservice/webservice.py:952\u001b[0m, in \u001b[0;36mWebservice._wait_for_operation_to_complete\u001b[0;34m(self, show_output, timeout_sec)\u001b[0m\n\u001b[1;32m    947\u001b[0m     msg \u001b[38;5;241m=\u001b[39m \u001b[38;5;124m'\u001b[39m\u001b[38;5;124mDeployment polling exceeded timeout override of \u001b[39m\u001b[38;5;132;01m{}\u001b[39;00m\u001b[38;5;124ms. Current status: \u001b[39m\u001b[38;5;132;01m{}\u001b[39;00m\u001b[38;5;130;01m\\n\u001b[39;00m\u001b[38;5;124mDeployment may be \u001b[39m\u001b[38;5;130;01m\\\u001b[39;00m\n\u001b[1;32m    948\u001b[0m \u001b[38;5;124m        transitioning or unhealthy, use update_deployment_state() to fetch the latest status of \u001b[39m\u001b[38;5;130;01m\\\u001b[39;00m\n\u001b[1;32m    949\u001b[0m \u001b[38;5;124m            the webservice\u001b[39m\u001b[38;5;124m'\u001b[39m\u001b[38;5;241m.\u001b[39mformat(timeout_sec, current_state)\n\u001b[1;32m    950\u001b[0m     \u001b[38;5;28;01mraise\u001b[39;00m WebserviceException(msg, logger\u001b[38;5;241m=\u001b[39mmodule_logger)\n\u001b[0;32m--> 952\u001b[0m \u001b[43mtime\u001b[49m\u001b[38;5;241;43m.\u001b[39;49m\u001b[43msleep\u001b[49m\u001b[43m(\u001b[49m\u001b[38;5;241;43m5\u001b[39;49m\u001b[43m)\u001b[49m\n\u001b[1;32m    954\u001b[0m elapsed_time \u001b[38;5;241m=\u001b[39m time\u001b[38;5;241m.\u001b[39mtime() \u001b[38;5;241m-\u001b[39m start_time\n\u001b[1;32m    955\u001b[0m state, error, operation \u001b[38;5;241m=\u001b[39m \u001b[38;5;28mself\u001b[39m\u001b[38;5;241m.\u001b[39m_get_operation_state(show_output, streaming_log_offset)\n",
            "\u001b[0;31mKeyboardInterrupt\u001b[0m: "
          ]
        }
      ],
      "execution_count": 10,
      "metadata": {
        "gather": {
          "logged": 1742485610815
        },
        "jupyter": {
          "outputs_hidden": false
        }
      }
    },
    {
      "cell_type": "markdown",
      "source": [
        "TODO: In the cell below, send a request to the web service you deployed to test it."
      ],
      "metadata": {
        "collapsed": true,
        "gather": {
          "logged": 1598431657736
        },
        "jupyter": {
          "outputs_hidden": false,
          "source_hidden": false
        },
        "nteract": {
          "transient": {
            "deleting": false
          }
        }
      }
    },
    {
      "cell_type": "code",
      "source": [
        "input_data = {\n",
        "    \"data\": [\n",
        "        {\n",
        "            \"school\": \"GP\", \"sex\": \"F\", \"age\": 16, \"address\": \"R\",\n",
        "            \"famsize\": \"LE3\", \"Pstatus\": \"T\", \"Medu\": 2, \"Fedu\": 3,\n",
        "            \"Mjob\": \"other\", \"Fjob\": \"teacher\", \"reason\": \"home\",\n",
        "            \"guardian\": \"father\", \"traveltime\": 3, \"studytime\": 3,\n",
        "            \"failures\": 2, \"schoolsup\": \"yes\", \"famsup\": \"yes\",\n",
        "            \"paid\": \"yes\", \"activities\": \"no\", \"nursery\": \"yes\",\n",
        "            \"higher\": \"no\", \"internet\": \"yes\", \"romantic\": \"no\",\n",
        "            \"famrel\": 1, \"freetime\": 2, \"goout\": 4, \"Dalc\": 5,\n",
        "            \"Walc\": 5, \"health\": 1, \"absences\": 8, \"G1\": 15, \"G2\": 20\n",
        "        },\n",
        "        {\n",
        "            \"school\": \"GP\", \"sex\": \"M\", \"age\": 16, \"address\": \"U\",\n",
        "            \"famsize\": \"GT3\", \"Pstatus\": \"A\", \"Medu\": 2, \"Fedu\": 0,\n",
        "            \"Mjob\": \"health\", \"Fjob\": \"health\", \"reason\": \"home\",\n",
        "            \"guardian\": \"other\", \"traveltime\": 3, \"studytime\": 2,\n",
        "            \"failures\": 1, \"schoolsup\": \"no\", \"famsup\": \"yes\",\n",
        "            \"paid\": \"yes\", \"activities\": \"yes\", \"nursery\": \"no\",\n",
        "            \"higher\": \"no\", \"internet\": \"yes\", \"romantic\": \"no\",\n",
        "            \"famrel\": 1, \"freetime\": 4, \"goout\": 4, \"Dalc\": 1,\n",
        "            \"Walc\": 2, \"health\": 1, \"absences\": 18, \"G1\": 8, \"G2\": 10\n",
        "        },\n",
        "        {\n",
        "            \"school\": \"GP\", \"sex\": \"M\", \"age\": 20, \"address\": \"U\",\n",
        "            \"famsize\": \"LE3\", \"Pstatus\": \"T\", \"Medu\": 2, \"Fedu\": 0,\n",
        "            \"Mjob\": \"teacher\", \"Fjob\": \"other\", \"reason\": \"reputation\",\n",
        "            \"guardian\": \"other\", \"traveltime\": 3, \"studytime\": 1,\n",
        "            \"failures\": 0, \"schoolsup\": \"no\", \"famsup\": \"yes\",\n",
        "            \"paid\": \"yes\", \"activities\": \"no\", \"nursery\": \"yes\",\n",
        "            \"higher\": \"yes\", \"internet\": \"no\", \"romantic\": \"yes\",\n",
        "            \"famrel\": 1, \"freetime\": 2, \"goout\": 2, \"Dalc\": 3,\n",
        "            \"Walc\": 2, \"health\": 1, \"absences\": 11, \"G1\": 17, \"G2\": 13\n",
        "        }\n",
        "    ]\n",
        "}"
      ],
      "outputs": [],
      "execution_count": null,
      "metadata": {
        "gather": {
          "logged": 1742485611209
        }
      }
    },
    {
      "cell_type": "code",
      "source": [
        "import requests\n",
        "import json\n",
        "\n",
        "# Replace with your actual endpoint URL\n",
        "endpoint_url = \"https://your-endpoint-url.azurewebsites.net/score\"\n",
        "\n",
        "# If your service requires authentication, include the key\n",
        "api_key = \"your-api-key-if-required\"  # Replace with actual key if needed\n",
        "headers = {\n",
        "    \"Content-Type\": \"application/json\",\n",
        "    \"Authorization\": f\"Bearer {api_key}\" if api_key else None\n",
        "}\n",
        "\n",
        "# Send request to the web service\n",
        "response = requests.post(endpoint_url, data=json.dumps(input_data), headers=headers)\n",
        "\n",
        "# Print response\n",
        "print(\"Prediction Response:\", response.json())"
      ],
      "outputs": [],
      "execution_count": null,
      "metadata": {
        "gather": {
          "logged": 1598432707604
        },
        "jupyter": {
          "outputs_hidden": false,
          "source_hidden": false
        },
        "nteract": {
          "transient": {
            "deleting": false
          }
        }
      }
    },
    {
      "cell_type": "markdown",
      "source": [
        "TODO: In the cell below, print the logs of the web service and delete the service"
      ],
      "metadata": {
        "collapsed": true,
        "gather": {
          "logged": 1598432765711
        },
        "jupyter": {
          "outputs_hidden": false,
          "source_hidden": false
        },
        "nteract": {
          "transient": {
            "deleting": false
          }
        }
      }
    },
    {
      "cell_type": "code",
      "source": [],
      "outputs": [],
      "execution_count": null,
      "metadata": {
        "jupyter": {
          "outputs_hidden": false,
          "source_hidden": false
        },
        "nteract": {
          "transient": {
            "deleting": false
          }
        }
      }
    },
    {
      "cell_type": "markdown",
      "source": [
        "**Submission Checklist**\n",
        "- I have registered the model.\n",
        "- I have deployed the model with the best accuracy as a webservice.\n",
        "- I have tested the webservice by sending a request to the model endpoint.\n",
        "- I have deleted the webservice and shutdown all the computes that I have used.\n",
        "- I have taken a screenshot showing the model endpoint as active.\n",
        "- The project includes a file containing the environment details.\n"
      ],
      "metadata": {}
    },
    {
      "cell_type": "markdown",
      "source": [],
      "metadata": {}
    }
  ],
  "metadata": {
    "kernel_info": {
      "name": "python38-azureml"
    },
    "kernelspec": {
      "name": "python38-azureml",
      "language": "python",
      "display_name": "Python 3.8 - AzureML"
    },
    "language_info": {
      "name": "python",
      "version": "3.10.11",
      "mimetype": "text/x-python",
      "codemirror_mode": {
        "name": "ipython",
        "version": 3
      },
      "pygments_lexer": "ipython3",
      "nbconvert_exporter": "python",
      "file_extension": ".py"
    },
    "nteract": {
      "version": "nteract-front-end@1.0.0"
    },
    "microsoft": {
      "host": {
        "AzureML": {
          "notebookHasBeenCompleted": true
        }
      },
      "ms_spell_check": {
        "ms_spell_check_language": "en"
      }
    }
  },
  "nbformat": 4,
  "nbformat_minor": 2
}