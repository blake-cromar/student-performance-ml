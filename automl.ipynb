{
  "cells": [
    {
      "cell_type": "markdown",
      "metadata": {},
      "source": [
        "# AutoML"
      ]
    },
    {
      "cell_type": "markdown",
      "metadata": {},
      "source": [
        "## Setting Up ML Client"
      ]
    },
    {
      "cell_type": "code",
      "execution_count": 1,
      "metadata": {},
      "outputs": [
        {
          "name": "stderr",
          "output_type": "stream",
          "text": [
            "Found the config file in: /config.json\n"
          ]
        },
        {
          "name": "stdout",
          "output_type": "stream",
          "text": [
            "\n",
            "✅ Azure ML Workspace Loaded Successfully\n",
            "\n",
            "🔑 Subscription ID : 03571d3d-f675-492f-8346-8b04c78ed80f\n",
            "📦 Resource Group  : student-performance-rg\n",
            "🧠 Workspace Name  : student-performance-ws\n",
            "\n"
          ]
        }
      ],
      "source": [
        "from azure.identity import DefaultAzureCredential\n",
        "from azure.ai.ml import MLClient\n",
        "\n",
        "# 🔐 Authenticate and connect to Azure ML workspace\n",
        "credential = DefaultAzureCredential()\n",
        "ml_client = MLClient.from_config(credential=credential)\n",
        "\n",
        "# ✅ Confirm connection\n",
        "print(\"\\n✅ Azure ML Workspace Loaded Successfully\\n\")\n",
        "print(f\"🔑 Subscription ID : {ml_client.subscription_id}\")\n",
        "print(f\"📦 Resource Group  : {ml_client.resource_group_name}\")\n",
        "print(f\"🧠 Workspace Name  : {ml_client.workspace_name}\\n\")"
      ]
    },
    {
      "cell_type": "markdown",
      "metadata": {},
      "source": [
        "## Grabbing the Name of the Storage Account"
      ]
    },
    {
      "cell_type": "code",
      "execution_count": 2,
      "metadata": {},
      "outputs": [
        {
          "name": "stdout",
          "output_type": "stream",
          "text": [
            "\n",
            "📦 Storage Accounts in Resource Group:\n",
            "• studperfstor\n",
            "\n",
            "✅ Using storage account named: studperfstor\n"
          ]
        }
      ],
      "source": [
        "from azure.mgmt.storage import StorageManagementClient\n",
        "\n",
        "subscription_id = ml_client.subscription_id  \n",
        "resource_group = ml_client.resource_group_name\n",
        "\n",
        "storage_client = StorageManagementClient(credential, subscription_id)\n",
        "\n",
        "# List storage accounts in the resource group\n",
        "accounts = list(storage_client.storage_accounts.list_by_resource_group(resource_group))\n",
        "\n",
        "# Check if any accounts exist\n",
        "if not accounts:\n",
        "    raise Exception(\"❌ No storage accounts found in this resource group.\")\n",
        "\n",
        "# Grab the first one\n",
        "storage_account_name = accounts[0].name\n",
        "\n",
        "# ✅ Optional: print them\n",
        "print(\"\\n📦 Storage Accounts in Resource Group:\")\n",
        "for account in accounts:\n",
        "    print(\"•\", account.name)\n",
        "\n",
        "print(f\"\\n✅ Using storage account named: {storage_account_name}\")"
      ]
    },
    {
      "cell_type": "markdown",
      "metadata": {},
      "source": [
        "## Grabbing the Name of the Container with JSON Data"
      ]
    },
    {
      "cell_type": "code",
      "execution_count": 3,
      "metadata": {},
      "outputs": [
        {
          "name": "stdout",
          "output_type": "stream",
          "text": [
            "\n",
            "📁 Blob Containers in the Storage Account (filtered):\n",
            "• student-math-project-files\n",
            "\n",
            "✅ Using container: student-math-project-files\n"
          ]
        }
      ],
      "source": [
        "from azure.storage.blob import BlobServiceClient\n",
        "\n",
        "# Get storage account keys\n",
        "keys = storage_client.storage_accounts.list_keys(resource_group, storage_account_name)\n",
        "storage_key = keys.keys[0].value\n",
        "\n",
        "# Build BlobServiceClient using account name and key\n",
        "account_url = f\"https://{storage_account_name}.blob.core.windows.net\"\n",
        "blob_service_client = BlobServiceClient(account_url=account_url, credential=storage_key)\n",
        "\n",
        "# List all containers and filter\n",
        "print(\"\\n📁 Blob Containers in the Storage Account (filtered):\")\n",
        "filtered_containers = [\n",
        "    container.name for container in blob_service_client.list_containers()\n",
        "    if \"insights\" not in container.name.lower() and \"azureml\" not in container.name.lower()\n",
        "]\n",
        "\n",
        "if not filtered_containers:\n",
        "    raise Exception(\"❌ No user-defined containers found (filtered out 'insights' and 'azureml').\")\n",
        "\n",
        "# Grab the first matching container\n",
        "container_name = filtered_containers[0]\n",
        "\n",
        "# ✅ Output\n",
        "for name in filtered_containers:\n",
        "    print(\"•\", name)\n",
        "\n",
        "print(f\"\\n✅ Using container: {container_name}\")"
      ]
    },
    {
      "cell_type": "markdown",
      "metadata": {},
      "source": [
        "## Locating the Name of the Config File"
      ]
    },
    {
      "cell_type": "code",
      "execution_count": 4,
      "metadata": {},
      "outputs": [
        {
          "name": "stdout",
          "output_type": "stream",
          "text": [
            "\n",
            "📄 Files in Container 'student-math-project-files':\n",
            "• config.json\n",
            "• student-mat.csv\n",
            "\n",
            "✅ Using config file: config.json\n"
          ]
        }
      ],
      "source": [
        "# Create a ContainerClient for the chosen container\n",
        "container_client = blob_service_client.get_container_client(container_name)\n",
        "\n",
        "# Find the first .json blob in the container\n",
        "config_name = None\n",
        "print(f\"\\n📄 Files in Container '{container_name}':\")\n",
        "\n",
        "for blob in container_client.list_blobs():\n",
        "    print(\"•\", blob.name)\n",
        "    if config_name is None and blob.name.lower().endswith(\".json\"):\n",
        "        config_name = blob.name\n",
        "\n",
        "if not config_name:\n",
        "    raise Exception(\"❌ No .json file found in this container.\")\n",
        "\n",
        "print(f\"\\n✅ Using config file: {config_name}\")"
      ]
    },
    {
      "cell_type": "markdown",
      "metadata": {},
      "source": [
        "## Importing Config Information and Saving It In Memory"
      ]
    },
    {
      "cell_type": "code",
      "execution_count": 5,
      "metadata": {},
      "outputs": [
        {
          "name": "stdout",
          "output_type": "stream",
          "text": [
            "\n",
            "📅 Workspace Metadata:\n",
            "  • Created At   : 2025-04-16T15:36:33+0200\n",
            "  • Date         : 16 April 2025\n",
            "  • Time         : 15:36:33 CEST\n",
            "\n",
            "🔐 Azure Configuration:\n",
            "  • Subscription ID      : 03571d3d-f675-492f-8346-8b04c78ed80f\n",
            "  • Resource Group       : student-performance-rg\n",
            "  • Location             : norwayeast\n",
            "  • Auth Mode            : managed_identity\n",
            "  • Managed Identity ID  : a4d92aeb-6282-4e38-8fbb-69806440a455\n",
            "\n",
            "📦 Storage:\n",
            "  • Account Name         : studperfstor\n",
            "  • Container URI        : https://studperfstor.blob.core.windows.net/student-math-project-files\n",
            "\n",
            "🧠 Workspace:\n",
            "  • Workspace Name       : student-performance-ws\n",
            "  • Storage Account ID   : /subscriptions/03571d3d-f675-492f-8346-8b04c78ed80f/resourceGroups/student-performance-rg/providers/Microsoft.Storage/storageAccounts/studperfstor\n",
            "  • Key Vault ID         : /subscriptions/03571d3d-f675-492f-8346-8b04c78ed80f/resourceGroups/student-performance-rg/providers/Microsoft.KeyVault/vaults/studentpkeyvault\n",
            "  • App Insights ID      : /subscriptions/03571d3d-f675-492f-8346-8b04c78ed80f/resourceGroups/student-performance-rg/providers/microsoft.insights/components/studentpappinsights\n",
            "\n",
            "🗃️ Datastore:\n",
            "  • Datastore Name       : studentmathdatastore\n",
            "  • Container Name       : student-math-project-files\n",
            "  • Blob Name            : student-mat.csv\n",
            "\n",
            "📊 Dataset:\n",
            "  • Dataset Name         : student-math\n",
            "  • Version              : 1\n",
            "  • Description          : Student performance data from a Portuguese school.\n",
            "  • URI                  : azureml://datastores/studentmathdatastore/paths/student-math-project-files/student-mat.csv\n",
            "  • Delimiter            : ;\n",
            "  • Encoding             : utf-8\n",
            "  • Has Header           : True\n",
            "\n",
            "🖥️ Compute:\n",
            "  • Compute Name         : notebook-compute\n",
            "  • Compute Size         : Standard_DS1_v2\n",
            "\n"
          ]
        }
      ],
      "source": [
        "import json\n",
        "from azure.storage.blob import BlobClient\n",
        "\n",
        "# === Build blob URL and load JSON ===\n",
        "blob_url = f\"https://{storage_account_name}.blob.core.windows.net/{container_name}/{config_name}\"\n",
        "blob_client = BlobClient.from_blob_url(blob_url, credential=credential)\n",
        "\n",
        "# Download and parse JSON\n",
        "json_bytes = blob_client.download_blob().readall()\n",
        "json_data = json.loads(json_bytes)\n",
        "\n",
        "# === Metadata ===\n",
        "created_at = json_data[\"metadata\"][\"created_at\"]\n",
        "created_year = json_data[\"metadata\"][\"created_year\"]\n",
        "created_month = json_data[\"metadata\"][\"created_month\"]\n",
        "created_day = json_data[\"metadata\"][\"created_day\"]\n",
        "created_time = json_data[\"metadata\"][\"created_time\"]\n",
        "\n",
        "# === Azure Info ===\n",
        "subscription_id = json_data[\"azure\"][\"subscription_id\"]\n",
        "resource_group = json_data[\"azure\"][\"resource_group\"]\n",
        "location = json_data[\"azure\"][\"location\"]\n",
        "storage_account_name = json_data[\"azure\"][\"storage_account_name\"]\n",
        "storage_container_uri = json_data[\"azure\"][\"storage_container_uri\"]\n",
        "managed_identity_principal_id = json_data[\"azure\"][\"managed_identity_principal_id\"]\n",
        "auth_mode = json_data[\"azure\"][\"auth_mode\"]\n",
        "\n",
        "# === Workspace Info ===\n",
        "workspace_name = json_data[\"workspace\"][\"workspace_name\"]\n",
        "storage_account_id = json_data[\"workspace\"][\"storage_account_id\"]\n",
        "key_vault_id = json_data[\"workspace\"][\"key_vault_id\"]\n",
        "app_insights_id = json_data[\"workspace\"][\"application_insights_id\"]\n",
        "\n",
        "# === Datastore Info ===\n",
        "datastore_name = json_data[\"datastore\"][\"datastore_name\"]\n",
        "container_name = json_data[\"datastore\"][\"container_name\"]\n",
        "blob_name = json_data[\"datastore\"][\"blob_name\"]\n",
        "\n",
        "# === Dataset Info ===\n",
        "dataset_name = json_data[\"dataset\"][\"dataset_name\"]\n",
        "dataset_uri = json_data[\"dataset\"][\"dataset_uri\"]\n",
        "dataset_version = json_data[\"dataset\"][\"dataset_version\"]\n",
        "dataset_description = json_data[\"dataset\"][\"dataset_description\"]\n",
        "delimiter = json_data[\"dataset\"][\"delimiter\"]\n",
        "encoding = json_data[\"dataset\"][\"encoding\"]\n",
        "has_header = json_data[\"dataset\"][\"has_header\"]\n",
        "\n",
        "# === Compute Info ===\n",
        "compute_name = json_data[\"compute\"][\"compute_name\"]\n",
        "compute_size = json_data[\"compute\"][\"compute_size\"]\n",
        "\n",
        "# === Pretty Print with Emojis ===\n",
        "print(\"\\n📅 Workspace Metadata:\")\n",
        "print(f\"  • Created At   : {created_at}\")\n",
        "print(f\"  • Date         : {created_day} {created_month} {created_year}\")\n",
        "print(f\"  • Time         : {created_time}\")\n",
        "\n",
        "print(\"\\n🔐 Azure Configuration:\")\n",
        "print(f\"  • Subscription ID      : {subscription_id}\")\n",
        "print(f\"  • Resource Group       : {resource_group}\")\n",
        "print(f\"  • Location             : {location}\")\n",
        "print(f\"  • Auth Mode            : {auth_mode}\")\n",
        "print(f\"  • Managed Identity ID  : {managed_identity_principal_id}\")\n",
        "\n",
        "print(\"\\n📦 Storage:\")\n",
        "print(f\"  • Account Name         : {storage_account_name}\")\n",
        "print(f\"  • Container URI        : {storage_container_uri}\")\n",
        "\n",
        "print(\"\\n🧠 Workspace:\")\n",
        "print(f\"  • Workspace Name       : {workspace_name}\")\n",
        "print(f\"  • Storage Account ID   : {storage_account_id}\")\n",
        "print(f\"  • Key Vault ID         : {key_vault_id}\")\n",
        "print(f\"  • App Insights ID      : {app_insights_id}\")\n",
        "\n",
        "print(\"\\n🗃️ Datastore:\")\n",
        "print(f\"  • Datastore Name       : {datastore_name}\")\n",
        "print(f\"  • Container Name       : {container_name}\")\n",
        "print(f\"  • Blob Name            : {blob_name}\")\n",
        "\n",
        "print(\"\\n📊 Dataset:\")\n",
        "print(f\"  • Dataset Name         : {dataset_name}\")\n",
        "print(f\"  • Version              : {dataset_version}\")\n",
        "print(f\"  • Description          : {dataset_description}\")\n",
        "print(f\"  • URI                  : {dataset_uri}\")\n",
        "print(f\"  • Delimiter            : {delimiter}\")\n",
        "print(f\"  • Encoding             : {encoding}\")\n",
        "print(f\"  • Has Header           : {has_header}\")\n",
        "\n",
        "print(\"\\n🖥️ Compute:\")\n",
        "print(f\"  • Compute Name         : {compute_name}\")\n",
        "print(f\"  • Compute Size         : {compute_size}\\n\")"
      ]
    },
    {
      "cell_type": "code",
      "execution_count": 8,
      "metadata": {},
      "outputs": [
        {
          "name": "stdout",
          "output_type": "stream",
          "text": [
            "\n",
            "📦 Fetching dataset 'student-math' (v1)...\n",
            "📄 Path: azureml://subscriptions/03571d3d-f675-492f-8346-8b04c78ed80f/resourcegroups/student-performance-rg/workspaces/student-performance-ws/datastores/studentmathdatastore/paths/student-mat.csv\n",
            "✅ Dataset loaded successfully!\n",
            "  school sex  age address famsize Pstatus  Medu  Fedu     Mjob      Fjob  ...  \\\n",
            "0     GP   F   18       U     GT3       A     4     4  at_home   teacher  ...   \n",
            "1     GP   F   17       U     GT3       T     1     1  at_home     other  ...   \n",
            "2     GP   F   15       U     LE3       T     1     1  at_home     other  ...   \n",
            "3     GP   F   15       U     GT3       T     4     2   health  services  ...   \n",
            "4     GP   F   16       U     GT3       T     3     3    other     other  ...   \n",
            "\n",
            "  famrel freetime  goout  Dalc  Walc health absences  G1  G2  G3  \n",
            "0      4        3      4     1     1      3        6   5   6   6  \n",
            "1      5        3      3     1     1      3        4   5   5   6  \n",
            "2      4        3      2     2     3      3       10   7   8  10  \n",
            "3      3        2      2     1     1      5        2  15  14  15  \n",
            "4      4        3      2     1     2      5        4   6  10  10  \n",
            "\n",
            "[5 rows x 33 columns]\n"
          ]
        }
      ],
      "source": [
        "from azure.ai.ml import MLClient\n",
        "from azure.identity import DefaultAzureCredential\n",
        "import pandas as pd\n",
        "\n",
        "# Constants (from your .env setup)\n",
        "dataset_name = \"student-math\"\n",
        "dataset_version = \"1\"\n",
        "delimiter = \";\"\n",
        "encoding = \"utf-8\"\n",
        "\n",
        "# Initialize MLClient (only if not already initialized)\n",
        "ml_client = MLClient(\n",
        "    DefaultAzureCredential(),\n",
        "    subscription_id=\"03571d3d-f675-492f-8346-8b04c78ed80f\",\n",
        "    resource_group_name=\"student-performance-rg\",\n",
        "    workspace_name=\"student-performance-ws\"\n",
        ")\n",
        "\n",
        "print(f\"\\n📦 Fetching dataset '{dataset_name}' (v{dataset_version})...\")\n",
        "\n",
        "try:\n",
        "    # SDK v2 style: directly fetch the dataset by name & version\n",
        "    dataset = ml_client.data.get(name=dataset_name, version=dataset_version)\n",
        "\n",
        "    if not dataset.path:\n",
        "        print(\"❌ No accessible path found in data asset.\")\n",
        "    else:\n",
        "        print(f\"📄 Path: {dataset.path}\")\n",
        "        df = pd.read_csv(dataset.path, delimiter=delimiter, encoding=encoding)\n",
        "        print(\"✅ Dataset loaded successfully!\")\n",
        "        print(df.head())\n",
        "except Exception as e:\n",
        "    print(\"❌ Failed to load dataset with pandas.\")\n",
        "    print(\"Error:\", e)"
      ]
    }
  ],
  "metadata": {
    "kernel_info": {
      "name": "python38-azureml"
    },
    "kernelspec": {
      "display_name": "Python 3.10 - SDK v2",
      "language": "python",
      "name": "python310-sdkv2"
    },
    "language_info": {
      "codemirror_mode": {
        "name": "ipython",
        "version": 3
      },
      "file_extension": ".py",
      "mimetype": "text/x-python",
      "name": "python",
      "nbconvert_exporter": "python",
      "pygments_lexer": "ipython3",
      "version": "3.10.14"
    },
    "microsoft": {
      "host": {
        "AzureML": {
          "notebookHasBeenCompleted": true
        }
      },
      "ms_spell_check": {
        "ms_spell_check_language": "en"
      }
    },
    "nteract": {
      "version": "nteract-front-end@1.0.0"
    }
  },
  "nbformat": 4,
  "nbformat_minor": 2
}
